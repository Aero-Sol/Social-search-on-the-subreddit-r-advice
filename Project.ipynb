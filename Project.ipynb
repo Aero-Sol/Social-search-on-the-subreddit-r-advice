{
 "cells": [
  {
   "cell_type": "markdown",
   "metadata": {
    "id": "z8mU22yPQO8e"
   },
   "source": [
    "# <center>**Social Search on r/advice**</center>"
   ]
  },
  {
   "cell_type": "markdown",
   "metadata": {
    "id": "Q0hIixDRSHrr"
   },
   "source": [
    "# **REDDIT DATASET CONSTRUCTION**"
   ]
  },
  {
   "cell_type": "markdown",
   "metadata": {
    "id": "g_ClgaAHUGom"
   },
   "source": [
    "## CREATION of *posts* and *comments* DATASET"
   ]
  },
  {
   "cell_type": "markdown",
   "metadata": {
    "id": "7NTXpth-pm0m"
   },
   "source": [
    "```\n",
    "import random\n",
    "import time\n",
    "import pandas as pd\n",
    "import praw\n",
    "import prawcore\n",
    "\n",
    "posts_data = []\n",
    "comments_data = []\n",
    "\n",
    "submissions = reddit.subreddit(\"advice\").top(limit=None)\n",
    "\n",
    "for submission in submissions:\n",
    "    if submission.num_comments <= 16:\n",
    "        continue\n",
    "\n",
    "    try:\n",
    "        submission.comments.replace_more(limit=0)\n",
    "    except prawcore.exceptions.TooManyRequests as e:\n",
    "        time.sleep(e.sleep_time)\n",
    "        continue\n",
    "    except Exception as e:\n",
    "        continue\n",
    "\n",
    "    top_level_comments = [c for c in submission.comments if c.is_root and c.ups >= 10 and c.ups <= 150]\n",
    "\n",
    "    if len(top_level_comments) <= 16:\n",
    "        continue\n",
    "\n",
    "    posts_data.append({\n",
    "        \"post_id\": submission.id,\n",
    "        \"post_title\": submission.title,\n",
    "        \"post_description\": submission.selftext\n",
    "    })\n",
    "\n",
    "    sampled_comments = random.sample(top_level_comments, 16)\n",
    "\n",
    "    for comment in sampled_comments:\n",
    "        try:\n",
    "            comments_data.append({\n",
    "                \"comment_id\": f\"{submission.id}_{comment.id}\",\n",
    "                \"text\": comment.body,\n",
    "                \"upvotes\": comment.ups,\n",
    "                \"replies\": len(comment.replies),\n",
    "                \"timestamp\": comment.created_utc,\n",
    "                \"karma_post\": getattr(submission.author, \"link_karma\", None),\n",
    "                \"karma_comments\": getattr(comment.author, \"comment_karma\", None)\n",
    "            })\n",
    "        except Exception as e:\n",
    "            continue\n",
    "\n",
    "    time.sleep(2)\n",
    "\n",
    "    if len(posts_data) >= 200:\n",
    "        break\n",
    "\n",
    "df_posts = pd.DataFrame(posts_data)\n",
    "df_comments = pd.DataFrame(comments_data)\n",
    "\n",
    "df_posts.to_csv(\"advice_titles_prov2.csv\", index=False, encoding=\"utf-8\")\n",
    "df_comments.to_csv(\"advice_comments_prov2.csv\", index=False, encoding=\"utf-8\")\n",
    "```"
   ]
  },
  {
   "cell_type": "markdown",
   "metadata": {},
   "source": [
    "This cell has been run only once, to avoid having different datasets every time the code is executed. The results were then stored in csv files to be loaded later"
   ]
  },
  {
   "cell_type": "code",
   "execution_count": null,
   "metadata": {
    "colab": {
     "base_uri": "https://localhost:8080/"
    },
    "executionInfo": {
     "elapsed": 6060,
     "status": "ok",
     "timestamp": 1751832165289,
     "user": {
      "displayName": "PIETRO SCAPINI",
      "userId": "06017685043124541547"
     },
     "user_tz": -120
    },
    "id": "Ee1hTRQJiD9S",
    "outputId": "74665866-b05e-4c44-ff6c-738dc7e39614"
   },
   "outputs": [
    {
     "name": "stdout",
     "output_type": "stream",
     "text": [
      "Collecting rank_bm25\n",
      "  Downloading rank_bm25-0.2.2-py3-none-any.whl.metadata (3.2 kB)\n",
      "Requirement already satisfied: numpy in /usr/local/lib/python3.11/dist-packages (from rank_bm25) (2.0.2)\n",
      "Downloading rank_bm25-0.2.2-py3-none-any.whl (8.6 kB)\n",
      "Installing collected packages: rank_bm25\n",
      "Successfully installed rank_bm25-0.2.2\n"
     ]
    }
   ],
   "source": [
    "%pip install rank_bm25"
   ]
  },
  {
   "cell_type": "code",
   "execution_count": null,
   "metadata": {
    "id": "2a1kPcUeuP4p"
   },
   "outputs": [],
   "source": [
    "import pandas as pd\n",
    "import matplotlib.pyplot as plt\n",
    "import seaborn as sns\n",
    "import numpy as np\n",
    "\n",
    "from wordcloud import WordCloud\n",
    "from collections import Counter\n",
    "from nltk.corpus import stopwords\n",
    "from nltk.tokenize import word_tokenize\n",
    "import nltk\n",
    "\n",
    "from rank_bm25 import BM25Okapi\n",
    "from sklearn.preprocessing import MinMaxScaler\n",
    "from transformers import AutoTokenizer, AutoModel\n",
    "import torch\n",
    "import torch.nn.functional as F\n",
    "from tqdm import tqdm"
   ]
  },
  {
   "cell_type": "markdown",
   "metadata": {
    "id": "TfmnJFFBFWBc"
   },
   "source": [
    "## LOADING *posts* DATASET"
   ]
  },
  {
   "cell_type": "code",
   "execution_count": null,
   "metadata": {
    "id": "BaPKlveTP30k"
   },
   "outputs": [],
   "source": [
    "df_posts = pd.read_csv('/content/advice_posts_def.csv')"
   ]
  },
  {
   "cell_type": "code",
   "execution_count": null,
   "metadata": {
    "colab": {
     "base_uri": "https://localhost:8080/",
     "height": 206
    },
    "executionInfo": {
     "elapsed": 81,
     "status": "ok",
     "timestamp": 1751832179973,
     "user": {
      "displayName": "PIETRO SCAPINI",
      "userId": "06017685043124541547"
     },
     "user_tz": -120
    },
    "id": "mM3BEnIZQpDy",
    "outputId": "bcb260aa-772b-469e-f3ab-e58609437957"
   },
   "outputs": [
    {
     "data": {
      "application/vnd.google.colaboratory.intrinsic+json": {
       "summary": "{\n  \"name\": \"df_posts\",\n  \"rows\": 165,\n  \"fields\": [\n    {\n      \"column\": \"post_id\",\n      \"properties\": {\n        \"dtype\": \"string\",\n        \"num_unique_values\": 165,\n        \"samples\": [\n          \"1bzvw5o\",\n          \"p3sibk\",\n          \"1fhf8rb\"\n        ],\n        \"semantic_type\": \"\",\n        \"description\": \"\"\n      }\n    },\n    {\n      \"column\": \"post_text\",\n      \"properties\": {\n        \"dtype\": \"string\",\n        \"num_unique_values\": 165,\n        \"samples\": [\n          \"Strongly suspect my husband of inappropriate behaviour with our daughter. I don't know what to do.\",\n          \"Wife has given hall pass, no idea how to use it\\u2026\",\n          \"My parents don't let me eat. I have a job. I'm not allowed to use the apliances(fridge, stove, oven, microwave) I was starving and made food when they were gone, I got yelled at and they threatened to throw it out. What foods can I buy that don't require cooking and don't attract bugs so I can hide?\"\n        ],\n        \"semantic_type\": \"\",\n        \"description\": \"\"\n      }\n    },\n    {\n      \"column\": \"post_description\",\n      \"properties\": {\n        \"dtype\": \"string\",\n        \"num_unique_values\": 160,\n        \"samples\": [\n          \"&#x200B;\\n\\nMy girlfriend for 2 months told me she had unlimited phone call minutes so she used to call me everyday for hours and we would sleep on the phone but she then finds out that she had to pay 400$ for the phone bill and now her parents want me to pay half of that since she spent 200$ calling me what should i do?\\n\\n\\ud83d\\udcf7  \\n \",\n          \"Me (19M) and my dad (52M) live together in a condo. My mom (53F) and him are separated, if that matters.\\n\\nFor context, here is how our living room in the condo is set up: both my dad's and my PC setups are in the living room, facing toward opposing walls.\\n\\nAnyway, I come home to the condo after a doctor's appointment. I go and sit down at my desk as usual. My dad and I are conversing about my appointment, just usual casual talk. While we're talking, he looks away casually to look at the kitchen (away from the living room), and I look away at the same time at his computer screen. He already has a bad habit of keeping applications open on his computer, even when he is away or asleep.\\n\\nAt a glance, I see pornography. I personally don't think much of it, because it isn't a crime to have porn. The man is single, so hey, everyone needs to get off sometimes. However, it did look strange. It was a paused video on an MP4 player, in a small window on his computer. He has other windows open too, but it's just normal casual Youtube stuff.\\n\\nI don't think he noticed that I saw what was on his screen. In fact, I don't even think he knew it was on his screen. He probably thought he closed it earlier or something.\\n\\nHe says he's going to get ready to play pool, so he goes to his room and the bathroom. While he's away,  I take a closer look at what's on his screen, and sure enough... it's of a little boy. Like no debate, it is of an underage child.\\n\\nI wanted to throw up and cry, I didn't think he would do anything like this. If there's one file, there's more on his hard drive for sure, right?\\n\\nI needed to play it off that I never noticed, once he comes back and tells me he's leaving to go play pool. So I hop on a game on my own computer to make it seem like I was too distracted by my own gaming to even notice what's on his computer screen across the room behind me. About 20 minutes later, he comes out, turns off his computer, and says he's leaving, all while I'm playing the game. It seems that it worked.\\n\\nI told my mother about what happened. I'm staying at my mom's place now. She seems to have the perspective about how to keep the family together, but I personally think this is already past a family matter. This isn't a victimless crime. I don't even know how long this has been going on. He's always been a good father to me, but I feel so disgusted. Has he ever looked at me the same way he looks at those little boys? How does he even acquire this stuff?\\n\\nWhat should I do? Should I file an anonymous claim? Should I confront him? Tell him to seek help?\\n\\n&#x200B;\\n\\nEDIT:\\n\\nMy girlfriend (19F) comes over on the weekends sometimes, and she prefers staying at my dad's condo than my mom's house, as there's more to do. I haven't told her anything about what I discovered about my father. I don't feel comfortable bringing her to the condo, especially if she's sleeping over. What should I tell her, if anything?\\n\\nAlso, my dad's own father has a history of pedophilia as well. My dad grew up to hate and despise him, as he abused and molested his own children. I feel that my dad, who knows well how child abuse and pedophilia can ruin a family, should know so much better than to do this.\",\n          \"TL;DR Discovered my husband has for a while been telling people I'm suicidal, and am generally mentally unstable. It's occured to me this could be part of an attempt to make it look like I commited suicide if I were to die suddenly. Am I being paranoid?\\n\\nI (26f) Have recently found reason to suggest my husband (29M) could be plotting to kill me and make it look like a suicide.\\n\\nYes, I realise how out there that sound, let me explain-\\n\\nMy reason for thinking is is because I discovered he has been secretly telling people we know, for a while, that I am apparently suicidal, along with other things to make me seem mentally unstable, as far as lying about having to call the police because I was a missing person. Recently the thought came to my mind, that this could be a way of making my death appear like a suicide, if he were to kill me, and I wanna share those thoughts to see what others think \\n\\nIt started after he one night told me not to go into the local store he works at, as he left early and had apparently used me as an excuse. Then not long after he happened to leave his messages open, and I noticed a conversation with his coworker about me, so curiosity got the better and I took a snoop. Turns out the excuse he'd used about me, was claiming that I'd gone missing and he needed to go look for me, adding the detail that I'm 'on suicide watch' even saying that he called the police. \\n   \\nOn another occasion, he said we can no longer go to his shop on Thursdays (It's the local store so we shop there regularly) because he'd told them he needed that day off as he takes me to therapy that day (This isn't true, we've never been to therapy)  \\n\\nMore recently we had similar incident, where he told me I couldn't go in the his shop as he'd used me as an excuse again. I Took another snoop and found he'd told them he needed to stay home with me due to my mental health. When he finally went back he told them that my brother is able to be with me now so he feels safe leaving me at home (I Haven't spoken to my brother in months)\\n\\nTo be clear, I have no history of mental health issues, never had to go to therapy, never been a missing person, nor has anyone ever had to call the police for me\\n\\nThis all also reminded me of a time a while ago, where he mentioned in casual conversation how he could get away with killing me, because no one would notice me missing. He explained how I don't talk to my friends or family regularly so they wouldn't realise I was gone, and he could just call my work and tell them I quit. This did creep me out at the time, but I brushed it off as a weird joke\\n\\nFor background, my husband is diagnosed with autism,  ADHD, and narcissistic personality disorder, he also has always had compulsive lying and anger issue. (I've Know of that since even before this) He also has a history of mistreating me, in a way some might call abusive. A lot of emotional abuse such as putting me down, both privately and in front of other,  being demanding and controling. He's never actually struck me physically, but has used threats of violence to get what he wants before\\n\\nAlthough all this concerns me, I also feel kinda silly for being concerned. Maybe I'm just paranoid, maybe I actually am as crazy as he's making me out to be? An outside perspective would be helpful.\\n\\nShould I do anything, or just ignore it and stop snooping?\\n\\n[EDIT: Apologies for the way I've been replying to comments so far, I realise I've been acting kinda stubborn and it isn't helpful. I'm Gonna pause reading the comments for a bit so I can come back with a more clear head. Please do continue commenting if you have anything though as I will read them]\\n\\n[UPDATE: (21/3/2023) I Have spoken to the council who say they will be able to provide me with emergency accommodation, I am currently making plans and waiting for an opportune time to leave]\"\n        ],\n        \"semantic_type\": \"\",\n        \"description\": \"\"\n      }\n    }\n  ]\n}",
       "type": "dataframe",
       "variable_name": "df_posts"
      },
      "text/html": [
       "\n",
       "  <div id=\"df-82cbd02c-3c8d-44a6-8d57-0aab336f0ab4\" class=\"colab-df-container\">\n",
       "    <div>\n",
       "<style scoped>\n",
       "    .dataframe tbody tr th:only-of-type {\n",
       "        vertical-align: middle;\n",
       "    }\n",
       "\n",
       "    .dataframe tbody tr th {\n",
       "        vertical-align: top;\n",
       "    }\n",
       "\n",
       "    .dataframe thead th {\n",
       "        text-align: right;\n",
       "    }\n",
       "</style>\n",
       "<table border=\"1\" class=\"dataframe\">\n",
       "  <thead>\n",
       "    <tr style=\"text-align: right;\">\n",
       "      <th></th>\n",
       "      <th>post_id</th>\n",
       "      <th>post_text</th>\n",
       "      <th>post_description</th>\n",
       "    </tr>\n",
       "  </thead>\n",
       "  <tbody>\n",
       "    <tr>\n",
       "      <th>0</th>\n",
       "      <td>1izle46</td>\n",
       "      <td>My Dad Left Us 15 Years Ago – Now He’s Dying a...</td>\n",
       "      <td>When I was 10, my dad walked out on our family...</td>\n",
       "    </tr>\n",
       "    <tr>\n",
       "      <th>1</th>\n",
       "      <td>1j6z84l</td>\n",
       "      <td>Girlfriend just punched me in the face multipl...</td>\n",
       "      <td>So my longtime girlfriend just had an absolute...</td>\n",
       "    </tr>\n",
       "    <tr>\n",
       "      <th>2</th>\n",
       "      <td>1hq4eut</td>\n",
       "      <td>My GF is in a medically induced coma and I am ...</td>\n",
       "      <td>\\nMy (34M) girlfriend (35F) started having chi...</td>\n",
       "    </tr>\n",
       "    <tr>\n",
       "      <th>3</th>\n",
       "      <td>1jxjlxv</td>\n",
       "      <td>Professor has been secretly docking points any...</td>\n",
       "      <td>My professor recently revealed that he’s been ...</td>\n",
       "    </tr>\n",
       "    <tr>\n",
       "      <th>4</th>\n",
       "      <td>1le1rhl</td>\n",
       "      <td>Gf gave me chlamydia</td>\n",
       "      <td>Gf of 6 months just tested positive for chlamy...</td>\n",
       "    </tr>\n",
       "  </tbody>\n",
       "</table>\n",
       "</div>\n",
       "    <div class=\"colab-df-buttons\">\n",
       "\n",
       "  <div class=\"colab-df-container\">\n",
       "    <button class=\"colab-df-convert\" onclick=\"convertToInteractive('df-82cbd02c-3c8d-44a6-8d57-0aab336f0ab4')\"\n",
       "            title=\"Convert this dataframe to an interactive table.\"\n",
       "            style=\"display:none;\">\n",
       "\n",
       "  <svg xmlns=\"http://www.w3.org/2000/svg\" height=\"24px\" viewBox=\"0 -960 960 960\">\n",
       "    <path d=\"M120-120v-720h720v720H120Zm60-500h600v-160H180v160Zm220 220h160v-160H400v160Zm0 220h160v-160H400v160ZM180-400h160v-160H180v160Zm440 0h160v-160H620v160ZM180-180h160v-160H180v160Zm440 0h160v-160H620v160Z\"/>\n",
       "  </svg>\n",
       "    </button>\n",
       "\n",
       "  <style>\n",
       "    .colab-df-container {\n",
       "      display:flex;\n",
       "      gap: 12px;\n",
       "    }\n",
       "\n",
       "    .colab-df-convert {\n",
       "      background-color: #E8F0FE;\n",
       "      border: none;\n",
       "      border-radius: 50%;\n",
       "      cursor: pointer;\n",
       "      display: none;\n",
       "      fill: #1967D2;\n",
       "      height: 32px;\n",
       "      padding: 0 0 0 0;\n",
       "      width: 32px;\n",
       "    }\n",
       "\n",
       "    .colab-df-convert:hover {\n",
       "      background-color: #E2EBFA;\n",
       "      box-shadow: 0px 1px 2px rgba(60, 64, 67, 0.3), 0px 1px 3px 1px rgba(60, 64, 67, 0.15);\n",
       "      fill: #174EA6;\n",
       "    }\n",
       "\n",
       "    .colab-df-buttons div {\n",
       "      margin-bottom: 4px;\n",
       "    }\n",
       "\n",
       "    [theme=dark] .colab-df-convert {\n",
       "      background-color: #3B4455;\n",
       "      fill: #D2E3FC;\n",
       "    }\n",
       "\n",
       "    [theme=dark] .colab-df-convert:hover {\n",
       "      background-color: #434B5C;\n",
       "      box-shadow: 0px 1px 3px 1px rgba(0, 0, 0, 0.15);\n",
       "      filter: drop-shadow(0px 1px 2px rgba(0, 0, 0, 0.3));\n",
       "      fill: #FFFFFF;\n",
       "    }\n",
       "  </style>\n",
       "\n",
       "    <script>\n",
       "      const buttonEl =\n",
       "        document.querySelector('#df-82cbd02c-3c8d-44a6-8d57-0aab336f0ab4 button.colab-df-convert');\n",
       "      buttonEl.style.display =\n",
       "        google.colab.kernel.accessAllowed ? 'block' : 'none';\n",
       "\n",
       "      async function convertToInteractive(key) {\n",
       "        const element = document.querySelector('#df-82cbd02c-3c8d-44a6-8d57-0aab336f0ab4');\n",
       "        const dataTable =\n",
       "          await google.colab.kernel.invokeFunction('convertToInteractive',\n",
       "                                                    [key], {});\n",
       "        if (!dataTable) return;\n",
       "\n",
       "        const docLinkHtml = 'Like what you see? Visit the ' +\n",
       "          '<a target=\"_blank\" href=https://colab.research.google.com/notebooks/data_table.ipynb>data table notebook</a>'\n",
       "          + ' to learn more about interactive tables.';\n",
       "        element.innerHTML = '';\n",
       "        dataTable['output_type'] = 'display_data';\n",
       "        await google.colab.output.renderOutput(dataTable, element);\n",
       "        const docLink = document.createElement('div');\n",
       "        docLink.innerHTML = docLinkHtml;\n",
       "        element.appendChild(docLink);\n",
       "      }\n",
       "    </script>\n",
       "  </div>\n",
       "\n",
       "\n",
       "    <div id=\"df-91611f8c-dfc8-4274-9df1-f5663cce6ad3\">\n",
       "      <button class=\"colab-df-quickchart\" onclick=\"quickchart('df-91611f8c-dfc8-4274-9df1-f5663cce6ad3')\"\n",
       "                title=\"Suggest charts\"\n",
       "                style=\"display:none;\">\n",
       "\n",
       "<svg xmlns=\"http://www.w3.org/2000/svg\" height=\"24px\"viewBox=\"0 0 24 24\"\n",
       "     width=\"24px\">\n",
       "    <g>\n",
       "        <path d=\"M19 3H5c-1.1 0-2 .9-2 2v14c0 1.1.9 2 2 2h14c1.1 0 2-.9 2-2V5c0-1.1-.9-2-2-2zM9 17H7v-7h2v7zm4 0h-2V7h2v10zm4 0h-2v-4h2v4z\"/>\n",
       "    </g>\n",
       "</svg>\n",
       "      </button>\n",
       "\n",
       "<style>\n",
       "  .colab-df-quickchart {\n",
       "      --bg-color: #E8F0FE;\n",
       "      --fill-color: #1967D2;\n",
       "      --hover-bg-color: #E2EBFA;\n",
       "      --hover-fill-color: #174EA6;\n",
       "      --disabled-fill-color: #AAA;\n",
       "      --disabled-bg-color: #DDD;\n",
       "  }\n",
       "\n",
       "  [theme=dark] .colab-df-quickchart {\n",
       "      --bg-color: #3B4455;\n",
       "      --fill-color: #D2E3FC;\n",
       "      --hover-bg-color: #434B5C;\n",
       "      --hover-fill-color: #FFFFFF;\n",
       "      --disabled-bg-color: #3B4455;\n",
       "      --disabled-fill-color: #666;\n",
       "  }\n",
       "\n",
       "  .colab-df-quickchart {\n",
       "    background-color: var(--bg-color);\n",
       "    border: none;\n",
       "    border-radius: 50%;\n",
       "    cursor: pointer;\n",
       "    display: none;\n",
       "    fill: var(--fill-color);\n",
       "    height: 32px;\n",
       "    padding: 0;\n",
       "    width: 32px;\n",
       "  }\n",
       "\n",
       "  .colab-df-quickchart:hover {\n",
       "    background-color: var(--hover-bg-color);\n",
       "    box-shadow: 0 1px 2px rgba(60, 64, 67, 0.3), 0 1px 3px 1px rgba(60, 64, 67, 0.15);\n",
       "    fill: var(--button-hover-fill-color);\n",
       "  }\n",
       "\n",
       "  .colab-df-quickchart-complete:disabled,\n",
       "  .colab-df-quickchart-complete:disabled:hover {\n",
       "    background-color: var(--disabled-bg-color);\n",
       "    fill: var(--disabled-fill-color);\n",
       "    box-shadow: none;\n",
       "  }\n",
       "\n",
       "  .colab-df-spinner {\n",
       "    border: 2px solid var(--fill-color);\n",
       "    border-color: transparent;\n",
       "    border-bottom-color: var(--fill-color);\n",
       "    animation:\n",
       "      spin 1s steps(1) infinite;\n",
       "  }\n",
       "\n",
       "  @keyframes spin {\n",
       "    0% {\n",
       "      border-color: transparent;\n",
       "      border-bottom-color: var(--fill-color);\n",
       "      border-left-color: var(--fill-color);\n",
       "    }\n",
       "    20% {\n",
       "      border-color: transparent;\n",
       "      border-left-color: var(--fill-color);\n",
       "      border-top-color: var(--fill-color);\n",
       "    }\n",
       "    30% {\n",
       "      border-color: transparent;\n",
       "      border-left-color: var(--fill-color);\n",
       "      border-top-color: var(--fill-color);\n",
       "      border-right-color: var(--fill-color);\n",
       "    }\n",
       "    40% {\n",
       "      border-color: transparent;\n",
       "      border-right-color: var(--fill-color);\n",
       "      border-top-color: var(--fill-color);\n",
       "    }\n",
       "    60% {\n",
       "      border-color: transparent;\n",
       "      border-right-color: var(--fill-color);\n",
       "    }\n",
       "    80% {\n",
       "      border-color: transparent;\n",
       "      border-right-color: var(--fill-color);\n",
       "      border-bottom-color: var(--fill-color);\n",
       "    }\n",
       "    90% {\n",
       "      border-color: transparent;\n",
       "      border-bottom-color: var(--fill-color);\n",
       "    }\n",
       "  }\n",
       "</style>\n",
       "\n",
       "      <script>\n",
       "        async function quickchart(key) {\n",
       "          const quickchartButtonEl =\n",
       "            document.querySelector('#' + key + ' button');\n",
       "          quickchartButtonEl.disabled = true;  // To prevent multiple clicks.\n",
       "          quickchartButtonEl.classList.add('colab-df-spinner');\n",
       "          try {\n",
       "            const charts = await google.colab.kernel.invokeFunction(\n",
       "                'suggestCharts', [key], {});\n",
       "          } catch (error) {\n",
       "            console.error('Error during call to suggestCharts:', error);\n",
       "          }\n",
       "          quickchartButtonEl.classList.remove('colab-df-spinner');\n",
       "          quickchartButtonEl.classList.add('colab-df-quickchart-complete');\n",
       "        }\n",
       "        (() => {\n",
       "          let quickchartButtonEl =\n",
       "            document.querySelector('#df-91611f8c-dfc8-4274-9df1-f5663cce6ad3 button');\n",
       "          quickchartButtonEl.style.display =\n",
       "            google.colab.kernel.accessAllowed ? 'block' : 'none';\n",
       "        })();\n",
       "      </script>\n",
       "    </div>\n",
       "\n",
       "    </div>\n",
       "  </div>\n"
      ],
      "text/plain": [
       "   post_id                                          post_text  \\\n",
       "0  1izle46  My Dad Left Us 15 Years Ago – Now He’s Dying a...   \n",
       "1  1j6z84l  Girlfriend just punched me in the face multipl...   \n",
       "2  1hq4eut  My GF is in a medically induced coma and I am ...   \n",
       "3  1jxjlxv  Professor has been secretly docking points any...   \n",
       "4  1le1rhl                               Gf gave me chlamydia   \n",
       "\n",
       "                                    post_description  \n",
       "0  When I was 10, my dad walked out on our family...  \n",
       "1  So my longtime girlfriend just had an absolute...  \n",
       "2  \\nMy (34M) girlfriend (35F) started having chi...  \n",
       "3  My professor recently revealed that he’s been ...  \n",
       "4  Gf of 6 months just tested positive for chlamy...  "
      ]
     },
     "execution_count": 4,
     "metadata": {},
     "output_type": "execute_result"
    }
   ],
   "source": [
    "df_posts.head()"
   ]
  },
  {
   "cell_type": "code",
   "execution_count": null,
   "metadata": {
    "colab": {
     "base_uri": "https://localhost:8080/"
    },
    "executionInfo": {
     "elapsed": 114,
     "status": "ok",
     "timestamp": 1751832180099,
     "user": {
      "displayName": "PIETRO SCAPINI",
      "userId": "06017685043124541547"
     },
     "user_tz": -120
    },
    "id": "5No_rRUpuVS5",
    "outputId": "36a72a5b-8a2b-487a-921b-3df0994b7424"
   },
   "outputs": [
    {
     "data": {
      "text/plain": [
       "(165, 3)"
      ]
     },
     "execution_count": 5,
     "metadata": {},
     "output_type": "execute_result"
    }
   ],
   "source": [
    "df_posts.shape"
   ]
  },
  {
   "cell_type": "markdown",
   "metadata": {
    "id": "9RePSnEEFppK"
   },
   "source": [
    "##  LOADING *comments* DATASET"
   ]
  },
  {
   "cell_type": "code",
   "execution_count": null,
   "metadata": {
    "id": "uFEk4TwAyXld"
   },
   "outputs": [],
   "source": [
    "df_comments = pd.read_csv('/content/advice_comments_def.csv').drop(columns=[\"Unnamed: 0\"])"
   ]
  },
  {
   "cell_type": "code",
   "execution_count": null,
   "metadata": {
    "colab": {
     "base_uri": "https://localhost:8080/",
     "height": 206
    },
    "executionInfo": {
     "elapsed": 59,
     "status": "ok",
     "timestamp": 1751832180176,
     "user": {
      "displayName": "PIETRO SCAPINI",
      "userId": "06017685043124541547"
     },
     "user_tz": -120
    },
    "id": "AWmKJM8typfV",
    "outputId": "5aa379e1-467e-40f4-d687-4dd3c21cf1e8"
   },
   "outputs": [
    {
     "data": {
      "application/vnd.google.colaboratory.intrinsic+json": {
       "summary": "{\n  \"name\": \"df_comments\",\n  \"rows\": 2640,\n  \"fields\": [\n    {\n      \"column\": \"comment_id\",\n      \"properties\": {\n        \"dtype\": \"string\",\n        \"num_unique_values\": 2640,\n        \"samples\": [\n          \"14f6u33_joyvx3u\",\n          \"1hq4eut_m4nb5lb\",\n          \"iqcvqt_g4rr6re\"\n        ],\n        \"semantic_type\": \"\",\n        \"description\": \"\"\n      }\n    },\n    {\n      \"column\": \"text\",\n      \"properties\": {\n        \"dtype\": \"string\",\n        \"num_unique_values\": 2568,\n        \"samples\": [\n          \"First: It's gone forever\\nSecond: She likes you\",\n          \"Info: are your parents cooking meth in your basement? Because in what kind of fucking world does a parent hear about this and think \\u201cdon\\u2019t call the cops, they\\u2019ll be in our business\\u201d? What business?? Jfc, be safe OP, keep a log of where/when you see this van, what the people inside are doing, what they look like, and any other data like that. This is so strange I...I just don\\u2019t have words\",\n          \"Of course.\"\n        ],\n        \"semantic_type\": \"\",\n        \"description\": \"\"\n      }\n    },\n    {\n      \"column\": \"upvotes\",\n      \"properties\": {\n        \"dtype\": \"number\",\n        \"std\": 33,\n        \"min\": 10,\n        \"max\": 150,\n        \"num_unique_values\": 141,\n        \"samples\": [\n          60,\n          94,\n          72\n        ],\n        \"semantic_type\": \"\",\n        \"description\": \"\"\n      }\n    },\n    {\n      \"column\": \"replies\",\n      \"properties\": {\n        \"dtype\": \"number\",\n        \"std\": 1,\n        \"min\": 0,\n        \"max\": 17,\n        \"num_unique_values\": 11,\n        \"samples\": [\n          5,\n          0,\n          8\n        ],\n        \"semantic_type\": \"\",\n        \"description\": \"\"\n      }\n    },\n    {\n      \"column\": \"timestamp\",\n      \"properties\": {\n        \"dtype\": \"number\",\n        \"std\": 62162467.852374926,\n        \"min\": 1538911204.0,\n        \"max\": 1751594026.0,\n        \"num_unique_values\": 2637,\n        \"samples\": [\n          1713804764.0,\n          1626975273.0,\n          1643664965.0\n        ],\n        \"semantic_type\": \"\",\n        \"description\": \"\"\n      }\n    },\n    {\n      \"column\": \"karma_post\",\n      \"properties\": {\n        \"dtype\": \"number\",\n        \"std\": 4642.19812600124,\n        \"min\": 626.0,\n        \"max\": 30342.0,\n        \"num_unique_values\": 123,\n        \"samples\": [\n          16661.0,\n          2432.0,\n          1266.0\n        ],\n        \"semantic_type\": \"\",\n        \"description\": \"\"\n      }\n    },\n    {\n      \"column\": \"karma_comments\",\n      \"properties\": {\n        \"dtype\": \"number\",\n        \"std\": 156010.7326106833,\n        \"min\": 2.0,\n        \"max\": 3712375.0,\n        \"num_unique_values\": 1924,\n        \"samples\": [\n          2654.0,\n          66905.0,\n          6129.0\n        ],\n        \"semantic_type\": \"\",\n        \"description\": \"\"\n      }\n    }\n  ]\n}",
       "type": "dataframe",
       "variable_name": "df_comments"
      },
      "text/html": [
       "\n",
       "  <div id=\"df-ee96e83d-224f-4703-bc8d-51ebdf844946\" class=\"colab-df-container\">\n",
       "    <div>\n",
       "<style scoped>\n",
       "    .dataframe tbody tr th:only-of-type {\n",
       "        vertical-align: middle;\n",
       "    }\n",
       "\n",
       "    .dataframe tbody tr th {\n",
       "        vertical-align: top;\n",
       "    }\n",
       "\n",
       "    .dataframe thead th {\n",
       "        text-align: right;\n",
       "    }\n",
       "</style>\n",
       "<table border=\"1\" class=\"dataframe\">\n",
       "  <thead>\n",
       "    <tr style=\"text-align: right;\">\n",
       "      <th></th>\n",
       "      <th>comment_id</th>\n",
       "      <th>text</th>\n",
       "      <th>upvotes</th>\n",
       "      <th>replies</th>\n",
       "      <th>timestamp</th>\n",
       "      <th>karma_post</th>\n",
       "      <th>karma_comments</th>\n",
       "    </tr>\n",
       "  </thead>\n",
       "  <tbody>\n",
       "    <tr>\n",
       "      <th>0</th>\n",
       "      <td>1izle46_mf3ts7q</td>\n",
       "      <td>Meh. Fuck him. For those who sow in flames, in...</td>\n",
       "      <td>17</td>\n",
       "      <td>0</td>\n",
       "      <td>1.740679e+09</td>\n",
       "      <td>8067.0</td>\n",
       "      <td>23664.0</td>\n",
       "    </tr>\n",
       "    <tr>\n",
       "      <th>1</th>\n",
       "      <td>1izle46_mf3whj8</td>\n",
       "      <td>So my dad bailed when I was only a year old. I...</td>\n",
       "      <td>33</td>\n",
       "      <td>4</td>\n",
       "      <td>1.740679e+09</td>\n",
       "      <td>8067.0</td>\n",
       "      <td>35002.0</td>\n",
       "    </tr>\n",
       "    <tr>\n",
       "      <th>2</th>\n",
       "      <td>1izle46_mf3u270</td>\n",
       "      <td>Absolutely not. Mine did the same. Classic cas...</td>\n",
       "      <td>38</td>\n",
       "      <td>0</td>\n",
       "      <td>1.740679e+09</td>\n",
       "      <td>8067.0</td>\n",
       "      <td>2141.0</td>\n",
       "    </tr>\n",
       "    <tr>\n",
       "      <th>3</th>\n",
       "      <td>1izle46_mf3sncb</td>\n",
       "      <td>You don't owe him anything, that's for sure, b...</td>\n",
       "      <td>30</td>\n",
       "      <td>1</td>\n",
       "      <td>1.740678e+09</td>\n",
       "      <td>8067.0</td>\n",
       "      <td>7914.0</td>\n",
       "    </tr>\n",
       "    <tr>\n",
       "      <th>4</th>\n",
       "      <td>1izle46_mf3sxrc</td>\n",
       "      <td>My dad did the same thing when I was 7. If I g...</td>\n",
       "      <td>122</td>\n",
       "      <td>7</td>\n",
       "      <td>1.740678e+09</td>\n",
       "      <td>8067.0</td>\n",
       "      <td>122650.0</td>\n",
       "    </tr>\n",
       "  </tbody>\n",
       "</table>\n",
       "</div>\n",
       "    <div class=\"colab-df-buttons\">\n",
       "\n",
       "  <div class=\"colab-df-container\">\n",
       "    <button class=\"colab-df-convert\" onclick=\"convertToInteractive('df-ee96e83d-224f-4703-bc8d-51ebdf844946')\"\n",
       "            title=\"Convert this dataframe to an interactive table.\"\n",
       "            style=\"display:none;\">\n",
       "\n",
       "  <svg xmlns=\"http://www.w3.org/2000/svg\" height=\"24px\" viewBox=\"0 -960 960 960\">\n",
       "    <path d=\"M120-120v-720h720v720H120Zm60-500h600v-160H180v160Zm220 220h160v-160H400v160Zm0 220h160v-160H400v160ZM180-400h160v-160H180v160Zm440 0h160v-160H620v160ZM180-180h160v-160H180v160Zm440 0h160v-160H620v160Z\"/>\n",
       "  </svg>\n",
       "    </button>\n",
       "\n",
       "  <style>\n",
       "    .colab-df-container {\n",
       "      display:flex;\n",
       "      gap: 12px;\n",
       "    }\n",
       "\n",
       "    .colab-df-convert {\n",
       "      background-color: #E8F0FE;\n",
       "      border: none;\n",
       "      border-radius: 50%;\n",
       "      cursor: pointer;\n",
       "      display: none;\n",
       "      fill: #1967D2;\n",
       "      height: 32px;\n",
       "      padding: 0 0 0 0;\n",
       "      width: 32px;\n",
       "    }\n",
       "\n",
       "    .colab-df-convert:hover {\n",
       "      background-color: #E2EBFA;\n",
       "      box-shadow: 0px 1px 2px rgba(60, 64, 67, 0.3), 0px 1px 3px 1px rgba(60, 64, 67, 0.15);\n",
       "      fill: #174EA6;\n",
       "    }\n",
       "\n",
       "    .colab-df-buttons div {\n",
       "      margin-bottom: 4px;\n",
       "    }\n",
       "\n",
       "    [theme=dark] .colab-df-convert {\n",
       "      background-color: #3B4455;\n",
       "      fill: #D2E3FC;\n",
       "    }\n",
       "\n",
       "    [theme=dark] .colab-df-convert:hover {\n",
       "      background-color: #434B5C;\n",
       "      box-shadow: 0px 1px 3px 1px rgba(0, 0, 0, 0.15);\n",
       "      filter: drop-shadow(0px 1px 2px rgba(0, 0, 0, 0.3));\n",
       "      fill: #FFFFFF;\n",
       "    }\n",
       "  </style>\n",
       "\n",
       "    <script>\n",
       "      const buttonEl =\n",
       "        document.querySelector('#df-ee96e83d-224f-4703-bc8d-51ebdf844946 button.colab-df-convert');\n",
       "      buttonEl.style.display =\n",
       "        google.colab.kernel.accessAllowed ? 'block' : 'none';\n",
       "\n",
       "      async function convertToInteractive(key) {\n",
       "        const element = document.querySelector('#df-ee96e83d-224f-4703-bc8d-51ebdf844946');\n",
       "        const dataTable =\n",
       "          await google.colab.kernel.invokeFunction('convertToInteractive',\n",
       "                                                    [key], {});\n",
       "        if (!dataTable) return;\n",
       "\n",
       "        const docLinkHtml = 'Like what you see? Visit the ' +\n",
       "          '<a target=\"_blank\" href=https://colab.research.google.com/notebooks/data_table.ipynb>data table notebook</a>'\n",
       "          + ' to learn more about interactive tables.';\n",
       "        element.innerHTML = '';\n",
       "        dataTable['output_type'] = 'display_data';\n",
       "        await google.colab.output.renderOutput(dataTable, element);\n",
       "        const docLink = document.createElement('div');\n",
       "        docLink.innerHTML = docLinkHtml;\n",
       "        element.appendChild(docLink);\n",
       "      }\n",
       "    </script>\n",
       "  </div>\n",
       "\n",
       "\n",
       "    <div id=\"df-9ae911d4-1916-4a89-8739-cb59c390dde3\">\n",
       "      <button class=\"colab-df-quickchart\" onclick=\"quickchart('df-9ae911d4-1916-4a89-8739-cb59c390dde3')\"\n",
       "                title=\"Suggest charts\"\n",
       "                style=\"display:none;\">\n",
       "\n",
       "<svg xmlns=\"http://www.w3.org/2000/svg\" height=\"24px\"viewBox=\"0 0 24 24\"\n",
       "     width=\"24px\">\n",
       "    <g>\n",
       "        <path d=\"M19 3H5c-1.1 0-2 .9-2 2v14c0 1.1.9 2 2 2h14c1.1 0 2-.9 2-2V5c0-1.1-.9-2-2-2zM9 17H7v-7h2v7zm4 0h-2V7h2v10zm4 0h-2v-4h2v4z\"/>\n",
       "    </g>\n",
       "</svg>\n",
       "      </button>\n",
       "\n",
       "<style>\n",
       "  .colab-df-quickchart {\n",
       "      --bg-color: #E8F0FE;\n",
       "      --fill-color: #1967D2;\n",
       "      --hover-bg-color: #E2EBFA;\n",
       "      --hover-fill-color: #174EA6;\n",
       "      --disabled-fill-color: #AAA;\n",
       "      --disabled-bg-color: #DDD;\n",
       "  }\n",
       "\n",
       "  [theme=dark] .colab-df-quickchart {\n",
       "      --bg-color: #3B4455;\n",
       "      --fill-color: #D2E3FC;\n",
       "      --hover-bg-color: #434B5C;\n",
       "      --hover-fill-color: #FFFFFF;\n",
       "      --disabled-bg-color: #3B4455;\n",
       "      --disabled-fill-color: #666;\n",
       "  }\n",
       "\n",
       "  .colab-df-quickchart {\n",
       "    background-color: var(--bg-color);\n",
       "    border: none;\n",
       "    border-radius: 50%;\n",
       "    cursor: pointer;\n",
       "    display: none;\n",
       "    fill: var(--fill-color);\n",
       "    height: 32px;\n",
       "    padding: 0;\n",
       "    width: 32px;\n",
       "  }\n",
       "\n",
       "  .colab-df-quickchart:hover {\n",
       "    background-color: var(--hover-bg-color);\n",
       "    box-shadow: 0 1px 2px rgba(60, 64, 67, 0.3), 0 1px 3px 1px rgba(60, 64, 67, 0.15);\n",
       "    fill: var(--button-hover-fill-color);\n",
       "  }\n",
       "\n",
       "  .colab-df-quickchart-complete:disabled,\n",
       "  .colab-df-quickchart-complete:disabled:hover {\n",
       "    background-color: var(--disabled-bg-color);\n",
       "    fill: var(--disabled-fill-color);\n",
       "    box-shadow: none;\n",
       "  }\n",
       "\n",
       "  .colab-df-spinner {\n",
       "    border: 2px solid var(--fill-color);\n",
       "    border-color: transparent;\n",
       "    border-bottom-color: var(--fill-color);\n",
       "    animation:\n",
       "      spin 1s steps(1) infinite;\n",
       "  }\n",
       "\n",
       "  @keyframes spin {\n",
       "    0% {\n",
       "      border-color: transparent;\n",
       "      border-bottom-color: var(--fill-color);\n",
       "      border-left-color: var(--fill-color);\n",
       "    }\n",
       "    20% {\n",
       "      border-color: transparent;\n",
       "      border-left-color: var(--fill-color);\n",
       "      border-top-color: var(--fill-color);\n",
       "    }\n",
       "    30% {\n",
       "      border-color: transparent;\n",
       "      border-left-color: var(--fill-color);\n",
       "      border-top-color: var(--fill-color);\n",
       "      border-right-color: var(--fill-color);\n",
       "    }\n",
       "    40% {\n",
       "      border-color: transparent;\n",
       "      border-right-color: var(--fill-color);\n",
       "      border-top-color: var(--fill-color);\n",
       "    }\n",
       "    60% {\n",
       "      border-color: transparent;\n",
       "      border-right-color: var(--fill-color);\n",
       "    }\n",
       "    80% {\n",
       "      border-color: transparent;\n",
       "      border-right-color: var(--fill-color);\n",
       "      border-bottom-color: var(--fill-color);\n",
       "    }\n",
       "    90% {\n",
       "      border-color: transparent;\n",
       "      border-bottom-color: var(--fill-color);\n",
       "    }\n",
       "  }\n",
       "</style>\n",
       "\n",
       "      <script>\n",
       "        async function quickchart(key) {\n",
       "          const quickchartButtonEl =\n",
       "            document.querySelector('#' + key + ' button');\n",
       "          quickchartButtonEl.disabled = true;  // To prevent multiple clicks.\n",
       "          quickchartButtonEl.classList.add('colab-df-spinner');\n",
       "          try {\n",
       "            const charts = await google.colab.kernel.invokeFunction(\n",
       "                'suggestCharts', [key], {});\n",
       "          } catch (error) {\n",
       "            console.error('Error during call to suggestCharts:', error);\n",
       "          }\n",
       "          quickchartButtonEl.classList.remove('colab-df-spinner');\n",
       "          quickchartButtonEl.classList.add('colab-df-quickchart-complete');\n",
       "        }\n",
       "        (() => {\n",
       "          let quickchartButtonEl =\n",
       "            document.querySelector('#df-9ae911d4-1916-4a89-8739-cb59c390dde3 button');\n",
       "          quickchartButtonEl.style.display =\n",
       "            google.colab.kernel.accessAllowed ? 'block' : 'none';\n",
       "        })();\n",
       "      </script>\n",
       "    </div>\n",
       "\n",
       "    </div>\n",
       "  </div>\n"
      ],
      "text/plain": [
       "        comment_id                                               text  \\\n",
       "0  1izle46_mf3ts7q  Meh. Fuck him. For those who sow in flames, in...   \n",
       "1  1izle46_mf3whj8  So my dad bailed when I was only a year old. I...   \n",
       "2  1izle46_mf3u270  Absolutely not. Mine did the same. Classic cas...   \n",
       "3  1izle46_mf3sncb  You don't owe him anything, that's for sure, b...   \n",
       "4  1izle46_mf3sxrc  My dad did the same thing when I was 7. If I g...   \n",
       "\n",
       "   upvotes  replies     timestamp  karma_post  karma_comments  \n",
       "0       17        0  1.740679e+09      8067.0         23664.0  \n",
       "1       33        4  1.740679e+09      8067.0         35002.0  \n",
       "2       38        0  1.740679e+09      8067.0          2141.0  \n",
       "3       30        1  1.740678e+09      8067.0          7914.0  \n",
       "4      122        7  1.740678e+09      8067.0        122650.0  "
      ]
     },
     "execution_count": 7,
     "metadata": {},
     "output_type": "execute_result"
    }
   ],
   "source": [
    "df_comments.head()"
   ]
  },
  {
   "cell_type": "code",
   "execution_count": null,
   "metadata": {
    "colab": {
     "base_uri": "https://localhost:8080/"
    },
    "executionInfo": {
     "elapsed": 27,
     "status": "ok",
     "timestamp": 1751832180206,
     "user": {
      "displayName": "PIETRO SCAPINI",
      "userId": "06017685043124541547"
     },
     "user_tz": -120
    },
    "id": "G7ZyQeT1yrRi",
    "outputId": "75526773-5c77-4703-c6ac-459d2961df65"
   },
   "outputs": [
    {
     "data": {
      "text/plain": [
       "(2640, 7)"
      ]
     },
     "execution_count": 8,
     "metadata": {},
     "output_type": "execute_result"
    }
   ],
   "source": [
    "df_comments.shape"
   ]
  },
  {
   "cell_type": "markdown",
   "metadata": {
    "id": "_gzm2ZcJHQ_w"
   },
   "source": [
    "##  CREATION of *qrels* DATASET"
   ]
  },
  {
   "cell_type": "code",
   "execution_count": null,
   "metadata": {
    "id": "ThLXObIRy9sE"
   },
   "outputs": [],
   "source": [
    "df_qrels = df_comments.copy()"
   ]
  },
  {
   "cell_type": "code",
   "execution_count": null,
   "metadata": {
    "id": "NUQ7mXQbzJKN"
   },
   "outputs": [],
   "source": [
    "df_qrels = df_qrels.drop(columns=['replies', 'timestamp', 'karma_post', 'karma_comments', 'text'])"
   ]
  },
  {
   "cell_type": "code",
   "execution_count": null,
   "metadata": {
    "colab": {
     "base_uri": "https://localhost:8080/",
     "height": 206
    },
    "executionInfo": {
     "elapsed": 11,
     "status": "ok",
     "timestamp": 1751832180245,
     "user": {
      "displayName": "PIETRO SCAPINI",
      "userId": "06017685043124541547"
     },
     "user_tz": -120
    },
    "id": "OTVlCsxMzk23",
    "outputId": "0b296d15-d3ca-4423-b369-843bf11612f6"
   },
   "outputs": [
    {
     "data": {
      "application/vnd.google.colaboratory.intrinsic+json": {
       "summary": "{\n  \"name\": \"df_qrels\",\n  \"rows\": 2640,\n  \"fields\": [\n    {\n      \"column\": \"post_id\",\n      \"properties\": {\n        \"dtype\": \"category\",\n        \"num_unique_values\": 165,\n        \"samples\": [\n          \"1bzvw5o\",\n          \"p3sibk\",\n          \"1fhf8rb\"\n        ],\n        \"semantic_type\": \"\",\n        \"description\": \"\"\n      }\n    },\n    {\n      \"column\": \"comment_id\",\n      \"properties\": {\n        \"dtype\": \"string\",\n        \"num_unique_values\": 2640,\n        \"samples\": [\n          \"14f6u33_joyvx3u\",\n          \"1hq4eut_m4nb5lb\",\n          \"iqcvqt_g4rr6re\"\n        ],\n        \"semantic_type\": \"\",\n        \"description\": \"\"\n      }\n    },\n    {\n      \"column\": \"upvotes\",\n      \"properties\": {\n        \"dtype\": \"number\",\n        \"std\": 33,\n        \"min\": 10,\n        \"max\": 150,\n        \"num_unique_values\": 141,\n        \"samples\": [\n          60,\n          94,\n          72\n        ],\n        \"semantic_type\": \"\",\n        \"description\": \"\"\n      }\n    }\n  ]\n}",
       "type": "dataframe",
       "variable_name": "df_qrels"
      },
      "text/html": [
       "\n",
       "  <div id=\"df-0f0d511e-233a-45f0-8d10-6b88a2a8e646\" class=\"colab-df-container\">\n",
       "    <div>\n",
       "<style scoped>\n",
       "    .dataframe tbody tr th:only-of-type {\n",
       "        vertical-align: middle;\n",
       "    }\n",
       "\n",
       "    .dataframe tbody tr th {\n",
       "        vertical-align: top;\n",
       "    }\n",
       "\n",
       "    .dataframe thead th {\n",
       "        text-align: right;\n",
       "    }\n",
       "</style>\n",
       "<table border=\"1\" class=\"dataframe\">\n",
       "  <thead>\n",
       "    <tr style=\"text-align: right;\">\n",
       "      <th></th>\n",
       "      <th>post_id</th>\n",
       "      <th>comment_id</th>\n",
       "      <th>upvotes</th>\n",
       "    </tr>\n",
       "  </thead>\n",
       "  <tbody>\n",
       "    <tr>\n",
       "      <th>0</th>\n",
       "      <td>1izle46</td>\n",
       "      <td>1izle46_mf3ts7q</td>\n",
       "      <td>17</td>\n",
       "    </tr>\n",
       "    <tr>\n",
       "      <th>1</th>\n",
       "      <td>1izle46</td>\n",
       "      <td>1izle46_mf3whj8</td>\n",
       "      <td>33</td>\n",
       "    </tr>\n",
       "    <tr>\n",
       "      <th>2</th>\n",
       "      <td>1izle46</td>\n",
       "      <td>1izle46_mf3u270</td>\n",
       "      <td>38</td>\n",
       "    </tr>\n",
       "    <tr>\n",
       "      <th>3</th>\n",
       "      <td>1izle46</td>\n",
       "      <td>1izle46_mf3sncb</td>\n",
       "      <td>30</td>\n",
       "    </tr>\n",
       "    <tr>\n",
       "      <th>4</th>\n",
       "      <td>1izle46</td>\n",
       "      <td>1izle46_mf3sxrc</td>\n",
       "      <td>122</td>\n",
       "    </tr>\n",
       "  </tbody>\n",
       "</table>\n",
       "</div>\n",
       "    <div class=\"colab-df-buttons\">\n",
       "\n",
       "  <div class=\"colab-df-container\">\n",
       "    <button class=\"colab-df-convert\" onclick=\"convertToInteractive('df-0f0d511e-233a-45f0-8d10-6b88a2a8e646')\"\n",
       "            title=\"Convert this dataframe to an interactive table.\"\n",
       "            style=\"display:none;\">\n",
       "\n",
       "  <svg xmlns=\"http://www.w3.org/2000/svg\" height=\"24px\" viewBox=\"0 -960 960 960\">\n",
       "    <path d=\"M120-120v-720h720v720H120Zm60-500h600v-160H180v160Zm220 220h160v-160H400v160Zm0 220h160v-160H400v160ZM180-400h160v-160H180v160Zm440 0h160v-160H620v160ZM180-180h160v-160H180v160Zm440 0h160v-160H620v160Z\"/>\n",
       "  </svg>\n",
       "    </button>\n",
       "\n",
       "  <style>\n",
       "    .colab-df-container {\n",
       "      display:flex;\n",
       "      gap: 12px;\n",
       "    }\n",
       "\n",
       "    .colab-df-convert {\n",
       "      background-color: #E8F0FE;\n",
       "      border: none;\n",
       "      border-radius: 50%;\n",
       "      cursor: pointer;\n",
       "      display: none;\n",
       "      fill: #1967D2;\n",
       "      height: 32px;\n",
       "      padding: 0 0 0 0;\n",
       "      width: 32px;\n",
       "    }\n",
       "\n",
       "    .colab-df-convert:hover {\n",
       "      background-color: #E2EBFA;\n",
       "      box-shadow: 0px 1px 2px rgba(60, 64, 67, 0.3), 0px 1px 3px 1px rgba(60, 64, 67, 0.15);\n",
       "      fill: #174EA6;\n",
       "    }\n",
       "\n",
       "    .colab-df-buttons div {\n",
       "      margin-bottom: 4px;\n",
       "    }\n",
       "\n",
       "    [theme=dark] .colab-df-convert {\n",
       "      background-color: #3B4455;\n",
       "      fill: #D2E3FC;\n",
       "    }\n",
       "\n",
       "    [theme=dark] .colab-df-convert:hover {\n",
       "      background-color: #434B5C;\n",
       "      box-shadow: 0px 1px 3px 1px rgba(0, 0, 0, 0.15);\n",
       "      filter: drop-shadow(0px 1px 2px rgba(0, 0, 0, 0.3));\n",
       "      fill: #FFFFFF;\n",
       "    }\n",
       "  </style>\n",
       "\n",
       "    <script>\n",
       "      const buttonEl =\n",
       "        document.querySelector('#df-0f0d511e-233a-45f0-8d10-6b88a2a8e646 button.colab-df-convert');\n",
       "      buttonEl.style.display =\n",
       "        google.colab.kernel.accessAllowed ? 'block' : 'none';\n",
       "\n",
       "      async function convertToInteractive(key) {\n",
       "        const element = document.querySelector('#df-0f0d511e-233a-45f0-8d10-6b88a2a8e646');\n",
       "        const dataTable =\n",
       "          await google.colab.kernel.invokeFunction('convertToInteractive',\n",
       "                                                    [key], {});\n",
       "        if (!dataTable) return;\n",
       "\n",
       "        const docLinkHtml = 'Like what you see? Visit the ' +\n",
       "          '<a target=\"_blank\" href=https://colab.research.google.com/notebooks/data_table.ipynb>data table notebook</a>'\n",
       "          + ' to learn more about interactive tables.';\n",
       "        element.innerHTML = '';\n",
       "        dataTable['output_type'] = 'display_data';\n",
       "        await google.colab.output.renderOutput(dataTable, element);\n",
       "        const docLink = document.createElement('div');\n",
       "        docLink.innerHTML = docLinkHtml;\n",
       "        element.appendChild(docLink);\n",
       "      }\n",
       "    </script>\n",
       "  </div>\n",
       "\n",
       "\n",
       "    <div id=\"df-99f018fd-63dd-405e-8303-ce00f63a3dde\">\n",
       "      <button class=\"colab-df-quickchart\" onclick=\"quickchart('df-99f018fd-63dd-405e-8303-ce00f63a3dde')\"\n",
       "                title=\"Suggest charts\"\n",
       "                style=\"display:none;\">\n",
       "\n",
       "<svg xmlns=\"http://www.w3.org/2000/svg\" height=\"24px\"viewBox=\"0 0 24 24\"\n",
       "     width=\"24px\">\n",
       "    <g>\n",
       "        <path d=\"M19 3H5c-1.1 0-2 .9-2 2v14c0 1.1.9 2 2 2h14c1.1 0 2-.9 2-2V5c0-1.1-.9-2-2-2zM9 17H7v-7h2v7zm4 0h-2V7h2v10zm4 0h-2v-4h2v4z\"/>\n",
       "    </g>\n",
       "</svg>\n",
       "      </button>\n",
       "\n",
       "<style>\n",
       "  .colab-df-quickchart {\n",
       "      --bg-color: #E8F0FE;\n",
       "      --fill-color: #1967D2;\n",
       "      --hover-bg-color: #E2EBFA;\n",
       "      --hover-fill-color: #174EA6;\n",
       "      --disabled-fill-color: #AAA;\n",
       "      --disabled-bg-color: #DDD;\n",
       "  }\n",
       "\n",
       "  [theme=dark] .colab-df-quickchart {\n",
       "      --bg-color: #3B4455;\n",
       "      --fill-color: #D2E3FC;\n",
       "      --hover-bg-color: #434B5C;\n",
       "      --hover-fill-color: #FFFFFF;\n",
       "      --disabled-bg-color: #3B4455;\n",
       "      --disabled-fill-color: #666;\n",
       "  }\n",
       "\n",
       "  .colab-df-quickchart {\n",
       "    background-color: var(--bg-color);\n",
       "    border: none;\n",
       "    border-radius: 50%;\n",
       "    cursor: pointer;\n",
       "    display: none;\n",
       "    fill: var(--fill-color);\n",
       "    height: 32px;\n",
       "    padding: 0;\n",
       "    width: 32px;\n",
       "  }\n",
       "\n",
       "  .colab-df-quickchart:hover {\n",
       "    background-color: var(--hover-bg-color);\n",
       "    box-shadow: 0 1px 2px rgba(60, 64, 67, 0.3), 0 1px 3px 1px rgba(60, 64, 67, 0.15);\n",
       "    fill: var(--button-hover-fill-color);\n",
       "  }\n",
       "\n",
       "  .colab-df-quickchart-complete:disabled,\n",
       "  .colab-df-quickchart-complete:disabled:hover {\n",
       "    background-color: var(--disabled-bg-color);\n",
       "    fill: var(--disabled-fill-color);\n",
       "    box-shadow: none;\n",
       "  }\n",
       "\n",
       "  .colab-df-spinner {\n",
       "    border: 2px solid var(--fill-color);\n",
       "    border-color: transparent;\n",
       "    border-bottom-color: var(--fill-color);\n",
       "    animation:\n",
       "      spin 1s steps(1) infinite;\n",
       "  }\n",
       "\n",
       "  @keyframes spin {\n",
       "    0% {\n",
       "      border-color: transparent;\n",
       "      border-bottom-color: var(--fill-color);\n",
       "      border-left-color: var(--fill-color);\n",
       "    }\n",
       "    20% {\n",
       "      border-color: transparent;\n",
       "      border-left-color: var(--fill-color);\n",
       "      border-top-color: var(--fill-color);\n",
       "    }\n",
       "    30% {\n",
       "      border-color: transparent;\n",
       "      border-left-color: var(--fill-color);\n",
       "      border-top-color: var(--fill-color);\n",
       "      border-right-color: var(--fill-color);\n",
       "    }\n",
       "    40% {\n",
       "      border-color: transparent;\n",
       "      border-right-color: var(--fill-color);\n",
       "      border-top-color: var(--fill-color);\n",
       "    }\n",
       "    60% {\n",
       "      border-color: transparent;\n",
       "      border-right-color: var(--fill-color);\n",
       "    }\n",
       "    80% {\n",
       "      border-color: transparent;\n",
       "      border-right-color: var(--fill-color);\n",
       "      border-bottom-color: var(--fill-color);\n",
       "    }\n",
       "    90% {\n",
       "      border-color: transparent;\n",
       "      border-bottom-color: var(--fill-color);\n",
       "    }\n",
       "  }\n",
       "</style>\n",
       "\n",
       "      <script>\n",
       "        async function quickchart(key) {\n",
       "          const quickchartButtonEl =\n",
       "            document.querySelector('#' + key + ' button');\n",
       "          quickchartButtonEl.disabled = true;  // To prevent multiple clicks.\n",
       "          quickchartButtonEl.classList.add('colab-df-spinner');\n",
       "          try {\n",
       "            const charts = await google.colab.kernel.invokeFunction(\n",
       "                'suggestCharts', [key], {});\n",
       "          } catch (error) {\n",
       "            console.error('Error during call to suggestCharts:', error);\n",
       "          }\n",
       "          quickchartButtonEl.classList.remove('colab-df-spinner');\n",
       "          quickchartButtonEl.classList.add('colab-df-quickchart-complete');\n",
       "        }\n",
       "        (() => {\n",
       "          let quickchartButtonEl =\n",
       "            document.querySelector('#df-99f018fd-63dd-405e-8303-ce00f63a3dde button');\n",
       "          quickchartButtonEl.style.display =\n",
       "            google.colab.kernel.accessAllowed ? 'block' : 'none';\n",
       "        })();\n",
       "      </script>\n",
       "    </div>\n",
       "\n",
       "    </div>\n",
       "  </div>\n"
      ],
      "text/plain": [
       "   post_id       comment_id  upvotes\n",
       "0  1izle46  1izle46_mf3ts7q       17\n",
       "1  1izle46  1izle46_mf3whj8       33\n",
       "2  1izle46  1izle46_mf3u270       38\n",
       "3  1izle46  1izle46_mf3sncb       30\n",
       "4  1izle46  1izle46_mf3sxrc      122"
      ]
     },
     "execution_count": 11,
     "metadata": {},
     "output_type": "execute_result"
    }
   ],
   "source": [
    "df_qrels['post_id'] = df_qrels['comment_id'].apply(lambda x: x.split('_')[0])\n",
    "df_qrels.insert(0, 'post_id', df_qrels.pop('post_id'))\n",
    "df_qrels.head()"
   ]
  },
  {
   "cell_type": "markdown",
   "metadata": {
    "id": "rX-A5vM_KNkh"
   },
   "source": [
    "Rank comments using the Wilson score to balance high upvote ratios with vote count.\n",
    "* Balances upvote ratio with total votes\n",
    "\n",
    "* Penalizes low-vote, high-ratio comments\n",
    "\n",
    "* Rewards consistently upvoted comments over time\n",
    "\n",
    "* Based on 95% confidence interval (z = 1.96)"
   ]
  },
  {
   "cell_type": "code",
   "execution_count": null,
   "metadata": {
    "id": "btUGjuX00LFR"
   },
   "outputs": [],
   "source": [
    "def calculate_wilson_score(df, z=1.96):\n",
    "    def wilson_score(upvotes, total_votes, z=1.96):\n",
    "        if total_votes == 0:\n",
    "            return 0\n",
    "        phat = upvotes / total_votes\n",
    "        numerator = phat + z*z/(2*total_votes) - z * ((phat*(1-phat) + z*z/(4*total_votes)) / total_votes)**0.5\n",
    "        denominator = 1 + z*z / total_votes\n",
    "        return numerator / denominator\n",
    "\n",
    "    if \"post_id\" not in df.columns:\n",
    "        df[\"post_id\"] = df[\"comment_id\"].str.split(\"_\").str[0]\n",
    "\n",
    "    wilson_scores = []\n",
    "\n",
    "    for i, row in df.iterrows():\n",
    "        post_id = row[\"post_id\"]\n",
    "        upvotes = row[\"upvotes\"]\n",
    "        total_votes = df[df[\"post_id\"] == post_id][\"upvotes\"].sum()\n",
    "        score = wilson_score(upvotes, total_votes, z)\n",
    "        wilson_scores.append(score)\n",
    "\n",
    "    df[\"wilson_score_raw\"] = wilson_scores\n",
    "\n",
    "    df[\"wilson_score\"] = df.groupby(\"post_id\")[\"wilson_score_raw\"].transform(lambda x: x / x.max())\n",
    "\n",
    "    df.drop(columns=[\"wilson_score_raw\"], inplace=True)\n",
    "\n",
    "    return df"
   ]
  },
  {
   "cell_type": "code",
   "execution_count": null,
   "metadata": {
    "colab": {
     "base_uri": "https://localhost:8080/",
     "height": 423
    },
    "executionInfo": {
     "elapsed": 1845,
     "status": "ok",
     "timestamp": 1751832182170,
     "user": {
      "displayName": "PIETRO SCAPINI",
      "userId": "06017685043124541547"
     },
     "user_tz": -120
    },
    "id": "p-gn_NdH0ecj",
    "outputId": "4005f2ce-1ca0-427f-9afd-d192be4d3a4f"
   },
   "outputs": [
    {
     "data": {
      "application/vnd.google.colaboratory.intrinsic+json": {
       "summary": "{\n  \"name\": \"df_qrels\",\n  \"rows\": 2640,\n  \"fields\": [\n    {\n      \"column\": \"post_id\",\n      \"properties\": {\n        \"dtype\": \"category\",\n        \"num_unique_values\": 165,\n        \"samples\": [\n          \"1bzvw5o\",\n          \"p3sibk\",\n          \"1fhf8rb\"\n        ],\n        \"semantic_type\": \"\",\n        \"description\": \"\"\n      }\n    },\n    {\n      \"column\": \"comment_id\",\n      \"properties\": {\n        \"dtype\": \"string\",\n        \"num_unique_values\": 2640,\n        \"samples\": [\n          \"14f6u33_joyvx3u\",\n          \"1hq4eut_m4nb5lb\",\n          \"iqcvqt_g4rr6re\"\n        ],\n        \"semantic_type\": \"\",\n        \"description\": \"\"\n      }\n    },\n    {\n      \"column\": \"upvotes\",\n      \"properties\": {\n        \"dtype\": \"number\",\n        \"std\": 33,\n        \"min\": 10,\n        \"max\": 150,\n        \"num_unique_values\": 141,\n        \"samples\": [\n          60,\n          94,\n          72\n        ],\n        \"semantic_type\": \"\",\n        \"description\": \"\"\n      }\n    },\n    {\n      \"column\": \"wilson_score\",\n      \"properties\": {\n        \"dtype\": \"number\",\n        \"std\": 0.281375857999819,\n        \"min\": 0.04179911015709883,\n        \"max\": 1.0,\n        \"num_unique_values\": 2476,\n        \"samples\": [\n          0.14723609301478813,\n          0.09376791451646424,\n          0.24912442316440497\n        ],\n        \"semantic_type\": \"\",\n        \"description\": \"\"\n      }\n    }\n  ]\n}",
       "type": "dataframe",
       "variable_name": "df_qrels"
      },
      "text/html": [
       "\n",
       "  <div id=\"df-3069db7b-7fc9-4966-948b-80a7c7e5b8bd\" class=\"colab-df-container\">\n",
       "    <div>\n",
       "<style scoped>\n",
       "    .dataframe tbody tr th:only-of-type {\n",
       "        vertical-align: middle;\n",
       "    }\n",
       "\n",
       "    .dataframe tbody tr th {\n",
       "        vertical-align: top;\n",
       "    }\n",
       "\n",
       "    .dataframe thead th {\n",
       "        text-align: right;\n",
       "    }\n",
       "</style>\n",
       "<table border=\"1\" class=\"dataframe\">\n",
       "  <thead>\n",
       "    <tr style=\"text-align: right;\">\n",
       "      <th></th>\n",
       "      <th>post_id</th>\n",
       "      <th>comment_id</th>\n",
       "      <th>upvotes</th>\n",
       "      <th>wilson_score</th>\n",
       "    </tr>\n",
       "  </thead>\n",
       "  <tbody>\n",
       "    <tr>\n",
       "      <th>0</th>\n",
       "      <td>1izle46</td>\n",
       "      <td>1izle46_mf3ts7q</td>\n",
       "      <td>17</td>\n",
       "      <td>0.096100</td>\n",
       "    </tr>\n",
       "    <tr>\n",
       "      <th>1</th>\n",
       "      <td>1izle46</td>\n",
       "      <td>1izle46_mf3whj8</td>\n",
       "      <td>33</td>\n",
       "      <td>0.213139</td>\n",
       "    </tr>\n",
       "    <tr>\n",
       "      <th>2</th>\n",
       "      <td>1izle46</td>\n",
       "      <td>1izle46_mf3u270</td>\n",
       "      <td>38</td>\n",
       "      <td>0.251247</td>\n",
       "    </tr>\n",
       "    <tr>\n",
       "      <th>3</th>\n",
       "      <td>1izle46</td>\n",
       "      <td>1izle46_mf3sncb</td>\n",
       "      <td>30</td>\n",
       "      <td>0.190552</td>\n",
       "    </tr>\n",
       "    <tr>\n",
       "      <th>4</th>\n",
       "      <td>1izle46</td>\n",
       "      <td>1izle46_mf3sxrc</td>\n",
       "      <td>122</td>\n",
       "      <td>0.932859</td>\n",
       "    </tr>\n",
       "    <tr>\n",
       "      <th>...</th>\n",
       "      <td>...</td>\n",
       "      <td>...</td>\n",
       "      <td>...</td>\n",
       "      <td>...</td>\n",
       "    </tr>\n",
       "    <tr>\n",
       "      <th>2635</th>\n",
       "      <td>1lpyp0w</td>\n",
       "      <td>1lpyp0w_n0zdqao</td>\n",
       "      <td>22</td>\n",
       "      <td>0.174746</td>\n",
       "    </tr>\n",
       "    <tr>\n",
       "      <th>2636</th>\n",
       "      <td>1lpyp0w</td>\n",
       "      <td>1lpyp0w_n0zdrsw</td>\n",
       "      <td>15</td>\n",
       "      <td>0.109167</td>\n",
       "    </tr>\n",
       "    <tr>\n",
       "      <th>2637</th>\n",
       "      <td>1lpyp0w</td>\n",
       "      <td>1lpyp0w_n0zhoa7</td>\n",
       "      <td>41</td>\n",
       "      <td>0.364747</td>\n",
       "    </tr>\n",
       "    <tr>\n",
       "      <th>2638</th>\n",
       "      <td>1lpyp0w</td>\n",
       "      <td>1lpyp0w_n0yk03w</td>\n",
       "      <td>14</td>\n",
       "      <td>0.100128</td>\n",
       "    </tr>\n",
       "    <tr>\n",
       "      <th>2639</th>\n",
       "      <td>1lpyp0w</td>\n",
       "      <td>1lpyp0w_n0zke1y</td>\n",
       "      <td>58</td>\n",
       "      <td>0.542853</td>\n",
       "    </tr>\n",
       "  </tbody>\n",
       "</table>\n",
       "<p>2640 rows × 4 columns</p>\n",
       "</div>\n",
       "    <div class=\"colab-df-buttons\">\n",
       "\n",
       "  <div class=\"colab-df-container\">\n",
       "    <button class=\"colab-df-convert\" onclick=\"convertToInteractive('df-3069db7b-7fc9-4966-948b-80a7c7e5b8bd')\"\n",
       "            title=\"Convert this dataframe to an interactive table.\"\n",
       "            style=\"display:none;\">\n",
       "\n",
       "  <svg xmlns=\"http://www.w3.org/2000/svg\" height=\"24px\" viewBox=\"0 -960 960 960\">\n",
       "    <path d=\"M120-120v-720h720v720H120Zm60-500h600v-160H180v160Zm220 220h160v-160H400v160Zm0 220h160v-160H400v160ZM180-400h160v-160H180v160Zm440 0h160v-160H620v160ZM180-180h160v-160H180v160Zm440 0h160v-160H620v160Z\"/>\n",
       "  </svg>\n",
       "    </button>\n",
       "\n",
       "  <style>\n",
       "    .colab-df-container {\n",
       "      display:flex;\n",
       "      gap: 12px;\n",
       "    }\n",
       "\n",
       "    .colab-df-convert {\n",
       "      background-color: #E8F0FE;\n",
       "      border: none;\n",
       "      border-radius: 50%;\n",
       "      cursor: pointer;\n",
       "      display: none;\n",
       "      fill: #1967D2;\n",
       "      height: 32px;\n",
       "      padding: 0 0 0 0;\n",
       "      width: 32px;\n",
       "    }\n",
       "\n",
       "    .colab-df-convert:hover {\n",
       "      background-color: #E2EBFA;\n",
       "      box-shadow: 0px 1px 2px rgba(60, 64, 67, 0.3), 0px 1px 3px 1px rgba(60, 64, 67, 0.15);\n",
       "      fill: #174EA6;\n",
       "    }\n",
       "\n",
       "    .colab-df-buttons div {\n",
       "      margin-bottom: 4px;\n",
       "    }\n",
       "\n",
       "    [theme=dark] .colab-df-convert {\n",
       "      background-color: #3B4455;\n",
       "      fill: #D2E3FC;\n",
       "    }\n",
       "\n",
       "    [theme=dark] .colab-df-convert:hover {\n",
       "      background-color: #434B5C;\n",
       "      box-shadow: 0px 1px 3px 1px rgba(0, 0, 0, 0.15);\n",
       "      filter: drop-shadow(0px 1px 2px rgba(0, 0, 0, 0.3));\n",
       "      fill: #FFFFFF;\n",
       "    }\n",
       "  </style>\n",
       "\n",
       "    <script>\n",
       "      const buttonEl =\n",
       "        document.querySelector('#df-3069db7b-7fc9-4966-948b-80a7c7e5b8bd button.colab-df-convert');\n",
       "      buttonEl.style.display =\n",
       "        google.colab.kernel.accessAllowed ? 'block' : 'none';\n",
       "\n",
       "      async function convertToInteractive(key) {\n",
       "        const element = document.querySelector('#df-3069db7b-7fc9-4966-948b-80a7c7e5b8bd');\n",
       "        const dataTable =\n",
       "          await google.colab.kernel.invokeFunction('convertToInteractive',\n",
       "                                                    [key], {});\n",
       "        if (!dataTable) return;\n",
       "\n",
       "        const docLinkHtml = 'Like what you see? Visit the ' +\n",
       "          '<a target=\"_blank\" href=https://colab.research.google.com/notebooks/data_table.ipynb>data table notebook</a>'\n",
       "          + ' to learn more about interactive tables.';\n",
       "        element.innerHTML = '';\n",
       "        dataTable['output_type'] = 'display_data';\n",
       "        await google.colab.output.renderOutput(dataTable, element);\n",
       "        const docLink = document.createElement('div');\n",
       "        docLink.innerHTML = docLinkHtml;\n",
       "        element.appendChild(docLink);\n",
       "      }\n",
       "    </script>\n",
       "  </div>\n",
       "\n",
       "\n",
       "    <div id=\"df-8680afdb-db60-4ba8-8835-02a226e2cab3\">\n",
       "      <button class=\"colab-df-quickchart\" onclick=\"quickchart('df-8680afdb-db60-4ba8-8835-02a226e2cab3')\"\n",
       "                title=\"Suggest charts\"\n",
       "                style=\"display:none;\">\n",
       "\n",
       "<svg xmlns=\"http://www.w3.org/2000/svg\" height=\"24px\"viewBox=\"0 0 24 24\"\n",
       "     width=\"24px\">\n",
       "    <g>\n",
       "        <path d=\"M19 3H5c-1.1 0-2 .9-2 2v14c0 1.1.9 2 2 2h14c1.1 0 2-.9 2-2V5c0-1.1-.9-2-2-2zM9 17H7v-7h2v7zm4 0h-2V7h2v10zm4 0h-2v-4h2v4z\"/>\n",
       "    </g>\n",
       "</svg>\n",
       "      </button>\n",
       "\n",
       "<style>\n",
       "  .colab-df-quickchart {\n",
       "      --bg-color: #E8F0FE;\n",
       "      --fill-color: #1967D2;\n",
       "      --hover-bg-color: #E2EBFA;\n",
       "      --hover-fill-color: #174EA6;\n",
       "      --disabled-fill-color: #AAA;\n",
       "      --disabled-bg-color: #DDD;\n",
       "  }\n",
       "\n",
       "  [theme=dark] .colab-df-quickchart {\n",
       "      --bg-color: #3B4455;\n",
       "      --fill-color: #D2E3FC;\n",
       "      --hover-bg-color: #434B5C;\n",
       "      --hover-fill-color: #FFFFFF;\n",
       "      --disabled-bg-color: #3B4455;\n",
       "      --disabled-fill-color: #666;\n",
       "  }\n",
       "\n",
       "  .colab-df-quickchart {\n",
       "    background-color: var(--bg-color);\n",
       "    border: none;\n",
       "    border-radius: 50%;\n",
       "    cursor: pointer;\n",
       "    display: none;\n",
       "    fill: var(--fill-color);\n",
       "    height: 32px;\n",
       "    padding: 0;\n",
       "    width: 32px;\n",
       "  }\n",
       "\n",
       "  .colab-df-quickchart:hover {\n",
       "    background-color: var(--hover-bg-color);\n",
       "    box-shadow: 0 1px 2px rgba(60, 64, 67, 0.3), 0 1px 3px 1px rgba(60, 64, 67, 0.15);\n",
       "    fill: var(--button-hover-fill-color);\n",
       "  }\n",
       "\n",
       "  .colab-df-quickchart-complete:disabled,\n",
       "  .colab-df-quickchart-complete:disabled:hover {\n",
       "    background-color: var(--disabled-bg-color);\n",
       "    fill: var(--disabled-fill-color);\n",
       "    box-shadow: none;\n",
       "  }\n",
       "\n",
       "  .colab-df-spinner {\n",
       "    border: 2px solid var(--fill-color);\n",
       "    border-color: transparent;\n",
       "    border-bottom-color: var(--fill-color);\n",
       "    animation:\n",
       "      spin 1s steps(1) infinite;\n",
       "  }\n",
       "\n",
       "  @keyframes spin {\n",
       "    0% {\n",
       "      border-color: transparent;\n",
       "      border-bottom-color: var(--fill-color);\n",
       "      border-left-color: var(--fill-color);\n",
       "    }\n",
       "    20% {\n",
       "      border-color: transparent;\n",
       "      border-left-color: var(--fill-color);\n",
       "      border-top-color: var(--fill-color);\n",
       "    }\n",
       "    30% {\n",
       "      border-color: transparent;\n",
       "      border-left-color: var(--fill-color);\n",
       "      border-top-color: var(--fill-color);\n",
       "      border-right-color: var(--fill-color);\n",
       "    }\n",
       "    40% {\n",
       "      border-color: transparent;\n",
       "      border-right-color: var(--fill-color);\n",
       "      border-top-color: var(--fill-color);\n",
       "    }\n",
       "    60% {\n",
       "      border-color: transparent;\n",
       "      border-right-color: var(--fill-color);\n",
       "    }\n",
       "    80% {\n",
       "      border-color: transparent;\n",
       "      border-right-color: var(--fill-color);\n",
       "      border-bottom-color: var(--fill-color);\n",
       "    }\n",
       "    90% {\n",
       "      border-color: transparent;\n",
       "      border-bottom-color: var(--fill-color);\n",
       "    }\n",
       "  }\n",
       "</style>\n",
       "\n",
       "      <script>\n",
       "        async function quickchart(key) {\n",
       "          const quickchartButtonEl =\n",
       "            document.querySelector('#' + key + ' button');\n",
       "          quickchartButtonEl.disabled = true;  // To prevent multiple clicks.\n",
       "          quickchartButtonEl.classList.add('colab-df-spinner');\n",
       "          try {\n",
       "            const charts = await google.colab.kernel.invokeFunction(\n",
       "                'suggestCharts', [key], {});\n",
       "          } catch (error) {\n",
       "            console.error('Error during call to suggestCharts:', error);\n",
       "          }\n",
       "          quickchartButtonEl.classList.remove('colab-df-spinner');\n",
       "          quickchartButtonEl.classList.add('colab-df-quickchart-complete');\n",
       "        }\n",
       "        (() => {\n",
       "          let quickchartButtonEl =\n",
       "            document.querySelector('#df-8680afdb-db60-4ba8-8835-02a226e2cab3 button');\n",
       "          quickchartButtonEl.style.display =\n",
       "            google.colab.kernel.accessAllowed ? 'block' : 'none';\n",
       "        })();\n",
       "      </script>\n",
       "    </div>\n",
       "\n",
       "  <div id=\"id_17f90415-de80-4bc4-bed8-243c184c80c3\">\n",
       "    <style>\n",
       "      .colab-df-generate {\n",
       "        background-color: #E8F0FE;\n",
       "        border: none;\n",
       "        border-radius: 50%;\n",
       "        cursor: pointer;\n",
       "        display: none;\n",
       "        fill: #1967D2;\n",
       "        height: 32px;\n",
       "        padding: 0 0 0 0;\n",
       "        width: 32px;\n",
       "      }\n",
       "\n",
       "      .colab-df-generate:hover {\n",
       "        background-color: #E2EBFA;\n",
       "        box-shadow: 0px 1px 2px rgba(60, 64, 67, 0.3), 0px 1px 3px 1px rgba(60, 64, 67, 0.15);\n",
       "        fill: #174EA6;\n",
       "      }\n",
       "\n",
       "      [theme=dark] .colab-df-generate {\n",
       "        background-color: #3B4455;\n",
       "        fill: #D2E3FC;\n",
       "      }\n",
       "\n",
       "      [theme=dark] .colab-df-generate:hover {\n",
       "        background-color: #434B5C;\n",
       "        box-shadow: 0px 1px 3px 1px rgba(0, 0, 0, 0.15);\n",
       "        filter: drop-shadow(0px 1px 2px rgba(0, 0, 0, 0.3));\n",
       "        fill: #FFFFFF;\n",
       "      }\n",
       "    </style>\n",
       "    <button class=\"colab-df-generate\" onclick=\"generateWithVariable('df_qrels')\"\n",
       "            title=\"Generate code using this dataframe.\"\n",
       "            style=\"display:none;\">\n",
       "\n",
       "  <svg xmlns=\"http://www.w3.org/2000/svg\" height=\"24px\"viewBox=\"0 0 24 24\"\n",
       "       width=\"24px\">\n",
       "    <path d=\"M7,19H8.4L18.45,9,17,7.55,7,17.6ZM5,21V16.75L18.45,3.32a2,2,0,0,1,2.83,0l1.4,1.43a1.91,1.91,0,0,1,.58,1.4,1.91,1.91,0,0,1-.58,1.4L9.25,21ZM18.45,9,17,7.55Zm-12,3A5.31,5.31,0,0,0,4.9,8.1,5.31,5.31,0,0,0,1,6.5,5.31,5.31,0,0,0,4.9,4.9,5.31,5.31,0,0,0,6.5,1,5.31,5.31,0,0,0,8.1,4.9,5.31,5.31,0,0,0,12,6.5,5.46,5.46,0,0,0,6.5,12Z\"/>\n",
       "  </svg>\n",
       "    </button>\n",
       "    <script>\n",
       "      (() => {\n",
       "      const buttonEl =\n",
       "        document.querySelector('#id_17f90415-de80-4bc4-bed8-243c184c80c3 button.colab-df-generate');\n",
       "      buttonEl.style.display =\n",
       "        google.colab.kernel.accessAllowed ? 'block' : 'none';\n",
       "\n",
       "      buttonEl.onclick = () => {\n",
       "        google.colab.notebook.generateWithVariable('df_qrels');\n",
       "      }\n",
       "      })();\n",
       "    </script>\n",
       "  </div>\n",
       "\n",
       "    </div>\n",
       "  </div>\n"
      ],
      "text/plain": [
       "      post_id       comment_id  upvotes  wilson_score\n",
       "0     1izle46  1izle46_mf3ts7q       17      0.096100\n",
       "1     1izle46  1izle46_mf3whj8       33      0.213139\n",
       "2     1izle46  1izle46_mf3u270       38      0.251247\n",
       "3     1izle46  1izle46_mf3sncb       30      0.190552\n",
       "4     1izle46  1izle46_mf3sxrc      122      0.932859\n",
       "...       ...              ...      ...           ...\n",
       "2635  1lpyp0w  1lpyp0w_n0zdqao       22      0.174746\n",
       "2636  1lpyp0w  1lpyp0w_n0zdrsw       15      0.109167\n",
       "2637  1lpyp0w  1lpyp0w_n0zhoa7       41      0.364747\n",
       "2638  1lpyp0w  1lpyp0w_n0yk03w       14      0.100128\n",
       "2639  1lpyp0w  1lpyp0w_n0zke1y       58      0.542853\n",
       "\n",
       "[2640 rows x 4 columns]"
      ]
     },
     "execution_count": 13,
     "metadata": {},
     "output_type": "execute_result"
    }
   ],
   "source": [
    "calculate_wilson_score(df_qrels)"
   ]
  },
  {
   "cell_type": "code",
   "execution_count": null,
   "metadata": {
    "colab": {
     "base_uri": "https://localhost:8080/"
    },
    "executionInfo": {
     "elapsed": 15,
     "status": "ok",
     "timestamp": 1751832182190,
     "user": {
      "displayName": "PIETRO SCAPINI",
      "userId": "06017685043124541547"
     },
     "user_tz": -120
    },
    "id": "rogQ0_4m0jID",
    "outputId": "b87daeb3-8c53-45bb-cf8d-dd022edbb594"
   },
   "outputs": [
    {
     "name": "stdout",
     "output_type": "stream",
     "text": [
      "The mean of wilson scores is: 0.29026570215981917\n"
     ]
    }
   ],
   "source": [
    "mean_wilson_score = df_qrels['wilson_score'].mean()\n",
    "\n",
    "print(f\"The mean of wilson scores is: {mean_wilson_score}\")"
   ]
  },
  {
   "cell_type": "code",
   "execution_count": null,
   "metadata": {
    "colab": {
     "base_uri": "https://localhost:8080/"
    },
    "executionInfo": {
     "elapsed": 74,
     "status": "ok",
     "timestamp": 1751832182267,
     "user": {
      "displayName": "PIETRO SCAPINI",
      "userId": "06017685043124541547"
     },
     "user_tz": -120
    },
    "id": "ENaIFtEF0wpA",
    "outputId": "21c09582-23a5-429b-ee33-8cac80784d4f"
   },
   "outputs": [
    {
     "name": "stdout",
     "output_type": "stream",
     "text": [
      "The median of wilson scores: 0.16391872819869122\n"
     ]
    }
   ],
   "source": [
    "median_wilson_score = df_qrels['wilson_score'].median()\n",
    "\n",
    "print(f\"The median of wilson scores: {median_wilson_score}\")"
   ]
  },
  {
   "cell_type": "markdown",
   "metadata": {
    "id": "DGa6UK82M4VM"
   },
   "source": [
    "We assign a relevance level (1–4) to each comment using its Wilson score within the same post_id group.\n",
    "This is done by computing quantiles (Q1, Q2, Q3) for each group and assigning levels as follows:\n",
    "* Score ≤ Q1 → low relevance\n",
    "\n",
    "* Q1 < Score ≤ Q2 → moderate relevance\n",
    "\n",
    "* Q2 < Score ≤ Q3 → high relevance\n",
    "\n",
    "* Score > Q3 → top relevance"
   ]
  },
  {
   "cell_type": "code",
   "execution_count": null,
   "metadata": {
    "id": "fhDIPOkny9KI"
   },
   "outputs": [],
   "source": [
    "def assign_relevance_level(df):\n",
    "    df['relevance_level'] = df.groupby('post_id')['wilson_score'].transform(\n",
    "        lambda x: pd.qcut(x, q=[0, 0.25, 0.5, 0.75, 1], labels=[1, 2, 3, 4], duplicates='drop')\n",
    "    )\n",
    "    return df\n",
    "\n",
    "df_qrels = assign_relevance_level(df_qrels)"
   ]
  },
  {
   "cell_type": "markdown",
   "metadata": {
    "id": "rP-rv6NOPSPa"
   },
   "source": [
    "To ensure a balanced and representative set of relevance judgments, we select a fixed number of top comments per relevance level (1–4) within each post. The selection is based on upvote count within each level:\n",
    "\n",
    "*    Level 4 → top 2 comments\n",
    "\n",
    "*    Level 3 → top 3 comments\n",
    "\n",
    "*    Level 2 → top 3 comments\n",
    "\n",
    "*    Level 1 → top 2 comments\n",
    "\n",
    "The final result is stored in *df_qrels_fin*."
   ]
  },
  {
   "cell_type": "code",
   "execution_count": null,
   "metadata": {
    "id": "hiZFkO7e1RDP"
   },
   "outputs": [],
   "source": [
    "df_qrels_fin = pd.DataFrame()\n",
    "\n",
    "for post_id in df_qrels['post_id'].unique():\n",
    "    df_query = df_qrels[df_qrels['post_id'] == post_id].copy()\n",
    "\n",
    "    comments_level_4 = df_query[df_query['relevance_level'] == 4].sort_values(by='upvotes', ascending=False).head(2)\n",
    "    comments_level_3 = df_query[df_query['relevance_level'] == 3].sort_values(by='upvotes', ascending=False).head(3)\n",
    "    comments_level_2 = df_query[df_query['relevance_level'] == 2].sort_values(by='upvotes', ascending=False).head(3)\n",
    "    comments_level_1 = df_query[df_query['relevance_level'] == 1].sort_values(by='upvotes', ascending=False).head(2)\n",
    "\n",
    "    selected_for_query = pd.concat([comments_level_4, comments_level_3, comments_level_2, comments_level_1])\n",
    "\n",
    "    df_qrels_fin = pd.concat([df_qrels_fin, selected_for_query])\n",
    "\n",
    "df_qrels_fin.reset_index(drop=True, inplace=True)"
   ]
  },
  {
   "cell_type": "code",
   "execution_count": null,
   "metadata": {
    "colab": {
     "base_uri": "https://localhost:8080/",
     "height": 206
    },
    "executionInfo": {
     "elapsed": 105,
     "status": "ok",
     "timestamp": 1751832964325,
     "user": {
      "displayName": "PIETRO SCAPINI",
      "userId": "06017685043124541547"
     },
     "user_tz": -120
    },
    "id": "55krDrsMYZLi",
    "outputId": "58db0b1c-9636-4fe6-babf-9a6094c07a1f"
   },
   "outputs": [
    {
     "data": {
      "application/vnd.google.colaboratory.intrinsic+json": {
       "summary": "{\n  \"name\": \"df_qrels_fin\",\n  \"rows\": 1650,\n  \"fields\": [\n    {\n      \"column\": \"post_id\",\n      \"properties\": {\n        \"dtype\": \"category\",\n        \"num_unique_values\": 165,\n        \"samples\": [\n          \"1bzvw5o\",\n          \"p3sibk\",\n          \"1fhf8rb\"\n        ],\n        \"semantic_type\": \"\",\n        \"description\": \"\"\n      }\n    },\n    {\n      \"column\": \"comment_id\",\n      \"properties\": {\n        \"dtype\": \"string\",\n        \"num_unique_values\": 1650,\n        \"samples\": [\n          \"oev5mz_h49uhuk\",\n          \"1k61aku_momb2mj\",\n          \"9m3z8i_e7c1j4s\"\n        ],\n        \"semantic_type\": \"\",\n        \"description\": \"\"\n      }\n    },\n    {\n      \"column\": \"upvotes\",\n      \"properties\": {\n        \"dtype\": \"number\",\n        \"std\": 35,\n        \"min\": 12,\n        \"max\": 150,\n        \"num_unique_values\": 137,\n        \"samples\": [\n          56,\n          87,\n          53\n        ],\n        \"semantic_type\": \"\",\n        \"description\": \"\"\n      }\n    },\n    {\n      \"column\": \"wilson_score\",\n      \"properties\": {\n        \"dtype\": \"number\",\n        \"std\": 0.30684559498864294,\n        \"min\": 0.053270557939828905,\n        \"max\": 1.0,\n        \"num_unique_values\": 1486,\n        \"samples\": [\n          0.30306328788999154,\n          0.08347931279394474,\n          0.10218417156615649\n        ],\n        \"semantic_type\": \"\",\n        \"description\": \"\"\n      }\n    },\n    {\n      \"column\": \"relevance_level\",\n      \"properties\": {\n        \"dtype\": \"category\",\n        \"num_unique_values\": 4,\n        \"samples\": [\n          3,\n          1,\n          4\n        ],\n        \"semantic_type\": \"\",\n        \"description\": \"\"\n      }\n    }\n  ]\n}",
       "type": "dataframe",
       "variable_name": "df_qrels_fin"
      },
      "text/html": [
       "\n",
       "  <div id=\"df-6e006d4e-4f33-46df-a175-18d0eefea33c\" class=\"colab-df-container\">\n",
       "    <div>\n",
       "<style scoped>\n",
       "    .dataframe tbody tr th:only-of-type {\n",
       "        vertical-align: middle;\n",
       "    }\n",
       "\n",
       "    .dataframe tbody tr th {\n",
       "        vertical-align: top;\n",
       "    }\n",
       "\n",
       "    .dataframe thead th {\n",
       "        text-align: right;\n",
       "    }\n",
       "</style>\n",
       "<table border=\"1\" class=\"dataframe\">\n",
       "  <thead>\n",
       "    <tr style=\"text-align: right;\">\n",
       "      <th></th>\n",
       "      <th>post_id</th>\n",
       "      <th>comment_id</th>\n",
       "      <th>upvotes</th>\n",
       "      <th>wilson_score</th>\n",
       "      <th>relevance_level</th>\n",
       "    </tr>\n",
       "  </thead>\n",
       "  <tbody>\n",
       "    <tr>\n",
       "      <th>0</th>\n",
       "      <td>1izle46</td>\n",
       "      <td>1izle46_mf3scgz</td>\n",
       "      <td>130</td>\n",
       "      <td>1.000000</td>\n",
       "      <td>4</td>\n",
       "    </tr>\n",
       "    <tr>\n",
       "      <th>1</th>\n",
       "      <td>1izle46</td>\n",
       "      <td>1izle46_mf3sxrc</td>\n",
       "      <td>122</td>\n",
       "      <td>0.932859</td>\n",
       "      <td>4</td>\n",
       "    </tr>\n",
       "    <tr>\n",
       "      <th>2</th>\n",
       "      <td>1izle46</td>\n",
       "      <td>1izle46_mf3sqs6</td>\n",
       "      <td>51</td>\n",
       "      <td>0.352430</td>\n",
       "      <td>3</td>\n",
       "    </tr>\n",
       "    <tr>\n",
       "      <th>3</th>\n",
       "      <td>1izle46</td>\n",
       "      <td>1izle46_mf3sxto</td>\n",
       "      <td>49</td>\n",
       "      <td>0.336698</td>\n",
       "      <td>3</td>\n",
       "    </tr>\n",
       "    <tr>\n",
       "      <th>4</th>\n",
       "      <td>1izle46</td>\n",
       "      <td>1izle46_mf3tkf1</td>\n",
       "      <td>48</td>\n",
       "      <td>0.328852</td>\n",
       "      <td>3</td>\n",
       "    </tr>\n",
       "  </tbody>\n",
       "</table>\n",
       "</div>\n",
       "    <div class=\"colab-df-buttons\">\n",
       "\n",
       "  <div class=\"colab-df-container\">\n",
       "    <button class=\"colab-df-convert\" onclick=\"convertToInteractive('df-6e006d4e-4f33-46df-a175-18d0eefea33c')\"\n",
       "            title=\"Convert this dataframe to an interactive table.\"\n",
       "            style=\"display:none;\">\n",
       "\n",
       "  <svg xmlns=\"http://www.w3.org/2000/svg\" height=\"24px\" viewBox=\"0 -960 960 960\">\n",
       "    <path d=\"M120-120v-720h720v720H120Zm60-500h600v-160H180v160Zm220 220h160v-160H400v160Zm0 220h160v-160H400v160ZM180-400h160v-160H180v160Zm440 0h160v-160H620v160ZM180-180h160v-160H180v160Zm440 0h160v-160H620v160Z\"/>\n",
       "  </svg>\n",
       "    </button>\n",
       "\n",
       "  <style>\n",
       "    .colab-df-container {\n",
       "      display:flex;\n",
       "      gap: 12px;\n",
       "    }\n",
       "\n",
       "    .colab-df-convert {\n",
       "      background-color: #E8F0FE;\n",
       "      border: none;\n",
       "      border-radius: 50%;\n",
       "      cursor: pointer;\n",
       "      display: none;\n",
       "      fill: #1967D2;\n",
       "      height: 32px;\n",
       "      padding: 0 0 0 0;\n",
       "      width: 32px;\n",
       "    }\n",
       "\n",
       "    .colab-df-convert:hover {\n",
       "      background-color: #E2EBFA;\n",
       "      box-shadow: 0px 1px 2px rgba(60, 64, 67, 0.3), 0px 1px 3px 1px rgba(60, 64, 67, 0.15);\n",
       "      fill: #174EA6;\n",
       "    }\n",
       "\n",
       "    .colab-df-buttons div {\n",
       "      margin-bottom: 4px;\n",
       "    }\n",
       "\n",
       "    [theme=dark] .colab-df-convert {\n",
       "      background-color: #3B4455;\n",
       "      fill: #D2E3FC;\n",
       "    }\n",
       "\n",
       "    [theme=dark] .colab-df-convert:hover {\n",
       "      background-color: #434B5C;\n",
       "      box-shadow: 0px 1px 3px 1px rgba(0, 0, 0, 0.15);\n",
       "      filter: drop-shadow(0px 1px 2px rgba(0, 0, 0, 0.3));\n",
       "      fill: #FFFFFF;\n",
       "    }\n",
       "  </style>\n",
       "\n",
       "    <script>\n",
       "      const buttonEl =\n",
       "        document.querySelector('#df-6e006d4e-4f33-46df-a175-18d0eefea33c button.colab-df-convert');\n",
       "      buttonEl.style.display =\n",
       "        google.colab.kernel.accessAllowed ? 'block' : 'none';\n",
       "\n",
       "      async function convertToInteractive(key) {\n",
       "        const element = document.querySelector('#df-6e006d4e-4f33-46df-a175-18d0eefea33c');\n",
       "        const dataTable =\n",
       "          await google.colab.kernel.invokeFunction('convertToInteractive',\n",
       "                                                    [key], {});\n",
       "        if (!dataTable) return;\n",
       "\n",
       "        const docLinkHtml = 'Like what you see? Visit the ' +\n",
       "          '<a target=\"_blank\" href=https://colab.research.google.com/notebooks/data_table.ipynb>data table notebook</a>'\n",
       "          + ' to learn more about interactive tables.';\n",
       "        element.innerHTML = '';\n",
       "        dataTable['output_type'] = 'display_data';\n",
       "        await google.colab.output.renderOutput(dataTable, element);\n",
       "        const docLink = document.createElement('div');\n",
       "        docLink.innerHTML = docLinkHtml;\n",
       "        element.appendChild(docLink);\n",
       "      }\n",
       "    </script>\n",
       "  </div>\n",
       "\n",
       "\n",
       "    <div id=\"df-2d7f09a4-7a06-4d07-981c-55db18b17d15\">\n",
       "      <button class=\"colab-df-quickchart\" onclick=\"quickchart('df-2d7f09a4-7a06-4d07-981c-55db18b17d15')\"\n",
       "                title=\"Suggest charts\"\n",
       "                style=\"display:none;\">\n",
       "\n",
       "<svg xmlns=\"http://www.w3.org/2000/svg\" height=\"24px\"viewBox=\"0 0 24 24\"\n",
       "     width=\"24px\">\n",
       "    <g>\n",
       "        <path d=\"M19 3H5c-1.1 0-2 .9-2 2v14c0 1.1.9 2 2 2h14c1.1 0 2-.9 2-2V5c0-1.1-.9-2-2-2zM9 17H7v-7h2v7zm4 0h-2V7h2v10zm4 0h-2v-4h2v4z\"/>\n",
       "    </g>\n",
       "</svg>\n",
       "      </button>\n",
       "\n",
       "<style>\n",
       "  .colab-df-quickchart {\n",
       "      --bg-color: #E8F0FE;\n",
       "      --fill-color: #1967D2;\n",
       "      --hover-bg-color: #E2EBFA;\n",
       "      --hover-fill-color: #174EA6;\n",
       "      --disabled-fill-color: #AAA;\n",
       "      --disabled-bg-color: #DDD;\n",
       "  }\n",
       "\n",
       "  [theme=dark] .colab-df-quickchart {\n",
       "      --bg-color: #3B4455;\n",
       "      --fill-color: #D2E3FC;\n",
       "      --hover-bg-color: #434B5C;\n",
       "      --hover-fill-color: #FFFFFF;\n",
       "      --disabled-bg-color: #3B4455;\n",
       "      --disabled-fill-color: #666;\n",
       "  }\n",
       "\n",
       "  .colab-df-quickchart {\n",
       "    background-color: var(--bg-color);\n",
       "    border: none;\n",
       "    border-radius: 50%;\n",
       "    cursor: pointer;\n",
       "    display: none;\n",
       "    fill: var(--fill-color);\n",
       "    height: 32px;\n",
       "    padding: 0;\n",
       "    width: 32px;\n",
       "  }\n",
       "\n",
       "  .colab-df-quickchart:hover {\n",
       "    background-color: var(--hover-bg-color);\n",
       "    box-shadow: 0 1px 2px rgba(60, 64, 67, 0.3), 0 1px 3px 1px rgba(60, 64, 67, 0.15);\n",
       "    fill: var(--button-hover-fill-color);\n",
       "  }\n",
       "\n",
       "  .colab-df-quickchart-complete:disabled,\n",
       "  .colab-df-quickchart-complete:disabled:hover {\n",
       "    background-color: var(--disabled-bg-color);\n",
       "    fill: var(--disabled-fill-color);\n",
       "    box-shadow: none;\n",
       "  }\n",
       "\n",
       "  .colab-df-spinner {\n",
       "    border: 2px solid var(--fill-color);\n",
       "    border-color: transparent;\n",
       "    border-bottom-color: var(--fill-color);\n",
       "    animation:\n",
       "      spin 1s steps(1) infinite;\n",
       "  }\n",
       "\n",
       "  @keyframes spin {\n",
       "    0% {\n",
       "      border-color: transparent;\n",
       "      border-bottom-color: var(--fill-color);\n",
       "      border-left-color: var(--fill-color);\n",
       "    }\n",
       "    20% {\n",
       "      border-color: transparent;\n",
       "      border-left-color: var(--fill-color);\n",
       "      border-top-color: var(--fill-color);\n",
       "    }\n",
       "    30% {\n",
       "      border-color: transparent;\n",
       "      border-left-color: var(--fill-color);\n",
       "      border-top-color: var(--fill-color);\n",
       "      border-right-color: var(--fill-color);\n",
       "    }\n",
       "    40% {\n",
       "      border-color: transparent;\n",
       "      border-right-color: var(--fill-color);\n",
       "      border-top-color: var(--fill-color);\n",
       "    }\n",
       "    60% {\n",
       "      border-color: transparent;\n",
       "      border-right-color: var(--fill-color);\n",
       "    }\n",
       "    80% {\n",
       "      border-color: transparent;\n",
       "      border-right-color: var(--fill-color);\n",
       "      border-bottom-color: var(--fill-color);\n",
       "    }\n",
       "    90% {\n",
       "      border-color: transparent;\n",
       "      border-bottom-color: var(--fill-color);\n",
       "    }\n",
       "  }\n",
       "</style>\n",
       "\n",
       "      <script>\n",
       "        async function quickchart(key) {\n",
       "          const quickchartButtonEl =\n",
       "            document.querySelector('#' + key + ' button');\n",
       "          quickchartButtonEl.disabled = true;  // To prevent multiple clicks.\n",
       "          quickchartButtonEl.classList.add('colab-df-spinner');\n",
       "          try {\n",
       "            const charts = await google.colab.kernel.invokeFunction(\n",
       "                'suggestCharts', [key], {});\n",
       "          } catch (error) {\n",
       "            console.error('Error during call to suggestCharts:', error);\n",
       "          }\n",
       "          quickchartButtonEl.classList.remove('colab-df-spinner');\n",
       "          quickchartButtonEl.classList.add('colab-df-quickchart-complete');\n",
       "        }\n",
       "        (() => {\n",
       "          let quickchartButtonEl =\n",
       "            document.querySelector('#df-2d7f09a4-7a06-4d07-981c-55db18b17d15 button');\n",
       "          quickchartButtonEl.style.display =\n",
       "            google.colab.kernel.accessAllowed ? 'block' : 'none';\n",
       "        })();\n",
       "      </script>\n",
       "    </div>\n",
       "\n",
       "    </div>\n",
       "  </div>\n"
      ],
      "text/plain": [
       "   post_id       comment_id  upvotes  wilson_score relevance_level\n",
       "0  1izle46  1izle46_mf3scgz      130      1.000000               4\n",
       "1  1izle46  1izle46_mf3sxrc      122      0.932859               4\n",
       "2  1izle46  1izle46_mf3sqs6       51      0.352430               3\n",
       "3  1izle46  1izle46_mf3sxto       49      0.336698               3\n",
       "4  1izle46  1izle46_mf3tkf1       48      0.328852               3"
      ]
     },
     "execution_count": 56,
     "metadata": {},
     "output_type": "execute_result"
    }
   ],
   "source": [
    "df_qrels_fin.head()"
   ]
  },
  {
   "cell_type": "code",
   "execution_count": null,
   "metadata": {
    "colab": {
     "base_uri": "https://localhost:8080/"
    },
    "executionInfo": {
     "elapsed": 124,
     "status": "ok",
     "timestamp": 1751832183456,
     "user": {
      "displayName": "PIETRO SCAPINI",
      "userId": "06017685043124541547"
     },
     "user_tz": -120
    },
    "id": "7MzB5IwC28om",
    "outputId": "3d2385ab-154e-496f-ffc4-0db24b342070"
   },
   "outputs": [
    {
     "data": {
      "text/plain": [
       "(1650, 5)"
      ]
     },
     "execution_count": 19,
     "metadata": {},
     "output_type": "execute_result"
    }
   ],
   "source": [
    "df_qrels_fin.shape"
   ]
  },
  {
   "cell_type": "markdown",
   "metadata": {
    "id": "tTROS43GSPxl"
   },
   "source": [
    "# **EXPLORATIVE DATA ANALYSIS**"
   ]
  },
  {
   "cell_type": "markdown",
   "metadata": {
    "id": "R9yCkJZJwFG5"
   },
   "source": [
    "## DISTRIBUTION OF POSTS LENGTHS (IN WORDS)"
   ]
  },
  {
   "cell_type": "markdown",
   "metadata": {
    "id": "DSDS7OAo9F24"
   },
   "source": [
    "### TITLE"
   ]
  },
  {
   "cell_type": "markdown",
   "metadata": {
    "id": "grTNsQ95MR9j"
   },
   "source": [
    "This code calculates the length of each title in post in words and plots a histogram with a KDE curve to show the distribution of post title lengths."
   ]
  },
  {
   "cell_type": "code",
   "execution_count": null,
   "metadata": {
    "colab": {
     "base_uri": "https://localhost:8080/",
     "height": 607
    },
    "executionInfo": {
     "elapsed": 357,
     "status": "ok",
     "timestamp": 1751832183821,
     "user": {
      "displayName": "PIETRO SCAPINI",
      "userId": "06017685043124541547"
     },
     "user_tz": -120
    },
    "id": "vOojjT64up34",
    "outputId": "4a1c6bcf-ccb7-43cc-c2fc-51b4ca5d804a"
   },
   "outputs": [
    {
     "data": {
      "image/png": "[encoded data removed]",
      "text/plain": [
       "<Figure size 1000x600 with 1 Axes>"
      ]
     },
     "metadata": {},
     "output_type": "display_data"
    }
   ],
   "source": [
    "df_posts_exploration_title = df_posts.copy()\n",
    "\n",
    "df_posts_exploration_title['text_length'] = df_posts_exploration_title['post_text'].str.split().str.len()  # in words\n",
    "\n",
    "plt.figure(figsize=(10, 6))\n",
    "bins = range(df_posts_exploration_title['text_length'].min(), df_posts_exploration_title['text_length'].max() + 1)\n",
    "sns.histplot(df_posts_exploration_title['text_length'], bins=bins, kde=True, discrete=True)\n",
    "\n",
    "plt.title('Distribution of Title Lengths in Posts')\n",
    "plt.xlabel('Text Length (in words)')\n",
    "plt.ylabel('Frequency')\n",
    "\n",
    "plt.tight_layout()\n",
    "plt.show()\n"
   ]
  },
  {
   "cell_type": "markdown",
   "metadata": {
    "id": "ZUWL1220MWTA"
   },
   "source": [
    "Here we calculate the minimum and maximum Post_title lengths (in words), counts how many responses have those lengths, and prints the results."
   ]
  },
  {
   "cell_type": "code",
   "execution_count": null,
   "metadata": {
    "colab": {
     "base_uri": "https://localhost:8080/"
    },
    "executionInfo": {
     "elapsed": 24,
     "status": "ok",
     "timestamp": 1751832183850,
     "user": {
      "displayName": "PIETRO SCAPINI",
      "userId": "06017685043124541547"
     },
     "user_tz": -120
    },
    "id": "aLAiEJfr1Dgj",
    "outputId": "cbe96a4e-c30d-4dc7-a65d-e70f15f81c8d"
   },
   "outputs": [
    {
     "name": "stdout",
     "output_type": "stream",
     "text": [
      "Minimum length (in words): 3 -> 1 queries\n",
      "Maximum length (in words): 58 -> 1 queries\n"
     ]
    }
   ],
   "source": [
    "min_len = df_posts_exploration_title['text_length'].min()\n",
    "max_len = df_posts_exploration_title['text_length'].max()\n",
    "\n",
    "num_min = (df_posts_exploration_title['text_length'] == min_len).sum()\n",
    "num_max = (df_posts_exploration_title['text_length'] == max_len).sum()\n",
    "\n",
    "print(f\"Minimum length (in words): {min_len} -> {num_min} queries\")\n",
    "print(f\"Maximum length (in words): {max_len} -> {num_max} queries\")"
   ]
  },
  {
   "cell_type": "markdown",
   "metadata": {
    "id": "J891egH09X6r"
   },
   "source": [
    "### DESCRIPTION"
   ]
  },
  {
   "cell_type": "markdown",
   "metadata": {
    "id": "vyDjotXZ9X6r"
   },
   "source": [
    "This code calculates the length of each description in post in words and plots a histogram with a KDE curve to show the distribution of post descritpion lengths."
   ]
  },
  {
   "cell_type": "code",
   "execution_count": null,
   "metadata": {
    "colab": {
     "base_uri": "https://localhost:8080/",
     "height": 607
    },
    "executionInfo": {
     "elapsed": 3829,
     "status": "ok",
     "timestamp": 1751832187683,
     "user": {
      "displayName": "PIETRO SCAPINI",
      "userId": "06017685043124541547"
     },
     "user_tz": -120
    },
    "id": "0x0vwhu_-nuf",
    "outputId": "df416d6b-aa1f-4e7d-c3ca-a95a8705d0c3"
   },
   "outputs": [
    {
     "data": {
      "image/png": "[encoded data removed]",
      "text/plain": [
       "<Figure size 1000x600 with 1 Axes>"
      ]
     },
     "metadata": {},
     "output_type": "display_data"
    }
   ],
   "source": [
    "df_posts_exploration_descr = df_posts.copy()\n",
    "\n",
    "df_posts_exploration_descr['post_description'] = df_posts_exploration_descr['post_description'].fillna('')\n",
    "\n",
    "df_posts_exploration_descr['text_length'] = df_posts_exploration_descr['post_description'].str.split().str.len()\n",
    "\n",
    "min_len = int(df_posts_exploration_descr['text_length'].min())\n",
    "max_len = int(df_posts_exploration_descr['text_length'].max()) + 1\n",
    "bins = range(min_len, max_len)\n",
    "\n",
    "plt.figure(figsize=(10, 6))\n",
    "sns.histplot(df_posts_exploration_descr['text_length'], bins=bins, kde=True, discrete=True)\n",
    "\n",
    "plt.title('Distribution of Descritpion Lengths in Posts')\n",
    "plt.xlabel('Text Length (in words)')\n",
    "plt.ylabel('Frequency')\n",
    "\n",
    "plt.tight_layout()\n",
    "plt.show()"
   ]
  },
  {
   "cell_type": "markdown",
   "metadata": {
    "id": "CAi1wWK6-D0g"
   },
   "source": [
    "Here we calculate the minimum and maximum Post_descritpion lengths (in words), counts how many responses have those lengths, and prints the results."
   ]
  },
  {
   "cell_type": "code",
   "execution_count": null,
   "metadata": {
    "colab": {
     "base_uri": "https://localhost:8080/"
    },
    "executionInfo": {
     "elapsed": 51,
     "status": "ok",
     "timestamp": 1751832187739,
     "user": {
      "displayName": "PIETRO SCAPINI",
      "userId": "06017685043124541547"
     },
     "user_tz": -120
    },
    "id": "Q12oqIc49X6s",
    "outputId": "9c2bce6f-8ae7-4b85-df17-752cd69e1025"
   },
   "outputs": [
    {
     "name": "stdout",
     "output_type": "stream",
     "text": [
      "Minimum length (in words): 0 -> 5 post (descritpion)\n",
      "Maximum length (in words): 3662 -> 1 post (descritpion)\n"
     ]
    }
   ],
   "source": [
    "min_len = df_posts_exploration_descr['text_length'].min()\n",
    "max_len = df_posts_exploration_descr['text_length'].max()\n",
    "\n",
    "num_min = (df_posts_exploration_descr['text_length'] == min_len).sum()\n",
    "num_max = (df_posts_exploration_descr['text_length'] == max_len).sum()\n",
    "\n",
    "print(f\"Minimum length (in words): {min_len} -> {num_min} post (descritpion)\")\n",
    "print(f\"Maximum length (in words): {max_len} -> {num_max} post (descritpion)\")"
   ]
  },
  {
   "cell_type": "markdown",
   "metadata": {
    "id": "n31cuVSsu_Jk"
   },
   "source": [
    "## DISTRIBUTION OF COMMENTS LENGTHS (IN WORDS)"
   ]
  },
  {
   "cell_type": "markdown",
   "metadata": {
    "id": "p9vx2BcSLOfB"
   },
   "source": [
    "This code calculates the length of each comment in words and plots a histogram with a KDE curve to show the distribution of response lengths."
   ]
  },
  {
   "cell_type": "code",
   "execution_count": null,
   "metadata": {
    "colab": {
     "base_uri": "https://localhost:8080/",
     "height": 581
    },
    "executionInfo": {
     "elapsed": 410,
     "status": "ok",
     "timestamp": 1751832188153,
     "user": {
      "displayName": "PIETRO SCAPINI",
      "userId": "06017685043124541547"
     },
     "user_tz": -120
    },
    "id": "I25sZkj9ni6k",
    "outputId": "e8a13db5-cfb5-4f43-f522-5a64e3606868"
   },
   "outputs": [
    {
     "data": {
      "text/plain": [
       "Text(0, 0.5, 'Frequency')"
      ]
     },
     "execution_count": 24,
     "metadata": {},
     "output_type": "execute_result"
    },
    {
     "data": {
      "image/png": "[encoded data removed]",
      "text/plain": [
       "<Figure size 1000x600 with 1 Axes>"
      ]
     },
     "metadata": {},
     "output_type": "display_data"
    }
   ],
   "source": [
    "df_comments_exploration = df_comments.copy()\n",
    "\n",
    "df_comments_exploration['text_length'] = df_comments_exploration['text'].str.split().str.len()  # in words\n",
    "\n",
    "plt.figure(figsize=(10, 6))\n",
    "sns.histplot(df_comments_exploration['text_length'], bins=30, kde=True)\n",
    "\n",
    "plt.title('Distribution of Comments Lengths')\n",
    "plt.xlabel('Text Length (in words)')\n",
    "plt.ylabel('Frequency')"
   ]
  },
  {
   "cell_type": "markdown",
   "metadata": {
    "id": "KHBLU8OfLl4c"
   },
   "source": [
    "Here we calculate the minimum and maximum response lengths (in words), counts how many responses have those lengths, and prints the results."
   ]
  },
  {
   "cell_type": "code",
   "execution_count": null,
   "metadata": {
    "colab": {
     "base_uri": "https://localhost:8080/"
    },
    "executionInfo": {
     "elapsed": 23,
     "status": "ok",
     "timestamp": 1751832188174,
     "user": {
      "displayName": "PIETRO SCAPINI",
      "userId": "06017685043124541547"
     },
     "user_tz": -120
    },
    "id": "hEG0D_eWtGIr",
    "outputId": "b76157cc-3717-4d70-a056-f8ef0fd65ed5"
   },
   "outputs": [
    {
     "name": "stdout",
     "output_type": "stream",
     "text": [
      "Minimum length (in words): 1 -> 84 responses\n",
      "Maximum length (in words): 959 -> 1 responses\n"
     ]
    }
   ],
   "source": [
    "min_len = df_comments_exploration['text_length'].min()\n",
    "max_len = df_comments_exploration['text_length'].max()\n",
    "\n",
    "num_min = (df_comments_exploration['text_length'] == min_len).sum()\n",
    "num_max = (df_comments_exploration['text_length'] == max_len).sum()\n",
    "\n",
    "print(f\"Minimum length (in words): {min_len} -> {num_min} responses\")\n",
    "print(f\"Maximum length (in words): {max_len} -> {num_max} responses\")"
   ]
  },
  {
   "cell_type": "markdown",
   "metadata": {
    "id": "DU7XwuyV9ZJR"
   },
   "source": [
    "## TOP WORD FREQUENCY IN POSTS (EXCLUDING STOP WORDS)"
   ]
  },
  {
   "cell_type": "code",
   "execution_count": null,
   "metadata": {
    "colab": {
     "base_uri": "https://localhost:8080/"
    },
    "executionInfo": {
     "elapsed": 460,
     "status": "ok",
     "timestamp": 1751832188640,
     "user": {
      "displayName": "PIETRO SCAPINI",
      "userId": "06017685043124541547"
     },
     "user_tz": -120
    },
    "id": "V7NdC6epByEn",
    "outputId": "d8dfef9b-8a46-4fd2-99cb-3cc2f6ed6500"
   },
   "outputs": [
    {
     "name": "stderr",
     "output_type": "stream",
     "text": [
      "[nltk_data] Downloading package punkt to /root/nltk_data...\n",
      "[nltk_data]   Unzipping tokenizers/punkt.zip.\n",
      "[nltk_data] Downloading package stopwords to /root/nltk_data...\n",
      "[nltk_data]   Unzipping corpora/stopwords.zip.\n",
      "[nltk_data] Downloading package punkt_tab to /root/nltk_data...\n",
      "[nltk_data]   Unzipping tokenizers/punkt_tab.zip.\n"
     ]
    },
    {
     "data": {
      "text/plain": [
       "True"
      ]
     },
     "execution_count": 26,
     "metadata": {},
     "output_type": "execute_result"
    }
   ],
   "source": [
    "nltk.download('punkt')\n",
    "nltk.download('stopwords')\n",
    "nltk.download('punkt_tab')"
   ]
  },
  {
   "cell_type": "markdown",
   "metadata": {
    "id": "qP41qZuIATJZ"
   },
   "source": [
    "### TITLE"
   ]
  },
  {
   "cell_type": "markdown",
   "metadata": {
    "id": "q4d3sUw0P3GN"
   },
   "source": [
    "This code concatenates all posts title texts, tokenizes and cleans them by removing punctuation and stopwords, then counts and prints the 20 most frequent words."
   ]
  },
  {
   "cell_type": "code",
   "execution_count": null,
   "metadata": {
    "colab": {
     "base_uri": "https://localhost:8080/",
     "height": 807
    },
    "executionInfo": {
     "elapsed": 369,
     "status": "ok",
     "timestamp": 1751832189003,
     "user": {
      "displayName": "PIETRO SCAPINI",
      "userId": "06017685043124541547"
     },
     "user_tz": -120
    },
    "id": "SaPho-kVPYoi",
    "outputId": "1b37783c-8770-40f0-c176-c57fd2db0c95"
   },
   "outputs": [
    {
     "data": {
      "image/png": "[encoded data removed]",
      "text/plain": [
       "<Figure size 1000x800 with 1 Axes>"
      ]
     },
     "metadata": {},
     "output_type": "display_data"
    }
   ],
   "source": [
    "all_text = ' '.join(df_posts['post_text'].astype(str))\n",
    "\n",
    "tokens = word_tokenize(all_text.lower())\n",
    "stop_words = set(stopwords.words('english'))\n",
    "tokens_cleaned = [word for word in tokens if word.isalpha() and word not in stop_words]\n",
    "\n",
    "word_freq = Counter(tokens_cleaned)\n",
    "top_words = word_freq.most_common(20)\n",
    "\n",
    "words, freqs = zip(*top_words)\n",
    "plt.figure(figsize=(10, 8))\n",
    "sns.barplot(x=list(freqs), y=list(words), color='skyblue')\n",
    "plt.xlabel('Frequency')\n",
    "plt.ylabel('Word')\n",
    "plt.title('Top 20 Most Frequent Words in Posts_title (Excluding Stopwords)')\n",
    "plt.tight_layout()\n",
    "plt.show()"
   ]
  },
  {
   "cell_type": "markdown",
   "metadata": {
    "id": "ZxmFdAmzAbu6"
   },
   "source": [
    "### DESCRIPTION"
   ]
  },
  {
   "cell_type": "markdown",
   "metadata": {
    "id": "PlVXTxd2Abu7"
   },
   "source": [
    "This code concatenates all posts description texts, tokenizes and cleans them by removing punctuation and stopwords, then counts and prints the 20 most frequent words."
   ]
  },
  {
   "cell_type": "code",
   "execution_count": null,
   "metadata": {
    "colab": {
     "base_uri": "https://localhost:8080/",
     "height": 807
    },
    "executionInfo": {
     "elapsed": 671,
     "status": "ok",
     "timestamp": 1751832189705,
     "user": {
      "displayName": "PIETRO SCAPINI",
      "userId": "06017685043124541547"
     },
     "user_tz": -120
    },
    "id": "utUmTXGQAbu7",
    "outputId": "a7d145c6-7b69-4fe4-c230-ba66c0f03c45"
   },
   "outputs": [
    {
     "data": {
      "image/png": "[encoded data removed]",
      "text/plain": [
       "<Figure size 1000x800 with 1 Axes>"
      ]
     },
     "metadata": {},
     "output_type": "display_data"
    }
   ],
   "source": [
    "all_text = ' '.join(df_posts['post_description'].astype(str))\n",
    "\n",
    "tokens = word_tokenize(all_text.lower())\n",
    "stop_words = set(stopwords.words('english'))\n",
    "tokens_cleaned = [word for word in tokens if word.isalpha() and word not in stop_words]\n",
    "\n",
    "word_freq = Counter(tokens_cleaned)\n",
    "top_words = word_freq.most_common(20)\n",
    "\n",
    "words, freqs = zip(*top_words)\n",
    "plt.figure(figsize=(10, 8))\n",
    "sns.barplot(x=list(freqs), y=list(words), color='skyblue')\n",
    "plt.xlabel('Frequency')\n",
    "plt.ylabel('Word')\n",
    "plt.title('Top 20 Most Frequent Words in Posts_description (Excluding Stopwords)')\n",
    "plt.tight_layout()\n",
    "plt.show()"
   ]
  },
  {
   "cell_type": "markdown",
   "metadata": {
    "id": "_OlPCGzF50K6"
   },
   "source": [
    "## TOP WORD FREQUENCY IN COMMENTS (EXCLUDING STOP WORDS)"
   ]
  },
  {
   "cell_type": "markdown",
   "metadata": {
    "id": "vOWhWqu5OzKH"
   },
   "source": [
    "This code concatenates all comments texts, tokenizes and cleans them by removing punctuation and stopwords, then counts and prints the 20 most frequent words."
   ]
  },
  {
   "cell_type": "code",
   "execution_count": null,
   "metadata": {
    "colab": {
     "base_uri": "https://localhost:8080/",
     "height": 807
    },
    "executionInfo": {
     "elapsed": 1390,
     "status": "ok",
     "timestamp": 1751832191101,
     "user": {
      "displayName": "PIETRO SCAPINI",
      "userId": "06017685043124541547"
     },
     "user_tz": -120
    },
    "id": "lEBEtBSiOUv_",
    "outputId": "6e165245-09d2-4dcf-fe72-318a35800bcf"
   },
   "outputs": [
    {
     "data": {
      "image/png": "[encoded data removed]",
      "text/plain": [
       "<Figure size 1000x800 with 1 Axes>"
      ]
     },
     "metadata": {},
     "output_type": "display_data"
    }
   ],
   "source": [
    "all_text = ' '.join(df_comments['text'].astype(str))\n",
    "\n",
    "tokens = word_tokenize(all_text.lower())\n",
    "stop_words = set(stopwords.words('english'))\n",
    "tokens_cleaned = [word for word in tokens if word.isalpha() and word not in stop_words]\n",
    "\n",
    "word_freq = Counter(tokens_cleaned)\n",
    "top_words = word_freq.most_common(20)\n",
    "\n",
    "words, freqs = zip(*top_words)\n",
    "\n",
    "plt.figure(figsize=(10, 8))\n",
    "sns.barplot(x=list(freqs), y=list(words), color='skyblue')\n",
    "plt.xlabel('Frequency')\n",
    "plt.ylabel('Word')\n",
    "plt.title('Top 20 Most Frequent Words in comments (Excluding Stopwords)')\n",
    "plt.tight_layout()\n",
    "\n",
    "plt.show()\n"
   ]
  },
  {
   "cell_type": "markdown",
   "metadata": {
    "id": "BSBydgrTB_vt"
   },
   "source": [
    "## CORRELATION MATRIX: COMMENT FEATURES AND RELEVANCE LEVEL"
   ]
  },
  {
   "cell_type": "code",
   "execution_count": null,
   "metadata": {
    "colab": {
     "base_uri": "https://localhost:8080/",
     "height": 807
    },
    "executionInfo": {
     "elapsed": 345,
     "status": "ok",
     "timestamp": 1751832191455,
     "user": {
      "displayName": "PIETRO SCAPINI",
      "userId": "06017685043124541547"
     },
     "user_tz": -120
    },
    "id": "X3w6M8VrP41J",
    "outputId": "52400e44-5b61-49e0-84d0-a48e87ecc2d2"
   },
   "outputs": [
    {
     "data": {
      "image/png": "[encoded data removed]",
      "text/plain": [
       "<Figure size 1000x800 with 2 Axes>"
      ]
     },
     "metadata": {},
     "output_type": "display_data"
    }
   ],
   "source": [
    "relevant_qrels = df_qrels\n",
    "\n",
    "df_comments_renamed = df_comments.rename(columns={\n",
    "    'upvotes': 'comment_upvotes',\n",
    "    'replies': 'comment_replies',\n",
    "    'timestamp': 'comment_timestamp',\n",
    "    'karma_post': 'comment_karma_post',\n",
    "    'karma_comments': 'comment_karma_comments'\n",
    "})\n",
    "\n",
    "merged = pd.merge(relevant_qrels, df_comments_renamed, on='comment_id', how='inner') # consider same comment_id in df_comments e df_qrels\n",
    "\n",
    "features = [\n",
    "    'comment_upvotes',\n",
    "    'comment_replies',\n",
    "    'comment_timestamp',\n",
    "    'comment_karma_post',\n",
    "    'comment_karma_comments',\n",
    "    'relevance_level'\n",
    "]\n",
    "correlation_df = merged[features].copy()\n",
    "\n",
    "if pd.api.types.is_datetime64_any_dtype(correlation_df['comment_timestamp']):\n",
    "    correlation_df['comment_timestamp'] = correlation_df['comment_timestamp'].astype('int64')\n",
    "\n",
    "corr_matrix = correlation_df.corr(method='pearson')\n",
    "\n",
    "plt.figure(figsize=(10, 8))\n",
    "sns.heatmap(corr_matrix, annot=True, fmt=\".2f\", cmap=\"Blues\", center=0)\n",
    "plt.title('Correlation Matrix: Comment Features vs Relevance')\n",
    "plt.tight_layout()\n",
    "plt.show()\n"
   ]
  },
  {
   "cell_type": "markdown",
   "metadata": {
    "id": "JefQ61mwSWXh"
   },
   "source": [
    "# **RETRIEVAL MODELS: BM25 and NEURAL RERANKING**"
   ]
  },
  {
   "cell_type": "markdown",
   "metadata": {
    "id": "itSzbsLcSZOU"
   },
   "source": [
    "## BASELINE RETRIEVAL (BM25)"
   ]
  },
  {
   "cell_type": "markdown",
   "metadata": {
    "id": "Gcj16R-21U0y"
   },
   "source": [
    "BM25 (Best Matching 25) is a probabilistic ranking model that measures the relevance of the comments with respect to a specific post.\n",
    "\n",
    "- Takes into account the frequency of the term in the document\n",
    "\n",
    "- Normalizes for the length of the document\n",
    "\n",
    "- Uses an IDF weight to penalize terms that are too common"
   ]
  },
  {
   "cell_type": "code",
   "execution_count": null,
   "metadata": {
    "colab": {
     "base_uri": "https://localhost:8080/"
    },
    "collapsed": true,
    "executionInfo": {
     "elapsed": 4886,
     "status": "ok",
     "timestamp": 1751832196350,
     "user": {
      "displayName": "PIETRO SCAPINI",
      "userId": "06017685043124541547"
     },
     "user_tz": -120
    },
    "id": "0LEDF0jWKLeF",
    "outputId": "9b44d823-1847-4bc0-e9b0-d3c3c7858b25"
   },
   "outputs": [
    {
     "name": "stdout",
     "output_type": "stream",
     "text": [
      "Requirement already satisfied: rank_bm25 in /usr/local/lib/python3.11/dist-packages (0.2.2)\n",
      "Requirement already satisfied: numpy in /usr/local/lib/python3.11/dist-packages (from rank_bm25) (2.0.2)\n"
     ]
    }
   ],
   "source": [
    "!pip install rank_bm25"
   ]
  },
  {
   "cell_type": "code",
   "execution_count": null,
   "metadata": {
    "id": "aTFKcQA1YmkQ"
   },
   "outputs": [],
   "source": [
    "df_posts_bm25 = df_posts.copy()\n",
    "df_comments_bm25 = df_comments.copy()"
   ]
  },
  {
   "cell_type": "code",
   "execution_count": null,
   "metadata": {
    "id": "5_irStrBZGJx"
   },
   "outputs": [],
   "source": [
    "def generate_bm25(df_posts, df_comments, top_k=10):\n",
    "    stop_words = set(stopwords.words('english'))\n",
    "\n",
    "    def tokenize(text):\n",
    "        tokens = word_tokenize(str(text).lower())\n",
    "        return [t for t in tokens if t.isalnum() and t not in stop_words]\n",
    "\n",
    "    # Tokenize all comment texts once\n",
    "    df_comments = df_comments.copy()\n",
    "    doc_ids = df_comments['comment_id'].tolist()\n",
    "    doc_texts = df_comments['text'].tolist()\n",
    "    tokenized_docs = [tokenize(doc) for doc in doc_texts]\n",
    "\n",
    "    # Build BM25 index once\n",
    "    bm25 = BM25Okapi(tokenized_docs)\n",
    "\n",
    "    results_query = []\n",
    "\n",
    "    for i, row in df_posts.iterrows():\n",
    "        post_id = row['post_id']\n",
    "        desc = row['post_description']\n",
    "        title = row['post_text']\n",
    "        post_text = title if pd.isna(desc) or not isinstance(desc, str) or not desc.strip() else desc\n",
    "\n",
    "        # Tokenize query\n",
    "        query_tokens = tokenize(post_text)\n",
    "\n",
    "        # Get scores for all documents\n",
    "        scores = bm25.get_scores(query_tokens)\n",
    "        scores_norm = MinMaxScaler().fit_transform(np.array(scores).reshape(-1, 1)).flatten()\n",
    "\n",
    "        top_indices = np.argsort(scores_norm)[::-1][:top_k]\n",
    "        results = [(doc_ids[idx], scores_norm[idx]) for idx in top_indices]\n",
    "        results_query.append(results)\n",
    "\n",
    "    df_posts['Top10_BM25'] = results_query\n",
    "    return df_posts"
   ]
  },
  {
   "cell_type": "code",
   "execution_count": null,
   "metadata": {
    "colab": {
     "base_uri": "https://localhost:8080/",
     "height": 527
    },
    "executionInfo": {
     "elapsed": 18896,
     "status": "ok",
     "timestamp": 1751832215342,
     "user": {
      "displayName": "PIETRO SCAPINI",
      "userId": "06017685043124541547"
     },
     "user_tz": -120
    },
    "id": "9H9ulrh5Zgf_",
    "outputId": "e0e6f74e-a7eb-4745-de3b-8e6927520fff"
   },
   "outputs": [
    {
     "data": {
      "application/vnd.google.colaboratory.intrinsic+json": {
       "summary": "{\n  \"name\": \"df_posts_bm25\",\n  \"rows\": 165,\n  \"fields\": [\n    {\n      \"column\": \"post_id\",\n      \"properties\": {\n        \"dtype\": \"string\",\n        \"num_unique_values\": 165,\n        \"samples\": [\n          \"1bzvw5o\",\n          \"p3sibk\",\n          \"1fhf8rb\"\n        ],\n        \"semantic_type\": \"\",\n        \"description\": \"\"\n      }\n    },\n    {\n      \"column\": \"post_text\",\n      \"properties\": {\n        \"dtype\": \"string\",\n        \"num_unique_values\": 165,\n        \"samples\": [\n          \"Strongly suspect my husband of inappropriate behaviour with our daughter. I don't know what to do.\",\n          \"Wife has given hall pass, no idea how to use it\\u2026\",\n          \"My parents don't let me eat. I have a job. I'm not allowed to use the apliances(fridge, stove, oven, microwave) I was starving and made food when they were gone, I got yelled at and they threatened to throw it out. What foods can I buy that don't require cooking and don't attract bugs so I can hide?\"\n        ],\n        \"semantic_type\": \"\",\n        \"description\": \"\"\n      }\n    },\n    {\n      \"column\": \"post_description\",\n      \"properties\": {\n        \"dtype\": \"string\",\n        \"num_unique_values\": 160,\n        \"samples\": [\n          \"&#x200B;\\n\\nMy girlfriend for 2 months told me she had unlimited phone call minutes so she used to call me everyday for hours and we would sleep on the phone but she then finds out that she had to pay 400$ for the phone bill and now her parents want me to pay half of that since she spent 200$ calling me what should i do?\\n\\n\\ud83d\\udcf7  \\n \",\n          \"Me (19M) and my dad (52M) live together in a condo. My mom (53F) and him are separated, if that matters.\\n\\nFor context, here is how our living room in the condo is set up: both my dad's and my PC setups are in the living room, facing toward opposing walls.\\n\\nAnyway, I come home to the condo after a doctor's appointment. I go and sit down at my desk as usual. My dad and I are conversing about my appointment, just usual casual talk. While we're talking, he looks away casually to look at the kitchen (away from the living room), and I look away at the same time at his computer screen. He already has a bad habit of keeping applications open on his computer, even when he is away or asleep.\\n\\nAt a glance, I see pornography. I personally don't think much of it, because it isn't a crime to have porn. The man is single, so hey, everyone needs to get off sometimes. However, it did look strange. It was a paused video on an MP4 player, in a small window on his computer. He has other windows open too, but it's just normal casual Youtube stuff.\\n\\nI don't think he noticed that I saw what was on his screen. In fact, I don't even think he knew it was on his screen. He probably thought he closed it earlier or something.\\n\\nHe says he's going to get ready to play pool, so he goes to his room and the bathroom. While he's away,  I take a closer look at what's on his screen, and sure enough... it's of a little boy. Like no debate, it is of an underage child.\\n\\nI wanted to throw up and cry, I didn't think he would do anything like this. If there's one file, there's more on his hard drive for sure, right?\\n\\nI needed to play it off that I never noticed, once he comes back and tells me he's leaving to go play pool. So I hop on a game on my own computer to make it seem like I was too distracted by my own gaming to even notice what's on his computer screen across the room behind me. About 20 minutes later, he comes out, turns off his computer, and says he's leaving, all while I'm playing the game. It seems that it worked.\\n\\nI told my mother about what happened. I'm staying at my mom's place now. She seems to have the perspective about how to keep the family together, but I personally think this is already past a family matter. This isn't a victimless crime. I don't even know how long this has been going on. He's always been a good father to me, but I feel so disgusted. Has he ever looked at me the same way he looks at those little boys? How does he even acquire this stuff?\\n\\nWhat should I do? Should I file an anonymous claim? Should I confront him? Tell him to seek help?\\n\\n&#x200B;\\n\\nEDIT:\\n\\nMy girlfriend (19F) comes over on the weekends sometimes, and she prefers staying at my dad's condo than my mom's house, as there's more to do. I haven't told her anything about what I discovered about my father. I don't feel comfortable bringing her to the condo, especially if she's sleeping over. What should I tell her, if anything?\\n\\nAlso, my dad's own father has a history of pedophilia as well. My dad grew up to hate and despise him, as he abused and molested his own children. I feel that my dad, who knows well how child abuse and pedophilia can ruin a family, should know so much better than to do this.\",\n          \"TL;DR Discovered my husband has for a while been telling people I'm suicidal, and am generally mentally unstable. It's occured to me this could be part of an attempt to make it look like I commited suicide if I were to die suddenly. Am I being paranoid?\\n\\nI (26f) Have recently found reason to suggest my husband (29M) could be plotting to kill me and make it look like a suicide.\\n\\nYes, I realise how out there that sound, let me explain-\\n\\nMy reason for thinking is is because I discovered he has been secretly telling people we know, for a while, that I am apparently suicidal, along with other things to make me seem mentally unstable, as far as lying about having to call the police because I was a missing person. Recently the thought came to my mind, that this could be a way of making my death appear like a suicide, if he were to kill me, and I wanna share those thoughts to see what others think \\n\\nIt started after he one night told me not to go into the local store he works at, as he left early and had apparently used me as an excuse. Then not long after he happened to leave his messages open, and I noticed a conversation with his coworker about me, so curiosity got the better and I took a snoop. Turns out the excuse he'd used about me, was claiming that I'd gone missing and he needed to go look for me, adding the detail that I'm 'on suicide watch' even saying that he called the police. \\n   \\nOn another occasion, he said we can no longer go to his shop on Thursdays (It's the local store so we shop there regularly) because he'd told them he needed that day off as he takes me to therapy that day (This isn't true, we've never been to therapy)  \\n\\nMore recently we had similar incident, where he told me I couldn't go in the his shop as he'd used me as an excuse again. I Took another snoop and found he'd told them he needed to stay home with me due to my mental health. When he finally went back he told them that my brother is able to be with me now so he feels safe leaving me at home (I Haven't spoken to my brother in months)\\n\\nTo be clear, I have no history of mental health issues, never had to go to therapy, never been a missing person, nor has anyone ever had to call the police for me\\n\\nThis all also reminded me of a time a while ago, where he mentioned in casual conversation how he could get away with killing me, because no one would notice me missing. He explained how I don't talk to my friends or family regularly so they wouldn't realise I was gone, and he could just call my work and tell them I quit. This did creep me out at the time, but I brushed it off as a weird joke\\n\\nFor background, my husband is diagnosed with autism,  ADHD, and narcissistic personality disorder, he also has always had compulsive lying and anger issue. (I've Know of that since even before this) He also has a history of mistreating me, in a way some might call abusive. A lot of emotional abuse such as putting me down, both privately and in front of other,  being demanding and controling. He's never actually struck me physically, but has used threats of violence to get what he wants before\\n\\nAlthough all this concerns me, I also feel kinda silly for being concerned. Maybe I'm just paranoid, maybe I actually am as crazy as he's making me out to be? An outside perspective would be helpful.\\n\\nShould I do anything, or just ignore it and stop snooping?\\n\\n[EDIT: Apologies for the way I've been replying to comments so far, I realise I've been acting kinda stubborn and it isn't helpful. I'm Gonna pause reading the comments for a bit so I can come back with a more clear head. Please do continue commenting if you have anything though as I will read them]\\n\\n[UPDATE: (21/3/2023) I Have spoken to the council who say they will be able to provide me with emergency accommodation, I am currently making plans and waiting for an opportune time to leave]\"\n        ],\n        \"semantic_type\": \"\",\n        \"description\": \"\"\n      }\n    },\n    {\n      \"column\": \"Top10_BM25\",\n      \"properties\": {\n        \"dtype\": \"object\",\n        \"semantic_type\": \"\",\n        \"description\": \"\"\n      }\n    }\n  ]\n}",
       "type": "dataframe",
       "variable_name": "df_posts_bm25"
      },
      "text/html": [
       "\n",
       "  <div id=\"df-4ef62ed4-d58d-4932-bf3a-a828a2a57f6f\" class=\"colab-df-container\">\n",
       "    <div>\n",
       "<style scoped>\n",
       "    .dataframe tbody tr th:only-of-type {\n",
       "        vertical-align: middle;\n",
       "    }\n",
       "\n",
       "    .dataframe tbody tr th {\n",
       "        vertical-align: top;\n",
       "    }\n",
       "\n",
       "    .dataframe thead th {\n",
       "        text-align: right;\n",
       "    }\n",
       "</style>\n",
       "<table border=\"1\" class=\"dataframe\">\n",
       "  <thead>\n",
       "    <tr style=\"text-align: right;\">\n",
       "      <th></th>\n",
       "      <th>post_id</th>\n",
       "      <th>post_text</th>\n",
       "      <th>post_description</th>\n",
       "      <th>Top10_BM25</th>\n",
       "    </tr>\n",
       "  </thead>\n",
       "  <tbody>\n",
       "    <tr>\n",
       "      <th>0</th>\n",
       "      <td>1izle46</td>\n",
       "      <td>My Dad Left Us 15 Years Ago – Now He’s Dying a...</td>\n",
       "      <td>When I was 10, my dad walked out on our family...</td>\n",
       "      <td>[(1izle46_mf3uhzd, 1.0), (oev5mz_h48vaf4, 0.84...</td>\n",
       "    </tr>\n",
       "    <tr>\n",
       "      <th>1</th>\n",
       "      <td>1j6z84l</td>\n",
       "      <td>Girlfriend just punched me in the face multipl...</td>\n",
       "      <td>So my longtime girlfriend just had an absolute...</td>\n",
       "      <td>[(z8vhe1_iyfa7ux, 1.0), (1l7couk_mww7d7f, 0.99...</td>\n",
       "    </tr>\n",
       "    <tr>\n",
       "      <th>2</th>\n",
       "      <td>1hq4eut</td>\n",
       "      <td>My GF is in a medically induced coma and I am ...</td>\n",
       "      <td>\\nMy (34M) girlfriend (35F) started having chi...</td>\n",
       "      <td>[(1hq4eut_m4nb5lb, 1.0), (1hq4eut_m4mx4et, 0.9...</td>\n",
       "    </tr>\n",
       "    <tr>\n",
       "      <th>3</th>\n",
       "      <td>1jxjlxv</td>\n",
       "      <td>Professor has been secretly docking points any...</td>\n",
       "      <td>My professor recently revealed that he’s been ...</td>\n",
       "      <td>[(1jxjlxv_mmqvx2t, 1.0), (1jxjlxv_mmqv745, 0.8...</td>\n",
       "    </tr>\n",
       "    <tr>\n",
       "      <th>4</th>\n",
       "      <td>1le1rhl</td>\n",
       "      <td>Gf gave me chlamydia</td>\n",
       "      <td>Gf of 6 months just tested positive for chlamy...</td>\n",
       "      <td>[(1h9mp4i_m12ssxs, 0.9999999999999999), (1le1r...</td>\n",
       "    </tr>\n",
       "    <tr>\n",
       "      <th>...</th>\n",
       "      <td>...</td>\n",
       "      <td>...</td>\n",
       "      <td>...</td>\n",
       "      <td>...</td>\n",
       "    </tr>\n",
       "    <tr>\n",
       "      <th>160</th>\n",
       "      <td>1k7umkb</td>\n",
       "      <td>My brother is a huge creep, how do I get my pa...</td>\n",
       "      <td>My (14F) brother (15M) has down syndrome and i...</td>\n",
       "      <td>[(1k7umkb_mp1jl01, 1.0), (1k7umkb_mp1hh48, 0.8...</td>\n",
       "    </tr>\n",
       "    <tr>\n",
       "      <th>161</th>\n",
       "      <td>yjqh35</td>\n",
       "      <td>my moms bf strangled me with a belt knowing I ...</td>\n",
       "      <td>My(17f) dad tried to strangle me when I was 13...</td>\n",
       "      <td>[(yjqh35_iupokfp, 1.0), (yjqh35_iuprdcg, 0.596...</td>\n",
       "    </tr>\n",
       "    <tr>\n",
       "      <th>162</th>\n",
       "      <td>14gfl8g</td>\n",
       "      <td>Pregnant (21f) from a one night stand</td>\n",
       "      <td>I just found out yesterday that I am pregnant ...</td>\n",
       "      <td>[(mu7x2h_gv50m1v, 1.0), (14gfl8g_jp6tpnx, 0.97...</td>\n",
       "    </tr>\n",
       "    <tr>\n",
       "      <th>163</th>\n",
       "      <td>13zfqvy</td>\n",
       "      <td>Getting Over Hatred of Women</td>\n",
       "      <td>I am a recovering incel. I was never into the ...</td>\n",
       "      <td>[(13zfqvy_jmsjjny, 1.0), (13zfqvy_jmry8zy, 0.9...</td>\n",
       "    </tr>\n",
       "    <tr>\n",
       "      <th>164</th>\n",
       "      <td>1lpyp0w</td>\n",
       "      <td>Girlfriend goes for a drink one-on-on</td>\n",
       "      <td>Am I being unreasonable in that my girlfriend ...</td>\n",
       "      <td>[(1lpyp0w_n0zf5p0, 1.0), (1lpyp0w_n0yl875, 0.8...</td>\n",
       "    </tr>\n",
       "  </tbody>\n",
       "</table>\n",
       "<p>165 rows × 4 columns</p>\n",
       "</div>\n",
       "    <div class=\"colab-df-buttons\">\n",
       "\n",
       "  <div class=\"colab-df-container\">\n",
       "    <button class=\"colab-df-convert\" onclick=\"convertToInteractive('df-4ef62ed4-d58d-4932-bf3a-a828a2a57f6f')\"\n",
       "            title=\"Convert this dataframe to an interactive table.\"\n",
       "            style=\"display:none;\">\n",
       "\n",
       "  <svg xmlns=\"http://www.w3.org/2000/svg\" height=\"24px\" viewBox=\"0 -960 960 960\">\n",
       "    <path d=\"M120-120v-720h720v720H120Zm60-500h600v-160H180v160Zm220 220h160v-160H400v160Zm0 220h160v-160H400v160ZM180-400h160v-160H180v160Zm440 0h160v-160H620v160ZM180-180h160v-160H180v160Zm440 0h160v-160H620v160Z\"/>\n",
       "  </svg>\n",
       "    </button>\n",
       "\n",
       "  <style>\n",
       "    .colab-df-container {\n",
       "      display:flex;\n",
       "      gap: 12px;\n",
       "    }\n",
       "\n",
       "    .colab-df-convert {\n",
       "      background-color: #E8F0FE;\n",
       "      border: none;\n",
       "      border-radius: 50%;\n",
       "      cursor: pointer;\n",
       "      display: none;\n",
       "      fill: #1967D2;\n",
       "      height: 32px;\n",
       "      padding: 0 0 0 0;\n",
       "      width: 32px;\n",
       "    }\n",
       "\n",
       "    .colab-df-convert:hover {\n",
       "      background-color: #E2EBFA;\n",
       "      box-shadow: 0px 1px 2px rgba(60, 64, 67, 0.3), 0px 1px 3px 1px rgba(60, 64, 67, 0.15);\n",
       "      fill: #174EA6;\n",
       "    }\n",
       "\n",
       "    .colab-df-buttons div {\n",
       "      margin-bottom: 4px;\n",
       "    }\n",
       "\n",
       "    [theme=dark] .colab-df-convert {\n",
       "      background-color: #3B4455;\n",
       "      fill: #D2E3FC;\n",
       "    }\n",
       "\n",
       "    [theme=dark] .colab-df-convert:hover {\n",
       "      background-color: #434B5C;\n",
       "      box-shadow: 0px 1px 3px 1px rgba(0, 0, 0, 0.15);\n",
       "      filter: drop-shadow(0px 1px 2px rgba(0, 0, 0, 0.3));\n",
       "      fill: #FFFFFF;\n",
       "    }\n",
       "  </style>\n",
       "\n",
       "    <script>\n",
       "      const buttonEl =\n",
       "        document.querySelector('#df-4ef62ed4-d58d-4932-bf3a-a828a2a57f6f button.colab-df-convert');\n",
       "      buttonEl.style.display =\n",
       "        google.colab.kernel.accessAllowed ? 'block' : 'none';\n",
       "\n",
       "      async function convertToInteractive(key) {\n",
       "        const element = document.querySelector('#df-4ef62ed4-d58d-4932-bf3a-a828a2a57f6f');\n",
       "        const dataTable =\n",
       "          await google.colab.kernel.invokeFunction('convertToInteractive',\n",
       "                                                    [key], {});\n",
       "        if (!dataTable) return;\n",
       "\n",
       "        const docLinkHtml = 'Like what you see? Visit the ' +\n",
       "          '<a target=\"_blank\" href=https://colab.research.google.com/notebooks/data_table.ipynb>data table notebook</a>'\n",
       "          + ' to learn more about interactive tables.';\n",
       "        element.innerHTML = '';\n",
       "        dataTable['output_type'] = 'display_data';\n",
       "        await google.colab.output.renderOutput(dataTable, element);\n",
       "        const docLink = document.createElement('div');\n",
       "        docLink.innerHTML = docLinkHtml;\n",
       "        element.appendChild(docLink);\n",
       "      }\n",
       "    </script>\n",
       "  </div>\n",
       "\n",
       "\n",
       "    <div id=\"df-2970c738-1c54-4212-9788-d33f0d72724c\">\n",
       "      <button class=\"colab-df-quickchart\" onclick=\"quickchart('df-2970c738-1c54-4212-9788-d33f0d72724c')\"\n",
       "                title=\"Suggest charts\"\n",
       "                style=\"display:none;\">\n",
       "\n",
       "<svg xmlns=\"http://www.w3.org/2000/svg\" height=\"24px\"viewBox=\"0 0 24 24\"\n",
       "     width=\"24px\">\n",
       "    <g>\n",
       "        <path d=\"M19 3H5c-1.1 0-2 .9-2 2v14c0 1.1.9 2 2 2h14c1.1 0 2-.9 2-2V5c0-1.1-.9-2-2-2zM9 17H7v-7h2v7zm4 0h-2V7h2v10zm4 0h-2v-4h2v4z\"/>\n",
       "    </g>\n",
       "</svg>\n",
       "      </button>\n",
       "\n",
       "<style>\n",
       "  .colab-df-quickchart {\n",
       "      --bg-color: #E8F0FE;\n",
       "      --fill-color: #1967D2;\n",
       "      --hover-bg-color: #E2EBFA;\n",
       "      --hover-fill-color: #174EA6;\n",
       "      --disabled-fill-color: #AAA;\n",
       "      --disabled-bg-color: #DDD;\n",
       "  }\n",
       "\n",
       "  [theme=dark] .colab-df-quickchart {\n",
       "      --bg-color: #3B4455;\n",
       "      --fill-color: #D2E3FC;\n",
       "      --hover-bg-color: #434B5C;\n",
       "      --hover-fill-color: #FFFFFF;\n",
       "      --disabled-bg-color: #3B4455;\n",
       "      --disabled-fill-color: #666;\n",
       "  }\n",
       "\n",
       "  .colab-df-quickchart {\n",
       "    background-color: var(--bg-color);\n",
       "    border: none;\n",
       "    border-radius: 50%;\n",
       "    cursor: pointer;\n",
       "    display: none;\n",
       "    fill: var(--fill-color);\n",
       "    height: 32px;\n",
       "    padding: 0;\n",
       "    width: 32px;\n",
       "  }\n",
       "\n",
       "  .colab-df-quickchart:hover {\n",
       "    background-color: var(--hover-bg-color);\n",
       "    box-shadow: 0 1px 2px rgba(60, 64, 67, 0.3), 0 1px 3px 1px rgba(60, 64, 67, 0.15);\n",
       "    fill: var(--button-hover-fill-color);\n",
       "  }\n",
       "\n",
       "  .colab-df-quickchart-complete:disabled,\n",
       "  .colab-df-quickchart-complete:disabled:hover {\n",
       "    background-color: var(--disabled-bg-color);\n",
       "    fill: var(--disabled-fill-color);\n",
       "    box-shadow: none;\n",
       "  }\n",
       "\n",
       "  .colab-df-spinner {\n",
       "    border: 2px solid var(--fill-color);\n",
       "    border-color: transparent;\n",
       "    border-bottom-color: var(--fill-color);\n",
       "    animation:\n",
       "      spin 1s steps(1) infinite;\n",
       "  }\n",
       "\n",
       "  @keyframes spin {\n",
       "    0% {\n",
       "      border-color: transparent;\n",
       "      border-bottom-color: var(--fill-color);\n",
       "      border-left-color: var(--fill-color);\n",
       "    }\n",
       "    20% {\n",
       "      border-color: transparent;\n",
       "      border-left-color: var(--fill-color);\n",
       "      border-top-color: var(--fill-color);\n",
       "    }\n",
       "    30% {\n",
       "      border-color: transparent;\n",
       "      border-left-color: var(--fill-color);\n",
       "      border-top-color: var(--fill-color);\n",
       "      border-right-color: var(--fill-color);\n",
       "    }\n",
       "    40% {\n",
       "      border-color: transparent;\n",
       "      border-right-color: var(--fill-color);\n",
       "      border-top-color: var(--fill-color);\n",
       "    }\n",
       "    60% {\n",
       "      border-color: transparent;\n",
       "      border-right-color: var(--fill-color);\n",
       "    }\n",
       "    80% {\n",
       "      border-color: transparent;\n",
       "      border-right-color: var(--fill-color);\n",
       "      border-bottom-color: var(--fill-color);\n",
       "    }\n",
       "    90% {\n",
       "      border-color: transparent;\n",
       "      border-bottom-color: var(--fill-color);\n",
       "    }\n",
       "  }\n",
       "</style>\n",
       "\n",
       "      <script>\n",
       "        async function quickchart(key) {\n",
       "          const quickchartButtonEl =\n",
       "            document.querySelector('#' + key + ' button');\n",
       "          quickchartButtonEl.disabled = true;  // To prevent multiple clicks.\n",
       "          quickchartButtonEl.classList.add('colab-df-spinner');\n",
       "          try {\n",
       "            const charts = await google.colab.kernel.invokeFunction(\n",
       "                'suggestCharts', [key], {});\n",
       "          } catch (error) {\n",
       "            console.error('Error during call to suggestCharts:', error);\n",
       "          }\n",
       "          quickchartButtonEl.classList.remove('colab-df-spinner');\n",
       "          quickchartButtonEl.classList.add('colab-df-quickchart-complete');\n",
       "        }\n",
       "        (() => {\n",
       "          let quickchartButtonEl =\n",
       "            document.querySelector('#df-2970c738-1c54-4212-9788-d33f0d72724c button');\n",
       "          quickchartButtonEl.style.display =\n",
       "            google.colab.kernel.accessAllowed ? 'block' : 'none';\n",
       "        })();\n",
       "      </script>\n",
       "    </div>\n",
       "\n",
       "  <div id=\"id_61b3e77c-17d9-4ff9-a1d0-0c24e324c1ff\">\n",
       "    <style>\n",
       "      .colab-df-generate {\n",
       "        background-color: #E8F0FE;\n",
       "        border: none;\n",
       "        border-radius: 50%;\n",
       "        cursor: pointer;\n",
       "        display: none;\n",
       "        fill: #1967D2;\n",
       "        height: 32px;\n",
       "        padding: 0 0 0 0;\n",
       "        width: 32px;\n",
       "      }\n",
       "\n",
       "      .colab-df-generate:hover {\n",
       "        background-color: #E2EBFA;\n",
       "        box-shadow: 0px 1px 2px rgba(60, 64, 67, 0.3), 0px 1px 3px 1px rgba(60, 64, 67, 0.15);\n",
       "        fill: #174EA6;\n",
       "      }\n",
       "\n",
       "      [theme=dark] .colab-df-generate {\n",
       "        background-color: #3B4455;\n",
       "        fill: #D2E3FC;\n",
       "      }\n",
       "\n",
       "      [theme=dark] .colab-df-generate:hover {\n",
       "        background-color: #434B5C;\n",
       "        box-shadow: 0px 1px 3px 1px rgba(0, 0, 0, 0.15);\n",
       "        filter: drop-shadow(0px 1px 2px rgba(0, 0, 0, 0.3));\n",
       "        fill: #FFFFFF;\n",
       "      }\n",
       "    </style>\n",
       "    <button class=\"colab-df-generate\" onclick=\"generateWithVariable('df_posts_bm25')\"\n",
       "            title=\"Generate code using this dataframe.\"\n",
       "            style=\"display:none;\">\n",
       "\n",
       "  <svg xmlns=\"http://www.w3.org/2000/svg\" height=\"24px\"viewBox=\"0 0 24 24\"\n",
       "       width=\"24px\">\n",
       "    <path d=\"M7,19H8.4L18.45,9,17,7.55,7,17.6ZM5,21V16.75L18.45,3.32a2,2,0,0,1,2.83,0l1.4,1.43a1.91,1.91,0,0,1,.58,1.4,1.91,1.91,0,0,1-.58,1.4L9.25,21ZM18.45,9,17,7.55Zm-12,3A5.31,5.31,0,0,0,4.9,8.1,5.31,5.31,0,0,0,1,6.5,5.31,5.31,0,0,0,4.9,4.9,5.31,5.31,0,0,0,6.5,1,5.31,5.31,0,0,0,8.1,4.9,5.31,5.31,0,0,0,12,6.5,5.46,5.46,0,0,0,6.5,12Z\"/>\n",
       "  </svg>\n",
       "    </button>\n",
       "    <script>\n",
       "      (() => {\n",
       "      const buttonEl =\n",
       "        document.querySelector('#id_61b3e77c-17d9-4ff9-a1d0-0c24e324c1ff button.colab-df-generate');\n",
       "      buttonEl.style.display =\n",
       "        google.colab.kernel.accessAllowed ? 'block' : 'none';\n",
       "\n",
       "      buttonEl.onclick = () => {\n",
       "        google.colab.notebook.generateWithVariable('df_posts_bm25');\n",
       "      }\n",
       "      })();\n",
       "    </script>\n",
       "  </div>\n",
       "\n",
       "    </div>\n",
       "  </div>\n"
      ],
      "text/plain": [
       "     post_id                                          post_text  \\\n",
       "0    1izle46  My Dad Left Us 15 Years Ago – Now He’s Dying a...   \n",
       "1    1j6z84l  Girlfriend just punched me in the face multipl...   \n",
       "2    1hq4eut  My GF is in a medically induced coma and I am ...   \n",
       "3    1jxjlxv  Professor has been secretly docking points any...   \n",
       "4    1le1rhl                               Gf gave me chlamydia   \n",
       "..       ...                                                ...   \n",
       "160  1k7umkb  My brother is a huge creep, how do I get my pa...   \n",
       "161   yjqh35  my moms bf strangled me with a belt knowing I ...   \n",
       "162  14gfl8g              Pregnant (21f) from a one night stand   \n",
       "163  13zfqvy                       Getting Over Hatred of Women   \n",
       "164  1lpyp0w              Girlfriend goes for a drink one-on-on   \n",
       "\n",
       "                                      post_description  \\\n",
       "0    When I was 10, my dad walked out on our family...   \n",
       "1    So my longtime girlfriend just had an absolute...   \n",
       "2    \\nMy (34M) girlfriend (35F) started having chi...   \n",
       "3    My professor recently revealed that he’s been ...   \n",
       "4    Gf of 6 months just tested positive for chlamy...   \n",
       "..                                                 ...   \n",
       "160  My (14F) brother (15M) has down syndrome and i...   \n",
       "161  My(17f) dad tried to strangle me when I was 13...   \n",
       "162  I just found out yesterday that I am pregnant ...   \n",
       "163  I am a recovering incel. I was never into the ...   \n",
       "164  Am I being unreasonable in that my girlfriend ...   \n",
       "\n",
       "                                            Top10_BM25  \n",
       "0    [(1izle46_mf3uhzd, 1.0), (oev5mz_h48vaf4, 0.84...  \n",
       "1    [(z8vhe1_iyfa7ux, 1.0), (1l7couk_mww7d7f, 0.99...  \n",
       "2    [(1hq4eut_m4nb5lb, 1.0), (1hq4eut_m4mx4et, 0.9...  \n",
       "3    [(1jxjlxv_mmqvx2t, 1.0), (1jxjlxv_mmqv745, 0.8...  \n",
       "4    [(1h9mp4i_m12ssxs, 0.9999999999999999), (1le1r...  \n",
       "..                                                 ...  \n",
       "160  [(1k7umkb_mp1jl01, 1.0), (1k7umkb_mp1hh48, 0.8...  \n",
       "161  [(yjqh35_iupokfp, 1.0), (yjqh35_iuprdcg, 0.596...  \n",
       "162  [(mu7x2h_gv50m1v, 1.0), (14gfl8g_jp6tpnx, 0.97...  \n",
       "163  [(13zfqvy_jmsjjny, 1.0), (13zfqvy_jmry8zy, 0.9...  \n",
       "164  [(1lpyp0w_n0zf5p0, 1.0), (1lpyp0w_n0yl875, 0.8...  \n",
       "\n",
       "[165 rows x 4 columns]"
      ]
     },
     "execution_count": 34,
     "metadata": {},
     "output_type": "execute_result"
    }
   ],
   "source": [
    "generate_bm25(df_posts_bm25, df_comments_bm25)"
   ]
  },
  {
   "cell_type": "markdown",
   "metadata": {
    "id": "HQtvjLi_SeiB"
   },
   "source": [
    "## NEURAL RERANKING"
   ]
  },
  {
   "cell_type": "markdown",
   "metadata": {
    "id": "VsS49FmSkwBF"
   },
   "source": [
    "This technique orders the comments using a neural model to improve relevance.\n",
    "\n",
    "- A bi-encoder encodes posts and comments separately into dense vectors.\n",
    "- Cosine similarity between embeddings estimates semantic relevance.\n",
    "- It captures deeper meanings and context beyond exact term matching.\n"
   ]
  },
  {
   "cell_type": "code",
   "execution_count": null,
   "metadata": {
    "colab": {
     "base_uri": "https://localhost:8080/"
    },
    "collapsed": true,
    "executionInfo": {
     "elapsed": 12354,
     "status": "ok",
     "timestamp": 1751831838758,
     "user": {
      "displayName": "PIETRO SCAPINI",
      "userId": "06017685043124541547"
     },
     "user_tz": -120
    },
    "id": "qWNpJ-VyqZBu",
    "outputId": "e08aaad4-4813-4e3d-aef2-689a9a023b1d"
   },
   "outputs": [
    {
     "name": "stdout",
     "output_type": "stream",
     "text": [
      "\u001b[31mERROR: pip's dependency resolver does not currently take into account all the packages that are installed. This behaviour is the source of the following dependency conflicts.\n",
      "sentence-transformers 5.0.0 requires transformers<5.0.0,>=4.41.0, but you have transformers 4.40.1 which is incompatible.\u001b[0m\u001b[31m\n",
      "\u001b[0m"
     ]
    }
   ],
   "source": [
    "#pip install transformers==4.40.1 -qq"
   ]
  },
  {
   "cell_type": "code",
   "execution_count": null,
   "metadata": {
    "id": "DzpvjDLJZqgN"
   },
   "outputs": [],
   "source": [
    "df_posts_biencoder = df_posts.copy()\n",
    "df_comments_biencoder = df_comments.copy()"
   ]
  },
  {
   "cell_type": "code",
   "execution_count": null,
   "metadata": {
    "colab": {
     "base_uri": "https://localhost:8080/",
     "height": 333,
     "referenced_widgets": [
      "e216cc88317c4201a2493923925750b6",
      "c3d9efeea92243b2ae2b1d866b32ee9f",
      "3cc7ad297f2b45d89be218f6c59a099d",
      "8a7c19c8fe3f479a84247473bf4bc756",
      "3f9420145b0146b78508e2ca4a795cfe",
      "260cb94366b343e7bd38b6ef2b990d53",
      "0b25a001834345ff87f0da0149a31e4b",
      "bde0c5481a794167bfb9edda6beb4835",
      "c6052a30f02e4ed5a551e510fd1967f0",
      "bc8aa9fc2d654b46a57ae0a7460a7bc3",
      "2c450b81e52a457a938b9e725b47741e",
      "208651cde362430995ee7c4652ba1340",
      "ce4596325a60435d8a6c0c76ce2dad3d",
      "3a9a5cc856e742979ccafec61197dfd7",
      "832eeed851484b80bd492a6df6566fe8",
      "fa6b89b754004f59bbe2aaf1a9b5b43d",
      "2d2f199f01bd40149508516757523b57",
      "83d123e8aa2947a0ab88d302dfd0650c",
      "8eb130a3a17f4a6abf258f87f3b85f15",
      "73e0390e150c4dfdb4c2fbdd313c7c87",
      "390f51da712c410992809f79906898c0",
      "063bdc6d249a4849b21b752381c9339f",
      "d09f8b9f56624a7492dd55353b0f55fb",
      "45cdb7ea45504b079502ad1bf56f2c34",
      "4dccd330990f4064803e17d920f40ef8",
      "e21e8520b9bc48778207dc127e50ef9b",
      "590abaeb465645be8a33b0eaf1880c4b",
      "768178015fb94f4eabaa62333e075dc1",
      "e2f84a9049c940de880e5407099a9ab8",
      "64b9d46c9cb74284a4445ca5617cecae",
      "472747eae6e144a8a002156079e47bff",
      "20f50a3a5770492395f9e248241f61ae",
      "0c45ead81161419b9b4fea01746f880e",
      "d51493bfd4c84083a809a4ceaa550d76",
      "00aadd4a54d34f63aeee5c51f911fd48",
      "dbd19aa348f0419cb0904281b613e43c",
      "9eb8511e48dd4058824a2b0df4d0384a",
      "088e44c2af084ba18010d5b4f8cad4d2",
      "7d4955dc784a4d4f9216543a92b39742",
      "c474c3230579424cb3799433cafa8bad",
      "806e2a41105a41be864e371e80cf96b8",
      "51899b34d7df41e59b38b26ed562c2b5",
      "3ecd3d30427949d8b059435f8adf59f5",
      "a852f740a9cd436a83474fd54b1276bc",
      "34b95ef21c834d979341b1bf07b74441",
      "cb5cc073d6154858ad195328784d62ac",
      "5ee0e4b681eb457c86fc61b4383f4329",
      "0403923aca734a0e9f56b8ef70cc2cb6",
      "eb54c0af77ca4045a701381272359adc",
      "a0a2a8b1969d4309b0fb0bf995d4a3aa",
      "9d290774c1e44686a4bfd449a5526140",
      "cc3d9a0610394dd5a7fd217d62244bf5",
      "d876b0c1796e4991be69a81cb5d53ebc",
      "db3b977609494b788709a7e75efa9f38",
      "c706c12671024f32be4c02bb0998cdd0",
      "03f7cadc0b994e2abd6b9468da76110a",
      "205bc5700bb44f7482de2e7f0186d370",
      "db7fcc9144c04d7da56e8ffd11cd9a4f",
      "537b6e9736894950a1a8c8dbeaa6c571",
      "251153a24bbe4c7faf878c93336d22db",
      "fb0d0416695d491ea92cf8bf8c70f167",
      "5a74b5e9851b49d0821bbb4b06cefe1c",
      "bd09cdc6980b4843bb5e5bf09584d3a2",
      "0b3d65b4329a4d17b0d24f54b86410d8",
      "7b3a8fe9ad9343fab52356c170f66aa9",
      "5eca66959dde4db487b78b29de60a224"
     ]
    },
    "executionInfo": {
     "elapsed": 12982,
     "status": "ok",
     "timestamp": 1751832234537,
     "user": {
      "displayName": "PIETRO SCAPINI",
      "userId": "06017685043124541547"
     },
     "user_tz": -120
    },
    "id": "KIinMFSJZ4IH",
    "outputId": "34c9c364-3593-46f8-98e8-f3f9aa6f5077"
   },
   "outputs": [
    {
     "name": "stderr",
     "output_type": "stream",
     "text": [
      "/usr/local/lib/python3.11/dist-packages/huggingface_hub/utils/_auth.py:94: UserWarning: \n",
      "The secret `HF_TOKEN` does not exist in your Colab secrets.\n",
      "To authenticate with the Hugging Face Hub, create a token in your settings tab (https://huggingface.co/settings/tokens), set it as secret in your Google Colab and restart your session.\n",
      "You will be able to reuse this secret in all of your notebooks.\n",
      "Please note that authentication is recommended but still optional to access public models or datasets.\n",
      "  warnings.warn(\n"
     ]
    },
    {
     "data": {
      "application/vnd.jupyter.widget-view+json": {
       "model_id": "e216cc88317c4201a2493923925750b6",
       "version_major": 2,
       "version_minor": 0
      },
      "text/plain": [
       "tokenizer_config.json:   0%|          | 0.00/350 [00:00<?, ?B/s]"
      ]
     },
     "metadata": {},
     "output_type": "display_data"
    },
    {
     "data": {
      "application/vnd.jupyter.widget-view+json": {
       "model_id": "208651cde362430995ee7c4652ba1340",
       "version_major": 2,
       "version_minor": 0
      },
      "text/plain": [
       "vocab.txt: 0.00B [00:00, ?B/s]"
      ]
     },
     "metadata": {},
     "output_type": "display_data"
    },
    {
     "data": {
      "application/vnd.jupyter.widget-view+json": {
       "model_id": "d09f8b9f56624a7492dd55353b0f55fb",
       "version_major": 2,
       "version_minor": 0
      },
      "text/plain": [
       "tokenizer.json: 0.00B [00:00, ?B/s]"
      ]
     },
     "metadata": {},
     "output_type": "display_data"
    },
    {
     "data": {
      "application/vnd.jupyter.widget-view+json": {
       "model_id": "d51493bfd4c84083a809a4ceaa550d76",
       "version_major": 2,
       "version_minor": 0
      },
      "text/plain": [
       "special_tokens_map.json:   0%|          | 0.00/112 [00:00<?, ?B/s]"
      ]
     },
     "metadata": {},
     "output_type": "display_data"
    },
    {
     "data": {
      "application/vnd.jupyter.widget-view+json": {
       "model_id": "34b95ef21c834d979341b1bf07b74441",
       "version_major": 2,
       "version_minor": 0
      },
      "text/plain": [
       "config.json:   0%|          | 0.00/612 [00:00<?, ?B/s]"
      ]
     },
     "metadata": {},
     "output_type": "display_data"
    },
    {
     "data": {
      "application/vnd.jupyter.widget-view+json": {
       "model_id": "03f7cadc0b994e2abd6b9468da76110a",
       "version_major": 2,
       "version_minor": 0
      },
      "text/plain": [
       "model.safetensors:   0%|          | 0.00/90.9M [00:00<?, ?B/s]"
      ]
     },
     "metadata": {},
     "output_type": "display_data"
    }
   ],
   "source": [
    "tokenizer = AutoTokenizer.from_pretrained('sentence-transformers/all-MiniLM-L6-v2')\n",
    "model = AutoModel.from_pretrained('sentence-transformers/all-MiniLM-L6-v2')\n",
    "model.eval()\n",
    "device = torch.device(\"cuda\" if torch.cuda.is_available() else \"cpu\")\n",
    "model.to(device)\n",
    "\n",
    "# Mean Pooling to get sentence embeddings\n",
    "def mean_pooling(model_output, attention_mask):\n",
    "    token_embeddings = model_output[0]\n",
    "    input_mask_expanded = attention_mask.unsqueeze(-1).expand(token_embeddings.size()).float()\n",
    "    return torch.sum(token_embeddings * input_mask_expanded, dim=1) / torch.clamp(input_mask_expanded.sum(1), min=1e-9)\n",
    "\n",
    "# Batched encoding function\n",
    "def get_embeddings(texts, batch_size=128):\n",
    "    embeddings = []\n",
    "    for i in range(0, len(texts), batch_size):\n",
    "        batch = texts[i:i+batch_size]\n",
    "        encoded_input = tokenizer(batch, padding=True, truncation=True, return_tensors='pt').to(device)\n",
    "        with torch.no_grad():\n",
    "            model_output = model(**encoded_input)\n",
    "        sentence_embeddings = mean_pooling(model_output, encoded_input['attention_mask'])\n",
    "        sentence_embeddings = F.normalize(sentence_embeddings, p=2, dim=1)\n",
    "        embeddings.append(sentence_embeddings.cpu())\n",
    "    return torch.cat(embeddings, dim=0)\n",
    "\n",
    "def generate_biencoder(df_posts, df_comments, k=10):\n",
    "    # Sanitize input if needed\n",
    "    df_comments = df_comments.copy()\n",
    "\n",
    "    # Encode all comments once\n",
    "    comment_ids = df_comments['comment_id'].tolist()\n",
    "    comment_texts = df_comments['text'].fillna(\"\").astype(str).tolist()\n",
    "    comment_embeddings = get_embeddings(comment_texts)\n",
    "\n",
    "    top_answers = []\n",
    "\n",
    "    for i in tqdm(range(len(df_posts)), desc=\"Ranking top 10 answers globally per query\"):\n",
    "        post_id = df_posts.loc[i, 'post_id']\n",
    "        desc = df_posts.loc[i, 'post_description']\n",
    "        title = df_posts.loc[i, 'post_text']\n",
    "        post_text = title if pd.isna(desc) or not isinstance(desc, str) or not desc.strip() else desc\n",
    "\n",
    "        # Encode the query\n",
    "        query_embedding = get_embeddings([post_text])\n",
    "\n",
    "        # Compute similarity with all comment embeddings\n",
    "        similarities = F.cosine_similarity(query_embedding, comment_embeddings).numpy()\n",
    "        top_k_indices = np.argsort(similarities)[::-1][:k]\n",
    "\n",
    "        # Get top-k (comment_id, score) pairs\n",
    "        results = [(comment_ids[idx], similarities[idx]) for idx in top_k_indices]\n",
    "        top_answers.append(results)\n",
    "\n",
    "    df_posts['Top10_Biencoder'] = top_answers\n",
    "    return df_posts"
   ]
  },
  {
   "cell_type": "code",
   "execution_count": null,
   "metadata": {
    "colab": {
     "base_uri": "https://localhost:8080/",
     "height": 545
    },
    "executionInfo": {
     "elapsed": 14861,
     "status": "ok",
     "timestamp": 1751832272878,
     "user": {
      "displayName": "PIETRO SCAPINI",
      "userId": "06017685043124541547"
     },
     "user_tz": -120
    },
    "id": "4GzzXxbcZwq1",
    "outputId": "1c7a46cb-cce5-481b-abc2-e41753af3290"
   },
   "outputs": [
    {
     "name": "stderr",
     "output_type": "stream",
     "text": [
      "Ranking top 10 answers globally per query: 100%|██████████| 165/165 [00:01<00:00, 92.99it/s] \n"
     ]
    },
    {
     "data": {
      "application/vnd.google.colaboratory.intrinsic+json": {
       "summary": "{\n  \"name\": \"df_posts_biencoder\",\n  \"rows\": 165,\n  \"fields\": [\n    {\n      \"column\": \"post_id\",\n      \"properties\": {\n        \"dtype\": \"string\",\n        \"num_unique_values\": 165,\n        \"samples\": [\n          \"1bzvw5o\",\n          \"p3sibk\",\n          \"1fhf8rb\"\n        ],\n        \"semantic_type\": \"\",\n        \"description\": \"\"\n      }\n    },\n    {\n      \"column\": \"post_text\",\n      \"properties\": {\n        \"dtype\": \"string\",\n        \"num_unique_values\": 165,\n        \"samples\": [\n          \"Strongly suspect my husband of inappropriate behaviour with our daughter. I don't know what to do.\",\n          \"Wife has given hall pass, no idea how to use it\\u2026\",\n          \"My parents don't let me eat. I have a job. I'm not allowed to use the apliances(fridge, stove, oven, microwave) I was starving and made food when they were gone, I got yelled at and they threatened to throw it out. What foods can I buy that don't require cooking and don't attract bugs so I can hide?\"\n        ],\n        \"semantic_type\": \"\",\n        \"description\": \"\"\n      }\n    },\n    {\n      \"column\": \"post_description\",\n      \"properties\": {\n        \"dtype\": \"string\",\n        \"num_unique_values\": 160,\n        \"samples\": [\n          \"&#x200B;\\n\\nMy girlfriend for 2 months told me she had unlimited phone call minutes so she used to call me everyday for hours and we would sleep on the phone but she then finds out that she had to pay 400$ for the phone bill and now her parents want me to pay half of that since she spent 200$ calling me what should i do?\\n\\n\\ud83d\\udcf7  \\n \",\n          \"Me (19M) and my dad (52M) live together in a condo. My mom (53F) and him are separated, if that matters.\\n\\nFor context, here is how our living room in the condo is set up: both my dad's and my PC setups are in the living room, facing toward opposing walls.\\n\\nAnyway, I come home to the condo after a doctor's appointment. I go and sit down at my desk as usual. My dad and I are conversing about my appointment, just usual casual talk. While we're talking, he looks away casually to look at the kitchen (away from the living room), and I look away at the same time at his computer screen. He already has a bad habit of keeping applications open on his computer, even when he is away or asleep.\\n\\nAt a glance, I see pornography. I personally don't think much of it, because it isn't a crime to have porn. The man is single, so hey, everyone needs to get off sometimes. However, it did look strange. It was a paused video on an MP4 player, in a small window on his computer. He has other windows open too, but it's just normal casual Youtube stuff.\\n\\nI don't think he noticed that I saw what was on his screen. In fact, I don't even think he knew it was on his screen. He probably thought he closed it earlier or something.\\n\\nHe says he's going to get ready to play pool, so he goes to his room and the bathroom. While he's away,  I take a closer look at what's on his screen, and sure enough... it's of a little boy. Like no debate, it is of an underage child.\\n\\nI wanted to throw up and cry, I didn't think he would do anything like this. If there's one file, there's more on his hard drive for sure, right?\\n\\nI needed to play it off that I never noticed, once he comes back and tells me he's leaving to go play pool. So I hop on a game on my own computer to make it seem like I was too distracted by my own gaming to even notice what's on his computer screen across the room behind me. About 20 minutes later, he comes out, turns off his computer, and says he's leaving, all while I'm playing the game. It seems that it worked.\\n\\nI told my mother about what happened. I'm staying at my mom's place now. She seems to have the perspective about how to keep the family together, but I personally think this is already past a family matter. This isn't a victimless crime. I don't even know how long this has been going on. He's always been a good father to me, but I feel so disgusted. Has he ever looked at me the same way he looks at those little boys? How does he even acquire this stuff?\\n\\nWhat should I do? Should I file an anonymous claim? Should I confront him? Tell him to seek help?\\n\\n&#x200B;\\n\\nEDIT:\\n\\nMy girlfriend (19F) comes over on the weekends sometimes, and she prefers staying at my dad's condo than my mom's house, as there's more to do. I haven't told her anything about what I discovered about my father. I don't feel comfortable bringing her to the condo, especially if she's sleeping over. What should I tell her, if anything?\\n\\nAlso, my dad's own father has a history of pedophilia as well. My dad grew up to hate and despise him, as he abused and molested his own children. I feel that my dad, who knows well how child abuse and pedophilia can ruin a family, should know so much better than to do this.\",\n          \"TL;DR Discovered my husband has for a while been telling people I'm suicidal, and am generally mentally unstable. It's occured to me this could be part of an attempt to make it look like I commited suicide if I were to die suddenly. Am I being paranoid?\\n\\nI (26f) Have recently found reason to suggest my husband (29M) could be plotting to kill me and make it look like a suicide.\\n\\nYes, I realise how out there that sound, let me explain-\\n\\nMy reason for thinking is is because I discovered he has been secretly telling people we know, for a while, that I am apparently suicidal, along with other things to make me seem mentally unstable, as far as lying about having to call the police because I was a missing person. Recently the thought came to my mind, that this could be a way of making my death appear like a suicide, if he were to kill me, and I wanna share those thoughts to see what others think \\n\\nIt started after he one night told me not to go into the local store he works at, as he left early and had apparently used me as an excuse. Then not long after he happened to leave his messages open, and I noticed a conversation with his coworker about me, so curiosity got the better and I took a snoop. Turns out the excuse he'd used about me, was claiming that I'd gone missing and he needed to go look for me, adding the detail that I'm 'on suicide watch' even saying that he called the police. \\n   \\nOn another occasion, he said we can no longer go to his shop on Thursdays (It's the local store so we shop there regularly) because he'd told them he needed that day off as he takes me to therapy that day (This isn't true, we've never been to therapy)  \\n\\nMore recently we had similar incident, where he told me I couldn't go in the his shop as he'd used me as an excuse again. I Took another snoop and found he'd told them he needed to stay home with me due to my mental health. When he finally went back he told them that my brother is able to be with me now so he feels safe leaving me at home (I Haven't spoken to my brother in months)\\n\\nTo be clear, I have no history of mental health issues, never had to go to therapy, never been a missing person, nor has anyone ever had to call the police for me\\n\\nThis all also reminded me of a time a while ago, where he mentioned in casual conversation how he could get away with killing me, because no one would notice me missing. He explained how I don't talk to my friends or family regularly so they wouldn't realise I was gone, and he could just call my work and tell them I quit. This did creep me out at the time, but I brushed it off as a weird joke\\n\\nFor background, my husband is diagnosed with autism,  ADHD, and narcissistic personality disorder, he also has always had compulsive lying and anger issue. (I've Know of that since even before this) He also has a history of mistreating me, in a way some might call abusive. A lot of emotional abuse such as putting me down, both privately and in front of other,  being demanding and controling. He's never actually struck me physically, but has used threats of violence to get what he wants before\\n\\nAlthough all this concerns me, I also feel kinda silly for being concerned. Maybe I'm just paranoid, maybe I actually am as crazy as he's making me out to be? An outside perspective would be helpful.\\n\\nShould I do anything, or just ignore it and stop snooping?\\n\\n[EDIT: Apologies for the way I've been replying to comments so far, I realise I've been acting kinda stubborn and it isn't helpful. I'm Gonna pause reading the comments for a bit so I can come back with a more clear head. Please do continue commenting if you have anything though as I will read them]\\n\\n[UPDATE: (21/3/2023) I Have spoken to the council who say they will be able to provide me with emergency accommodation, I am currently making plans and waiting for an opportune time to leave]\"\n        ],\n        \"semantic_type\": \"\",\n        \"description\": \"\"\n      }\n    },\n    {\n      \"column\": \"Top10_Biencoder\",\n      \"properties\": {\n        \"dtype\": \"object\",\n        \"semantic_type\": \"\",\n        \"description\": \"\"\n      }\n    }\n  ]\n}",
       "type": "dataframe",
       "variable_name": "df_posts_biencoder"
      },
      "text/html": [
       "\n",
       "  <div id=\"df-81c5cbe0-7354-4923-a20a-cca34b864770\" class=\"colab-df-container\">\n",
       "    <div>\n",
       "<style scoped>\n",
       "    .dataframe tbody tr th:only-of-type {\n",
       "        vertical-align: middle;\n",
       "    }\n",
       "\n",
       "    .dataframe tbody tr th {\n",
       "        vertical-align: top;\n",
       "    }\n",
       "\n",
       "    .dataframe thead th {\n",
       "        text-align: right;\n",
       "    }\n",
       "</style>\n",
       "<table border=\"1\" class=\"dataframe\">\n",
       "  <thead>\n",
       "    <tr style=\"text-align: right;\">\n",
       "      <th></th>\n",
       "      <th>post_id</th>\n",
       "      <th>post_text</th>\n",
       "      <th>post_description</th>\n",
       "      <th>Top10_Biencoder</th>\n",
       "    </tr>\n",
       "  </thead>\n",
       "  <tbody>\n",
       "    <tr>\n",
       "      <th>0</th>\n",
       "      <td>1izle46</td>\n",
       "      <td>My Dad Left Us 15 Years Ago – Now He’s Dying a...</td>\n",
       "      <td>When I was 10, my dad walked out on our family...</td>\n",
       "      <td>[(1izle46_mf3whj8, 0.72008806), (p47jzn_h8xkkt...</td>\n",
       "    </tr>\n",
       "    <tr>\n",
       "      <th>1</th>\n",
       "      <td>1j6z84l</td>\n",
       "      <td>Girlfriend just punched me in the face multipl...</td>\n",
       "      <td>So my longtime girlfriend just had an absolute...</td>\n",
       "      <td>[(ot4enx_h6tt962, 0.67735136), (15lixy7_jvawjg...</td>\n",
       "    </tr>\n",
       "    <tr>\n",
       "      <th>2</th>\n",
       "      <td>1hq4eut</td>\n",
       "      <td>My GF is in a medically induced coma and I am ...</td>\n",
       "      <td>\\nMy (34M) girlfriend (35F) started having chi...</td>\n",
       "      <td>[(1hq4eut_m4mr5fj, 0.65557724), (1hq4eut_m4mwh...</td>\n",
       "    </tr>\n",
       "    <tr>\n",
       "      <th>3</th>\n",
       "      <td>1jxjlxv</td>\n",
       "      <td>Professor has been secretly docking points any...</td>\n",
       "      <td>My professor recently revealed that he’s been ...</td>\n",
       "      <td>[(1jxjlxv_mmqvx2t, 0.6595881), (1jxjlxv_mmqxlx...</td>\n",
       "    </tr>\n",
       "    <tr>\n",
       "      <th>4</th>\n",
       "      <td>1le1rhl</td>\n",
       "      <td>Gf gave me chlamydia</td>\n",
       "      <td>Gf of 6 months just tested positive for chlamy...</td>\n",
       "      <td>[(1le1rhl_myctmui, 0.7128423), (1le1rhl_mycr3t...</td>\n",
       "    </tr>\n",
       "    <tr>\n",
       "      <th>...</th>\n",
       "      <td>...</td>\n",
       "      <td>...</td>\n",
       "      <td>...</td>\n",
       "      <td>...</td>\n",
       "    </tr>\n",
       "    <tr>\n",
       "      <th>160</th>\n",
       "      <td>1k7umkb</td>\n",
       "      <td>My brother is a huge creep, how do I get my pa...</td>\n",
       "      <td>My (14F) brother (15M) has down syndrome and i...</td>\n",
       "      <td>[(1k7umkb_mp2o1t8, 0.6880902), (1e7usn0_le3acw...</td>\n",
       "    </tr>\n",
       "    <tr>\n",
       "      <th>161</th>\n",
       "      <td>yjqh35</td>\n",
       "      <td>my moms bf strangled me with a belt knowing I ...</td>\n",
       "      <td>My(17f) dad tried to strangle me when I was 13...</td>\n",
       "      <td>[(y2bnqs_is2d1t2, 0.6936012), (y2bnqs_is2b3li,...</td>\n",
       "    </tr>\n",
       "    <tr>\n",
       "      <th>162</th>\n",
       "      <td>14gfl8g</td>\n",
       "      <td>Pregnant (21f) from a one night stand</td>\n",
       "      <td>I just found out yesterday that I am pregnant ...</td>\n",
       "      <td>[(r0cadi_hls7dsp, 0.72883964), (p47jzn_h8x7skk...</td>\n",
       "    </tr>\n",
       "    <tr>\n",
       "      <th>163</th>\n",
       "      <td>13zfqvy</td>\n",
       "      <td>Getting Over Hatred of Women</td>\n",
       "      <td>I am a recovering incel. I was never into the ...</td>\n",
       "      <td>[(13zfqvy_jmry8zy, 0.7983928), (13zfqvy_jmrujo...</td>\n",
       "    </tr>\n",
       "    <tr>\n",
       "      <th>164</th>\n",
       "      <td>1lpyp0w</td>\n",
       "      <td>Girlfriend goes for a drink one-on-on</td>\n",
       "      <td>Am I being unreasonable in that my girlfriend ...</td>\n",
       "      <td>[(1lpyp0w_n0zf5p0, 0.73140264), (1lpyp0w_n0yl8...</td>\n",
       "    </tr>\n",
       "  </tbody>\n",
       "</table>\n",
       "<p>165 rows × 4 columns</p>\n",
       "</div>\n",
       "    <div class=\"colab-df-buttons\">\n",
       "\n",
       "  <div class=\"colab-df-container\">\n",
       "    <button class=\"colab-df-convert\" onclick=\"convertToInteractive('df-81c5cbe0-7354-4923-a20a-cca34b864770')\"\n",
       "            title=\"Convert this dataframe to an interactive table.\"\n",
       "            style=\"display:none;\">\n",
       "\n",
       "  <svg xmlns=\"http://www.w3.org/2000/svg\" height=\"24px\" viewBox=\"0 -960 960 960\">\n",
       "    <path d=\"M120-120v-720h720v720H120Zm60-500h600v-160H180v160Zm220 220h160v-160H400v160Zm0 220h160v-160H400v160ZM180-400h160v-160H180v160Zm440 0h160v-160H620v160ZM180-180h160v-160H180v160Zm440 0h160v-160H620v160Z\"/>\n",
       "  </svg>\n",
       "    </button>\n",
       "\n",
       "  <style>\n",
       "    .colab-df-container {\n",
       "      display:flex;\n",
       "      gap: 12px;\n",
       "    }\n",
       "\n",
       "    .colab-df-convert {\n",
       "      background-color: #E8F0FE;\n",
       "      border: none;\n",
       "      border-radius: 50%;\n",
       "      cursor: pointer;\n",
       "      display: none;\n",
       "      fill: #1967D2;\n",
       "      height: 32px;\n",
       "      padding: 0 0 0 0;\n",
       "      width: 32px;\n",
       "    }\n",
       "\n",
       "    .colab-df-convert:hover {\n",
       "      background-color: #E2EBFA;\n",
       "      box-shadow: 0px 1px 2px rgba(60, 64, 67, 0.3), 0px 1px 3px 1px rgba(60, 64, 67, 0.15);\n",
       "      fill: #174EA6;\n",
       "    }\n",
       "\n",
       "    .colab-df-buttons div {\n",
       "      margin-bottom: 4px;\n",
       "    }\n",
       "\n",
       "    [theme=dark] .colab-df-convert {\n",
       "      background-color: #3B4455;\n",
       "      fill: #D2E3FC;\n",
       "    }\n",
       "\n",
       "    [theme=dark] .colab-df-convert:hover {\n",
       "      background-color: #434B5C;\n",
       "      box-shadow: 0px 1px 3px 1px rgba(0, 0, 0, 0.15);\n",
       "      filter: drop-shadow(0px 1px 2px rgba(0, 0, 0, 0.3));\n",
       "      fill: #FFFFFF;\n",
       "    }\n",
       "  </style>\n",
       "\n",
       "    <script>\n",
       "      const buttonEl =\n",
       "        document.querySelector('#df-81c5cbe0-7354-4923-a20a-cca34b864770 button.colab-df-convert');\n",
       "      buttonEl.style.display =\n",
       "        google.colab.kernel.accessAllowed ? 'block' : 'none';\n",
       "\n",
       "      async function convertToInteractive(key) {\n",
       "        const element = document.querySelector('#df-81c5cbe0-7354-4923-a20a-cca34b864770');\n",
       "        const dataTable =\n",
       "          await google.colab.kernel.invokeFunction('convertToInteractive',\n",
       "                                                    [key], {});\n",
       "        if (!dataTable) return;\n",
       "\n",
       "        const docLinkHtml = 'Like what you see? Visit the ' +\n",
       "          '<a target=\"_blank\" href=https://colab.research.google.com/notebooks/data_table.ipynb>data table notebook</a>'\n",
       "          + ' to learn more about interactive tables.';\n",
       "        element.innerHTML = '';\n",
       "        dataTable['output_type'] = 'display_data';\n",
       "        await google.colab.output.renderOutput(dataTable, element);\n",
       "        const docLink = document.createElement('div');\n",
       "        docLink.innerHTML = docLinkHtml;\n",
       "        element.appendChild(docLink);\n",
       "      }\n",
       "    </script>\n",
       "  </div>\n",
       "\n",
       "\n",
       "    <div id=\"df-203eca07-95ff-4954-a007-27a985ecc021\">\n",
       "      <button class=\"colab-df-quickchart\" onclick=\"quickchart('df-203eca07-95ff-4954-a007-27a985ecc021')\"\n",
       "                title=\"Suggest charts\"\n",
       "                style=\"display:none;\">\n",
       "\n",
       "<svg xmlns=\"http://www.w3.org/2000/svg\" height=\"24px\"viewBox=\"0 0 24 24\"\n",
       "     width=\"24px\">\n",
       "    <g>\n",
       "        <path d=\"M19 3H5c-1.1 0-2 .9-2 2v14c0 1.1.9 2 2 2h14c1.1 0 2-.9 2-2V5c0-1.1-.9-2-2-2zM9 17H7v-7h2v7zm4 0h-2V7h2v10zm4 0h-2v-4h2v4z\"/>\n",
       "    </g>\n",
       "</svg>\n",
       "      </button>\n",
       "\n",
       "<style>\n",
       "  .colab-df-quickchart {\n",
       "      --bg-color: #E8F0FE;\n",
       "      --fill-color: #1967D2;\n",
       "      --hover-bg-color: #E2EBFA;\n",
       "      --hover-fill-color: #174EA6;\n",
       "      --disabled-fill-color: #AAA;\n",
       "      --disabled-bg-color: #DDD;\n",
       "  }\n",
       "\n",
       "  [theme=dark] .colab-df-quickchart {\n",
       "      --bg-color: #3B4455;\n",
       "      --fill-color: #D2E3FC;\n",
       "      --hover-bg-color: #434B5C;\n",
       "      --hover-fill-color: #FFFFFF;\n",
       "      --disabled-bg-color: #3B4455;\n",
       "      --disabled-fill-color: #666;\n",
       "  }\n",
       "\n",
       "  .colab-df-quickchart {\n",
       "    background-color: var(--bg-color);\n",
       "    border: none;\n",
       "    border-radius: 50%;\n",
       "    cursor: pointer;\n",
       "    display: none;\n",
       "    fill: var(--fill-color);\n",
       "    height: 32px;\n",
       "    padding: 0;\n",
       "    width: 32px;\n",
       "  }\n",
       "\n",
       "  .colab-df-quickchart:hover {\n",
       "    background-color: var(--hover-bg-color);\n",
       "    box-shadow: 0 1px 2px rgba(60, 64, 67, 0.3), 0 1px 3px 1px rgba(60, 64, 67, 0.15);\n",
       "    fill: var(--button-hover-fill-color);\n",
       "  }\n",
       "\n",
       "  .colab-df-quickchart-complete:disabled,\n",
       "  .colab-df-quickchart-complete:disabled:hover {\n",
       "    background-color: var(--disabled-bg-color);\n",
       "    fill: var(--disabled-fill-color);\n",
       "    box-shadow: none;\n",
       "  }\n",
       "\n",
       "  .colab-df-spinner {\n",
       "    border: 2px solid var(--fill-color);\n",
       "    border-color: transparent;\n",
       "    border-bottom-color: var(--fill-color);\n",
       "    animation:\n",
       "      spin 1s steps(1) infinite;\n",
       "  }\n",
       "\n",
       "  @keyframes spin {\n",
       "    0% {\n",
       "      border-color: transparent;\n",
       "      border-bottom-color: var(--fill-color);\n",
       "      border-left-color: var(--fill-color);\n",
       "    }\n",
       "    20% {\n",
       "      border-color: transparent;\n",
       "      border-left-color: var(--fill-color);\n",
       "      border-top-color: var(--fill-color);\n",
       "    }\n",
       "    30% {\n",
       "      border-color: transparent;\n",
       "      border-left-color: var(--fill-color);\n",
       "      border-top-color: var(--fill-color);\n",
       "      border-right-color: var(--fill-color);\n",
       "    }\n",
       "    40% {\n",
       "      border-color: transparent;\n",
       "      border-right-color: var(--fill-color);\n",
       "      border-top-color: var(--fill-color);\n",
       "    }\n",
       "    60% {\n",
       "      border-color: transparent;\n",
       "      border-right-color: var(--fill-color);\n",
       "    }\n",
       "    80% {\n",
       "      border-color: transparent;\n",
       "      border-right-color: var(--fill-color);\n",
       "      border-bottom-color: var(--fill-color);\n",
       "    }\n",
       "    90% {\n",
       "      border-color: transparent;\n",
       "      border-bottom-color: var(--fill-color);\n",
       "    }\n",
       "  }\n",
       "</style>\n",
       "\n",
       "      <script>\n",
       "        async function quickchart(key) {\n",
       "          const quickchartButtonEl =\n",
       "            document.querySelector('#' + key + ' button');\n",
       "          quickchartButtonEl.disabled = true;  // To prevent multiple clicks.\n",
       "          quickchartButtonEl.classList.add('colab-df-spinner');\n",
       "          try {\n",
       "            const charts = await google.colab.kernel.invokeFunction(\n",
       "                'suggestCharts', [key], {});\n",
       "          } catch (error) {\n",
       "            console.error('Error during call to suggestCharts:', error);\n",
       "          }\n",
       "          quickchartButtonEl.classList.remove('colab-df-spinner');\n",
       "          quickchartButtonEl.classList.add('colab-df-quickchart-complete');\n",
       "        }\n",
       "        (() => {\n",
       "          let quickchartButtonEl =\n",
       "            document.querySelector('#df-203eca07-95ff-4954-a007-27a985ecc021 button');\n",
       "          quickchartButtonEl.style.display =\n",
       "            google.colab.kernel.accessAllowed ? 'block' : 'none';\n",
       "        })();\n",
       "      </script>\n",
       "    </div>\n",
       "\n",
       "  <div id=\"id_eec2379f-6b32-47c6-8be7-d07db2bc2e7f\">\n",
       "    <style>\n",
       "      .colab-df-generate {\n",
       "        background-color: #E8F0FE;\n",
       "        border: none;\n",
       "        border-radius: 50%;\n",
       "        cursor: pointer;\n",
       "        display: none;\n",
       "        fill: #1967D2;\n",
       "        height: 32px;\n",
       "        padding: 0 0 0 0;\n",
       "        width: 32px;\n",
       "      }\n",
       "\n",
       "      .colab-df-generate:hover {\n",
       "        background-color: #E2EBFA;\n",
       "        box-shadow: 0px 1px 2px rgba(60, 64, 67, 0.3), 0px 1px 3px 1px rgba(60, 64, 67, 0.15);\n",
       "        fill: #174EA6;\n",
       "      }\n",
       "\n",
       "      [theme=dark] .colab-df-generate {\n",
       "        background-color: #3B4455;\n",
       "        fill: #D2E3FC;\n",
       "      }\n",
       "\n",
       "      [theme=dark] .colab-df-generate:hover {\n",
       "        background-color: #434B5C;\n",
       "        box-shadow: 0px 1px 3px 1px rgba(0, 0, 0, 0.15);\n",
       "        filter: drop-shadow(0px 1px 2px rgba(0, 0, 0, 0.3));\n",
       "        fill: #FFFFFF;\n",
       "      }\n",
       "    </style>\n",
       "    <button class=\"colab-df-generate\" onclick=\"generateWithVariable('df_posts_biencoder')\"\n",
       "            title=\"Generate code using this dataframe.\"\n",
       "            style=\"display:none;\">\n",
       "\n",
       "  <svg xmlns=\"http://www.w3.org/2000/svg\" height=\"24px\"viewBox=\"0 0 24 24\"\n",
       "       width=\"24px\">\n",
       "    <path d=\"M7,19H8.4L18.45,9,17,7.55,7,17.6ZM5,21V16.75L18.45,3.32a2,2,0,0,1,2.83,0l1.4,1.43a1.91,1.91,0,0,1,.58,1.4,1.91,1.91,0,0,1-.58,1.4L9.25,21ZM18.45,9,17,7.55Zm-12,3A5.31,5.31,0,0,0,4.9,8.1,5.31,5.31,0,0,0,1,6.5,5.31,5.31,0,0,0,4.9,4.9,5.31,5.31,0,0,0,6.5,1,5.31,5.31,0,0,0,8.1,4.9,5.31,5.31,0,0,0,12,6.5,5.46,5.46,0,0,0,6.5,12Z\"/>\n",
       "  </svg>\n",
       "    </button>\n",
       "    <script>\n",
       "      (() => {\n",
       "      const buttonEl =\n",
       "        document.querySelector('#id_eec2379f-6b32-47c6-8be7-d07db2bc2e7f button.colab-df-generate');\n",
       "      buttonEl.style.display =\n",
       "        google.colab.kernel.accessAllowed ? 'block' : 'none';\n",
       "\n",
       "      buttonEl.onclick = () => {\n",
       "        google.colab.notebook.generateWithVariable('df_posts_biencoder');\n",
       "      }\n",
       "      })();\n",
       "    </script>\n",
       "  </div>\n",
       "\n",
       "    </div>\n",
       "  </div>\n"
      ],
      "text/plain": [
       "     post_id                                          post_text  \\\n",
       "0    1izle46  My Dad Left Us 15 Years Ago – Now He’s Dying a...   \n",
       "1    1j6z84l  Girlfriend just punched me in the face multipl...   \n",
       "2    1hq4eut  My GF is in a medically induced coma and I am ...   \n",
       "3    1jxjlxv  Professor has been secretly docking points any...   \n",
       "4    1le1rhl                               Gf gave me chlamydia   \n",
       "..       ...                                                ...   \n",
       "160  1k7umkb  My brother is a huge creep, how do I get my pa...   \n",
       "161   yjqh35  my moms bf strangled me with a belt knowing I ...   \n",
       "162  14gfl8g              Pregnant (21f) from a one night stand   \n",
       "163  13zfqvy                       Getting Over Hatred of Women   \n",
       "164  1lpyp0w              Girlfriend goes for a drink one-on-on   \n",
       "\n",
       "                                      post_description  \\\n",
       "0    When I was 10, my dad walked out on our family...   \n",
       "1    So my longtime girlfriend just had an absolute...   \n",
       "2    \\nMy (34M) girlfriend (35F) started having chi...   \n",
       "3    My professor recently revealed that he’s been ...   \n",
       "4    Gf of 6 months just tested positive for chlamy...   \n",
       "..                                                 ...   \n",
       "160  My (14F) brother (15M) has down syndrome and i...   \n",
       "161  My(17f) dad tried to strangle me when I was 13...   \n",
       "162  I just found out yesterday that I am pregnant ...   \n",
       "163  I am a recovering incel. I was never into the ...   \n",
       "164  Am I being unreasonable in that my girlfriend ...   \n",
       "\n",
       "                                       Top10_Biencoder  \n",
       "0    [(1izle46_mf3whj8, 0.72008806), (p47jzn_h8xkkt...  \n",
       "1    [(ot4enx_h6tt962, 0.67735136), (15lixy7_jvawjg...  \n",
       "2    [(1hq4eut_m4mr5fj, 0.65557724), (1hq4eut_m4mwh...  \n",
       "3    [(1jxjlxv_mmqvx2t, 0.6595881), (1jxjlxv_mmqxlx...  \n",
       "4    [(1le1rhl_myctmui, 0.7128423), (1le1rhl_mycr3t...  \n",
       "..                                                 ...  \n",
       "160  [(1k7umkb_mp2o1t8, 0.6880902), (1e7usn0_le3acw...  \n",
       "161  [(y2bnqs_is2d1t2, 0.6936012), (y2bnqs_is2b3li,...  \n",
       "162  [(r0cadi_hls7dsp, 0.72883964), (p47jzn_h8x7skk...  \n",
       "163  [(13zfqvy_jmry8zy, 0.7983928), (13zfqvy_jmrujo...  \n",
       "164  [(1lpyp0w_n0zf5p0, 0.73140264), (1lpyp0w_n0yl8...  \n",
       "\n",
       "[165 rows x 4 columns]"
      ]
     },
     "execution_count": 37,
     "metadata": {},
     "output_type": "execute_result"
    }
   ],
   "source": [
    "generate_biencoder(df_posts_biencoder, df_comments_biencoder)"
   ]
  },
  {
   "cell_type": "markdown",
   "metadata": {
    "id": "CDriLH4M9_Wv"
   },
   "source": [
    "# **FUNCTIONS for EVALUATION METRICS**"
   ]
  },
  {
   "cell_type": "markdown",
   "metadata": {
    "id": "fmM2tTur-Kc6"
   },
   "source": [
    "## PRECISION and RECALL"
   ]
  },
  {
   "cell_type": "markdown",
   "metadata": {
    "id": "nz9CkXuzkDa6"
   },
   "source": [
    "**Precision**\n",
    "\n",
    "This metric measures the proportion of retrieved documents that are actually relevant.\n",
    "\n",
    "- It focuses on the quality of the top results returned by the system.\n",
    "- A high precision means few irrelevant documents were retrieved.\n",
    "- It does not consider how many relevant documents were missed.\n",
    "- The value ranges from 0 to 1, where 1 means all retrieved documents are relevant.\n",
    "\n",
    "---\n",
    "\n",
    "**Recall**\n",
    "\n",
    "This metric measures the proportion of all relevant documents that were successfully retrieved.\n",
    "\n",
    "- It evaluates how completely the system finds the relevant information.\n",
    "- A high recall means most or all relevant documents were retrieved.\n",
    "- It does not penalize the inclusion of irrelevant documents.\n",
    "- The value ranges from 0 to 1, where 1 means all relevant documents were retrieved.\n"
   ]
  },
  {
   "cell_type": "code",
   "execution_count": null,
   "metadata": {
    "id": "wr66SXLFaGM2"
   },
   "outputs": [],
   "source": [
    "def compute_precision_recall_at_k(df_queries, df_qrels, column_ranking, k=5):\n",
    "    precisions = []\n",
    "    recalls = []\n",
    "\n",
    "    for _, row in df_queries.iterrows():\n",
    "        post_id = row['post_id']\n",
    "        ranked_docs = [doc_id for doc_id, _ in row[column_ranking]][:k]\n",
    "        relevant_docs = set(df_qrels[(df_qrels['post_id'] == post_id) & (df_qrels['relevance_level'].isin([3, 4]))]['comment_id'])\n",
    "\n",
    "        if not relevant_docs:\n",
    "            continue\n",
    "\n",
    "        hits = sum(1 for doc_id in ranked_docs if doc_id in relevant_docs)\n",
    "\n",
    "        precision = hits / k\n",
    "        recall = hits / len(relevant_docs)\n",
    "\n",
    "        precisions.append(precision)\n",
    "        recalls.append(recall)\n",
    "\n",
    "    avg_precision = np.mean(precisions) if precisions else 0.0\n",
    "    avg_recall = np.mean(recalls) if recalls else 0.0\n",
    "\n",
    "    return avg_precision, avg_recall"
   ]
  },
  {
   "cell_type": "code",
   "execution_count": null,
   "metadata": {
    "id": "Hvb4-rR7aNra"
   },
   "outputs": [],
   "source": [
    "def plot_precision_recall(my_dataframe, df_qrels_clean, BM25_or_biencoder_column, k=10):\n",
    "\n",
    "    ks = list(range(1, k))\n",
    "    precs = []\n",
    "    recs  = []\n",
    "    for i in ks:\n",
    "        p, r = compute_precision_recall_at_k(my_dataframe, df_qrels_clean, BM25_or_biencoder_column, k=i)\n",
    "        precs.append(p)\n",
    "        recs.append(r)\n",
    "\n",
    "    plt.figure(figsize=(8, 4))\n",
    "    plt.plot(ks, precs, marker='o', label='Precision')\n",
    "    plt.plot(ks, recs,  marker='s', label='Recall')\n",
    "    plt.xlabel('k (number of queries)')\n",
    "    plt.ylabel('Average score')\n",
    "    plt.title('Precision and Recall trends as k varies')\n",
    "    plt.xticks(ks)\n",
    "    plt.legend()\n",
    "    plt.grid(True)\n",
    "    plt.tight_layout()\n",
    "    plt.show()"
   ]
  },
  {
   "cell_type": "markdown",
   "metadata": {
    "id": "orlscR6Q-Ouj"
   },
   "source": [
    "## MAP"
   ]
  },
  {
   "cell_type": "markdown",
   "metadata": {
    "id": "qBJtbOi7rswZ"
   },
   "source": [
    "This metric measures the overall precision of a ranking system across multiple queries.\n",
    "\n",
    "- It calculates the average precision for each query individually.\n",
    "- It considers the order of relevant documents, rewarding those retrieved earlier.\n",
    "- The final score is the mean of all average precisions, providing a single effectiveness value.\n",
    "- The value ranges from 0 to 1, where 1 indicates that all relevant documents are ranked at the top for every query.\n"
   ]
  },
  {
   "cell_type": "code",
   "execution_count": null,
   "metadata": {
    "id": "XutEjYmAaYCw"
   },
   "outputs": [],
   "source": [
    "def compute_map_at_k(df_queries, df_qrels, column_ranking, k=5):\n",
    "    average_precisions = []\n",
    "\n",
    "    for _, row in df_queries.iterrows():\n",
    "        post_id = row['post_id']\n",
    "        ranked_docs = [doc_id for doc_id, _ in row[column_ranking]][:k]\n",
    "        relevant_docs = set(df_qrels[(df_qrels['post_id'] == post_id) & (df_qrels['relevance_level'].isin([3, 4]))]['comment_id'])\n",
    "\n",
    "        num_hits = 0\n",
    "        precision_sum = 0.0\n",
    "\n",
    "        for i, doc_id in enumerate(ranked_docs, start=1):\n",
    "            if doc_id in relevant_docs:\n",
    "                num_hits += 1\n",
    "                precision_sum += num_hits / i\n",
    "\n",
    "        if num_hits > 0:\n",
    "            ap = precision_sum / num_hits\n",
    "            average_precisions.append(ap)\n",
    "\n",
    "    return np.mean(average_precisions) if average_precisions else 0.0"
   ]
  },
  {
   "cell_type": "code",
   "execution_count": null,
   "metadata": {
    "id": "cvpvSOmEaYUv"
   },
   "outputs": [],
   "source": [
    "def plot_map_curve_iterative(df_queries, df_qrels, column_ranking, k_max=5):\n",
    "    ks = list(range(1, k_max + 1))\n",
    "    map_scores = []\n",
    "\n",
    "    for k in ks:\n",
    "        score = compute_map_at_k(df_queries, df_qrels, column_ranking, k)\n",
    "        map_scores.append(score)\n",
    "\n",
    "    plt.figure(figsize=(8, 5))\n",
    "    plt.plot(ks, map_scores, marker='o', color='green', label='MAP@k')\n",
    "    plt.xlabel('k (cut-off)')\n",
    "    plt.ylabel('Mean Average Precision')\n",
    "    plt.title('MAP trend as k changes')\n",
    "    plt.xticks(ks)\n",
    "    plt.grid(True)\n",
    "    plt.legend()\n",
    "    plt.tight_layout()\n",
    "    plt.show()"
   ]
  },
  {
   "cell_type": "markdown",
   "metadata": {
    "id": "cOBgqDSz-Qpl"
   },
   "source": [
    "## nDCG"
   ]
  },
  {
   "cell_type": "markdown",
   "metadata": {
    "id": "MJhQZhKBrtXP"
   },
   "source": [
    "This metric indicates how well a system ranks relevant documents at the top of the results list.\n",
    "\n",
    "- It takes into account the relevance of documents.\n",
    "\n",
    "- It penalizes relevant documents if they appear in lower positions.\n",
    "\n",
    "- The value is normalized between 0 and 1, where 1 represents a perfect ranking."
   ]
  },
  {
   "cell_type": "code",
   "execution_count": null,
   "metadata": {
    "id": "2uS-_cural09"
   },
   "outputs": [],
   "source": [
    "def compute_ndcg_at_k(df_queries, df_qrels, column_ranking, k=5):\n",
    "    ndcg_scores = []\n",
    "\n",
    "    for _, row in df_queries.iterrows():\n",
    "        post_id = row['post_id']\n",
    "        ranked_docs = [doc_id for doc_id, _ in row[column_ranking]][:k]\n",
    "\n",
    "        qrels = df_qrels[df_qrels['post_id'] == post_id]\n",
    "        relevance = dict(zip(qrels['comment_id'], qrels['relevance_level']))\n",
    "\n",
    "        gains = [relevance.get(doc_id, 0) for doc_id in ranked_docs]\n",
    "\n",
    "        if not any(gains):\n",
    "            continue  #Skip queries with no relevant documents\n",
    "\n",
    "        #Ideal ranking (sorted by relevance)\n",
    "        ideal_gains = sorted(relevance.values(), reverse=True)[:k]\n",
    "\n",
    "        dcg = sum(gain / np.log2(i + 2) for i, gain in enumerate(gains))\n",
    "        idcg = sum(gain / np.log2(i + 2) for i, gain in enumerate(ideal_gains))\n",
    "\n",
    "        ndcg = dcg / idcg if idcg > 0 else 0.0\n",
    "        ndcg_scores.append(ndcg)\n",
    "\n",
    "    return np.mean(ndcg_scores) if ndcg_scores else 0.0"
   ]
  },
  {
   "cell_type": "code",
   "execution_count": null,
   "metadata": {
    "id": "eO2s5HHpa4mo"
   },
   "outputs": [],
   "source": [
    "def plot_ndcg_curve(df_queries, df_qrels, column_ranking, k_max=5):\n",
    "    ks = list(range(1, k_max + 1))\n",
    "    ndcg_scores = []\n",
    "\n",
    "    for k in ks:\n",
    "        score = compute_ndcg_at_k(df_queries, df_qrels, column_ranking, k)\n",
    "        ndcg_scores.append(score)\n",
    "\n",
    "    plt.figure(figsize=(8, 5))\n",
    "    plt.plot(ks, ndcg_scores, marker='s', color='blue', label='nDCG@k')\n",
    "    plt.xlabel('k (cut-off)')\n",
    "    plt.ylabel('Normalized DCG')\n",
    "    plt.title('nDCG trend as k changes')\n",
    "    plt.xticks(ks)\n",
    "    plt.grid(True)\n",
    "    plt.legend()\n",
    "    plt.tight_layout()\n",
    "    plt.show()"
   ]
  },
  {
   "cell_type": "markdown",
   "metadata": {
    "id": "_vDDDbn1Sk5g"
   },
   "source": [
    "# **EVALUATION METRICS**"
   ]
  },
  {
   "cell_type": "markdown",
   "metadata": {
    "id": "l5Pg3AXnmgS4"
   },
   "source": [
    "## **BM25**"
   ]
  },
  {
   "cell_type": "markdown",
   "metadata": {
    "id": "JXN-ls26m0gX"
   },
   "source": [
    "### PRECISION and RECALL"
   ]
  },
  {
   "cell_type": "code",
   "execution_count": null,
   "metadata": {
    "colab": {
     "base_uri": "https://localhost:8080/"
    },
    "executionInfo": {
     "elapsed": 123,
     "status": "ok",
     "timestamp": 1751832273137,
     "user": {
      "displayName": "PIETRO SCAPINI",
      "userId": "06017685043124541547"
     },
     "user_tz": -120
    },
    "id": "a9QH1KbabKcQ",
    "outputId": "510ff682-b8db-4d3c-b352-5b7c595f7c16"
   },
   "outputs": [
    {
     "data": {
      "text/plain": [
       "(np.float64(0.14545454545454545), np.float64(0.14545454545454545))"
      ]
     },
     "execution_count": 44,
     "metadata": {},
     "output_type": "execute_result"
    }
   ],
   "source": [
    "compute_precision_recall_at_k(df_posts_bm25, df_qrels_fin, 'Top10_BM25', k=5)"
   ]
  },
  {
   "cell_type": "code",
   "execution_count": null,
   "metadata": {
    "colab": {
     "base_uri": "https://localhost:8080/",
     "height": 407
    },
    "executionInfo": {
     "elapsed": 1663,
     "status": "ok",
     "timestamp": 1751832274804,
     "user": {
      "displayName": "PIETRO SCAPINI",
      "userId": "06017685043124541547"
     },
     "user_tz": -120
    },
    "id": "4PKyYZUMcNtP",
    "outputId": "7243840b-4ac3-4f15-982f-9bd5edc1e0b9"
   },
   "outputs": [
    {
     "data": {
      "image/png": "[encoded data removed]",
      "text/plain": [
       "<Figure size 800x400 with 1 Axes>"
      ]
     },
     "metadata": {},
     "output_type": "display_data"
    }
   ],
   "source": [
    "plot_precision_recall(df_posts_bm25, df_qrels_fin, 'Top10_BM25')"
   ]
  },
  {
   "cell_type": "markdown",
   "metadata": {
    "id": "xeVcix76nSXf"
   },
   "source": [
    "### MAP"
   ]
  },
  {
   "cell_type": "code",
   "execution_count": null,
   "metadata": {
    "colab": {
     "base_uri": "https://localhost:8080/"
    },
    "executionInfo": {
     "elapsed": 109,
     "status": "ok",
     "timestamp": 1751832274893,
     "user": {
      "displayName": "PIETRO SCAPINI",
      "userId": "06017685043124541547"
     },
     "user_tz": -120
    },
    "id": "x-R9BMvccPSF",
    "outputId": "69a55ff7-3361-4603-efe8-7a2c89140a22"
   },
   "outputs": [
    {
     "data": {
      "text/plain": [
       "np.float64(0.6316214470284238)"
      ]
     },
     "execution_count": 46,
     "metadata": {},
     "output_type": "execute_result"
    }
   ],
   "source": [
    "compute_map_at_k(df_posts_bm25, df_qrels_fin, 'Top10_BM25')"
   ]
  },
  {
   "cell_type": "code",
   "execution_count": null,
   "metadata": {
    "colab": {
     "base_uri": "https://localhost:8080/",
     "height": 507
    },
    "executionInfo": {
     "elapsed": 1019,
     "status": "ok",
     "timestamp": 1751832275955,
     "user": {
      "displayName": "PIETRO SCAPINI",
      "userId": "06017685043124541547"
     },
     "user_tz": -120
    },
    "id": "WK1g_wwGcReO",
    "outputId": "c75d2369-527e-4b72-be3f-0b228e708e1a"
   },
   "outputs": [
    {
     "data": {
      "image/png": "[encoded data removed]",
      "text/plain": [
       "<Figure size 800x500 with 1 Axes>"
      ]
     },
     "metadata": {},
     "output_type": "display_data"
    }
   ],
   "source": [
    "plot_map_curve_iterative(df_posts_bm25, df_qrels_fin, 'Top10_BM25')"
   ]
  },
  {
   "cell_type": "markdown",
   "metadata": {
    "id": "dULTRyt-nT9-"
   },
   "source": [
    "### nDCG"
   ]
  },
  {
   "cell_type": "code",
   "execution_count": null,
   "metadata": {
    "colab": {
     "base_uri": "https://localhost:8080/"
    },
    "executionInfo": {
     "elapsed": 173,
     "status": "ok",
     "timestamp": 1751832276138,
     "user": {
      "displayName": "PIETRO SCAPINI",
      "userId": "06017685043124541547"
     },
     "user_tz": -120
    },
    "id": "ydNjvCLIcgxV",
    "outputId": "49737c70-49e0-4085-8862-cf2d48d82c6c"
   },
   "outputs": [
    {
     "data": {
      "text/plain": [
       "np.float64(0.31403637159360065)"
      ]
     },
     "execution_count": 48,
     "metadata": {},
     "output_type": "execute_result"
    }
   ],
   "source": [
    "compute_ndcg_at_k(df_posts_bm25, df_qrels_fin, 'Top10_BM25')"
   ]
  },
  {
   "cell_type": "code",
   "execution_count": null,
   "metadata": {
    "colab": {
     "base_uri": "https://localhost:8080/",
     "height": 507
    },
    "executionInfo": {
     "elapsed": 671,
     "status": "ok",
     "timestamp": 1751832276818,
     "user": {
      "displayName": "PIETRO SCAPINI",
      "userId": "06017685043124541547"
     },
     "user_tz": -120
    },
    "id": "sKPkZZ-kci8O",
    "outputId": "c733958d-0ad8-4630-ee13-11f0d9934dad"
   },
   "outputs": [
    {
     "data": {
      "image/png": "[encoded data removed]",
      "text/plain": [
       "<Figure size 800x500 with 1 Axes>"
      ]
     },
     "metadata": {},
     "output_type": "display_data"
    }
   ],
   "source": [
    "plot_ndcg_curve(df_posts_bm25, df_qrels_fin, 'Top10_BM25')"
   ]
  },
  {
   "cell_type": "markdown",
   "metadata": {
    "id": "b4V_VzFQngsD"
   },
   "source": [
    "## **NEURAL RERANKING**"
   ]
  },
  {
   "cell_type": "markdown",
   "metadata": {
    "id": "TEhbAJTvn_ov"
   },
   "source": [
    "### PRECISION and RECALL"
   ]
  },
  {
   "cell_type": "code",
   "execution_count": null,
   "metadata": {
    "colab": {
     "base_uri": "https://localhost:8080/"
    },
    "executionInfo": {
     "elapsed": 105,
     "status": "ok",
     "timestamp": 1751832276927,
     "user": {
      "displayName": "PIETRO SCAPINI",
      "userId": "06017685043124541547"
     },
     "user_tz": -120
    },
    "id": "pXzc6Kx2crbF",
    "outputId": "0adbb2c3-1edd-4a29-d3e5-2de809009006"
   },
   "outputs": [
    {
     "data": {
      "text/plain": [
       "(np.float64(0.18060606060606058), np.float64(0.18060606060606058))"
      ]
     },
     "execution_count": 50,
     "metadata": {},
     "output_type": "execute_result"
    }
   ],
   "source": [
    "compute_precision_recall_at_k(df_posts_biencoder, df_qrels_fin, 'Top10_Biencoder', k=5)"
   ]
  },
  {
   "cell_type": "code",
   "execution_count": null,
   "metadata": {
    "colab": {
     "base_uri": "https://localhost:8080/",
     "height": 407
    },
    "executionInfo": {
     "elapsed": 2017,
     "status": "ok",
     "timestamp": 1751832278949,
     "user": {
      "displayName": "PIETRO SCAPINI",
      "userId": "06017685043124541547"
     },
     "user_tz": -120
    },
    "id": "iOfZr7kT5Ds1",
    "outputId": "e7fb0cbd-adb0-429e-bd0d-408e8fe72ac0"
   },
   "outputs": [
    {
     "data": {
      "image/png": "[encoded data removed]",
      "text/plain": [
       "<Figure size 800x400 with 1 Axes>"
      ]
     },
     "metadata": {},
     "output_type": "display_data"
    }
   ],
   "source": [
    "plot_precision_recall(df_posts_biencoder, df_qrels_fin, 'Top10_Biencoder')"
   ]
  },
  {
   "cell_type": "markdown",
   "metadata": {
    "id": "vE3E9WrvoB2i"
   },
   "source": [
    "### MAP"
   ]
  },
  {
   "cell_type": "code",
   "execution_count": null,
   "metadata": {
    "colab": {
     "base_uri": "https://localhost:8080/"
    },
    "executionInfo": {
     "elapsed": 97,
     "status": "ok",
     "timestamp": 1751832279050,
     "user": {
      "displayName": "PIETRO SCAPINI",
      "userId": "06017685043124541547"
     },
     "user_tz": -120
    },
    "id": "msjzbtUheQLP",
    "outputId": "b5e339de-6dbb-49eb-dedc-2db4d1a5c301"
   },
   "outputs": [
    {
     "data": {
      "text/plain": [
       "np.float64(0.6223404255319149)"
      ]
     },
     "execution_count": 52,
     "metadata": {},
     "output_type": "execute_result"
    }
   ],
   "source": [
    "compute_map_at_k(df_posts_biencoder, df_qrels_fin, 'Top10_Biencoder')"
   ]
  },
  {
   "cell_type": "code",
   "execution_count": null,
   "metadata": {
    "colab": {
     "base_uri": "https://localhost:8080/",
     "height": 507
    },
    "executionInfo": {
     "elapsed": 1454,
     "status": "ok",
     "timestamp": 1751832280502,
     "user": {
      "displayName": "PIETRO SCAPINI",
      "userId": "06017685043124541547"
     },
     "user_tz": -120
    },
    "id": "bbRg5LKXez4w",
    "outputId": "ac776f5f-1d9c-429e-dd74-b644e26160c6"
   },
   "outputs": [
    {
     "data": {
      "image/png": "[encoded data removed]",
      "text/plain": [
       "<Figure size 800x500 with 1 Axes>"
      ]
     },
     "metadata": {},
     "output_type": "display_data"
    }
   ],
   "source": [
    "plot_map_curve_iterative(df_posts_biencoder, df_qrels_fin, 'Top10_Biencoder')"
   ]
  },
  {
   "cell_type": "markdown",
   "metadata": {
    "id": "yduw__FHoDEW"
   },
   "source": [
    "### nDCG"
   ]
  },
  {
   "cell_type": "code",
   "execution_count": null,
   "metadata": {
    "colab": {
     "base_uri": "https://localhost:8080/"
    },
    "executionInfo": {
     "elapsed": 86,
     "status": "ok",
     "timestamp": 1751832280592,
     "user": {
      "displayName": "PIETRO SCAPINI",
      "userId": "06017685043124541547"
     },
     "user_tz": -120
    },
    "id": "eS2lb4HMe2Gs",
    "outputId": "9df3c2ce-897d-4590-e552-1eccc8291d7d"
   },
   "outputs": [
    {
     "data": {
      "text/plain": [
       "np.float64(0.35556157605632055)"
      ]
     },
     "execution_count": 54,
     "metadata": {},
     "output_type": "execute_result"
    }
   ],
   "source": [
    "compute_ndcg_at_k(df_posts_biencoder, df_qrels_fin, 'Top10_Biencoder')"
   ]
  },
  {
   "cell_type": "code",
   "execution_count": null,
   "metadata": {
    "colab": {
     "base_uri": "https://localhost:8080/",
     "height": 507
    },
    "executionInfo": {
     "elapsed": 762,
     "status": "ok",
     "timestamp": 1751832281351,
     "user": {
      "displayName": "PIETRO SCAPINI",
      "userId": "06017685043124541547"
     },
     "user_tz": -120
    },
    "id": "T947Momre3sk",
    "outputId": "96f61e19-b3d3-4f97-c221-0d5908e2ef29"
   },
   "outputs": [
    {
     "data": {
      "image/png": "[encoded data removed]",
      "text/plain": [
       "<Figure size 800x500 with 1 Axes>"
      ]
     },
     "metadata": {},
     "output_type": "display_data"
    }
   ],
   "source": [
    "plot_ndcg_curve(df_posts_biencoder, df_qrels_fin, 'Top10_Biencoder')"
   ]
  }
 ],
 "metadata": {
  "accelerator": "GPU",
  "colab": {
   "gpuType": "T4",
   "provenance": [],
   "toc_visible": true
  },
  "kernelspec": {
   "display_name": "Python 3",
   "name": "python3"
  },
  "language_info": {
   "name": "python"
  },
  "widgets": {
   "application/vnd.jupyter.widget-state+json": {
    "00aadd4a54d34f63aeee5c51f911fd48": {
     "model_module": "@jupyter-widgets/controls",
     "model_module_version": "1.5.0",
     "model_name": "HTMLModel",
     "state": {
      "_dom_classes": [],
      "_model_module": "@jupyter-widgets/controls",
      "_model_module_version": "1.5.0",
      "_model_name": "HTMLModel",
      "_view_count": null,
      "_view_module": "@jupyter-widgets/controls",
      "_view_module_version": "1.5.0",
      "_view_name": "HTMLView",
      "description": "",
      "description_tooltip": null,
      "layout": "IPY_MODEL_7d4955dc784a4d4f9216543a92b39742",
      "placeholder": "​",
      "style": "IPY_MODEL_c474c3230579424cb3799433cafa8bad",
      "value": "special_tokens_map.json: 100%"
     }
    },
    "03f7cadc0b994e2abd6b9468da76110a": {
     "model_module": "@jupyter-widgets/controls",
     "model_module_version": "1.5.0",
     "model_name": "HBoxModel",
     "state": {
      "_dom_classes": [],
      "_model_module": "@jupyter-widgets/controls",
      "_model_module_version": "1.5.0",
      "_model_name": "HBoxModel",
      "_view_count": null,
      "_view_module": "@jupyter-widgets/controls",
      "_view_module_version": "1.5.0",
      "_view_name": "HBoxView",
      "box_style": "",
      "children": [
       "IPY_MODEL_205bc5700bb44f7482de2e7f0186d370",
       "IPY_MODEL_db7fcc9144c04d7da56e8ffd11cd9a4f",
       "IPY_MODEL_537b6e9736894950a1a8c8dbeaa6c571"
      ],
      "layout": "IPY_MODEL_251153a24bbe4c7faf878c93336d22db"
     }
    },
    "0403923aca734a0e9f56b8ef70cc2cb6": {
     "model_module": "@jupyter-widgets/controls",
     "model_module_version": "1.5.0",
     "model_name": "HTMLModel",
     "state": {
      "_dom_classes": [],
      "_model_module": "@jupyter-widgets/controls",
      "_model_module_version": "1.5.0",
      "_model_name": "HTMLModel",
      "_view_count": null,
      "_view_module": "@jupyter-widgets/controls",
      "_view_module_version": "1.5.0",
      "_view_name": "HTMLView",
      "description": "",
      "description_tooltip": null,
      "layout": "IPY_MODEL_db3b977609494b788709a7e75efa9f38",
      "placeholder": "​",
      "style": "IPY_MODEL_c706c12671024f32be4c02bb0998cdd0",
      "value": " 612/612 [00:00&lt;00:00, 66.1kB/s]"
     }
    },
    "063bdc6d249a4849b21b752381c9339f": {
     "model_module": "@jupyter-widgets/controls",
     "model_module_version": "1.5.0",
     "model_name": "DescriptionStyleModel",
     "state": {
      "_model_module": "@jupyter-widgets/controls",
      "_model_module_version": "1.5.0",
      "_model_name": "DescriptionStyleModel",
      "_view_count": null,
      "_view_module": "@jupyter-widgets/base",
      "_view_module_version": "1.2.0",
      "_view_name": "StyleView",
      "description_width": ""
     }
    },
    "088e44c2af084ba18010d5b4f8cad4d2": {
     "model_module": "@jupyter-widgets/base",
     "model_module_version": "1.2.0",
     "model_name": "LayoutModel",
     "state": {
      "_model_module": "@jupyter-widgets/base",
      "_model_module_version": "1.2.0",
      "_model_name": "LayoutModel",
      "_view_count": null,
      "_view_module": "@jupyter-widgets/base",
      "_view_module_version": "1.2.0",
      "_view_name": "LayoutView",
      "align_content": null,
      "align_items": null,
      "align_self": null,
      "border": null,
      "bottom": null,
      "display": null,
      "flex": null,
      "flex_flow": null,
      "grid_area": null,
      "grid_auto_columns": null,
      "grid_auto_flow": null,
      "grid_auto_rows": null,
      "grid_column": null,
      "grid_gap": null,
      "grid_row": null,
      "grid_template_areas": null,
      "grid_template_columns": null,
      "grid_template_rows": null,
      "height": null,
      "justify_content": null,
      "justify_items": null,
      "left": null,
      "margin": null,
      "max_height": null,
      "max_width": null,
      "min_height": null,
      "min_width": null,
      "object_fit": null,
      "object_position": null,
      "order": null,
      "overflow": null,
      "overflow_x": null,
      "overflow_y": null,
      "padding": null,
      "right": null,
      "top": null,
      "visibility": null,
      "width": null
     }
    },
    "0b25a001834345ff87f0da0149a31e4b": {
     "model_module": "@jupyter-widgets/controls",
     "model_module_version": "1.5.0",
     "model_name": "DescriptionStyleModel",
     "state": {
      "_model_module": "@jupyter-widgets/controls",
      "_model_module_version": "1.5.0",
      "_model_name": "DescriptionStyleModel",
      "_view_count": null,
      "_view_module": "@jupyter-widgets/base",
      "_view_module_version": "1.2.0",
      "_view_name": "StyleView",
      "description_width": ""
     }
    },
    "0b3d65b4329a4d17b0d24f54b86410d8": {
     "model_module": "@jupyter-widgets/controls",
     "model_module_version": "1.5.0",
     "model_name": "ProgressStyleModel",
     "state": {
      "_model_module": "@jupyter-widgets/controls",
      "_model_module_version": "1.5.0",
      "_model_name": "ProgressStyleModel",
      "_view_count": null,
      "_view_module": "@jupyter-widgets/base",
      "_view_module_version": "1.2.0",
      "_view_name": "StyleView",
      "bar_color": null,
      "description_width": ""
     }
    },
    "0c45ead81161419b9b4fea01746f880e": {
     "model_module": "@jupyter-widgets/controls",
     "model_module_version": "1.5.0",
     "model_name": "DescriptionStyleModel",
     "state": {
      "_model_module": "@jupyter-widgets/controls",
      "_model_module_version": "1.5.0",
      "_model_name": "DescriptionStyleModel",
      "_view_count": null,
      "_view_module": "@jupyter-widgets/base",
      "_view_module_version": "1.2.0",
      "_view_name": "StyleView",
      "description_width": ""
     }
    },
    "205bc5700bb44f7482de2e7f0186d370": {
     "model_module": "@jupyter-widgets/controls",
     "model_module_version": "1.5.0",
     "model_name": "HTMLModel",
     "state": {
      "_dom_classes": [],
      "_model_module": "@jupyter-widgets/controls",
      "_model_module_version": "1.5.0",
      "_model_name": "HTMLModel",
      "_view_count": null,
      "_view_module": "@jupyter-widgets/controls",
      "_view_module_version": "1.5.0",
      "_view_name": "HTMLView",
      "description": "",
      "description_tooltip": null,
      "layout": "IPY_MODEL_fb0d0416695d491ea92cf8bf8c70f167",
      "placeholder": "​",
      "style": "IPY_MODEL_5a74b5e9851b49d0821bbb4b06cefe1c",
      "value": "model.safetensors: 100%"
     }
    },
    "208651cde362430995ee7c4652ba1340": {
     "model_module": "@jupyter-widgets/controls",
     "model_module_version": "1.5.0",
     "model_name": "HBoxModel",
     "state": {
      "_dom_classes": [],
      "_model_module": "@jupyter-widgets/controls",
      "_model_module_version": "1.5.0",
      "_model_name": "HBoxModel",
      "_view_count": null,
      "_view_module": "@jupyter-widgets/controls",
      "_view_module_version": "1.5.0",
      "_view_name": "HBoxView",
      "box_style": "",
      "children": [
       "IPY_MODEL_ce4596325a60435d8a6c0c76ce2dad3d",
       "IPY_MODEL_3a9a5cc856e742979ccafec61197dfd7",
       "IPY_MODEL_832eeed851484b80bd492a6df6566fe8"
      ],
      "layout": "IPY_MODEL_fa6b89b754004f59bbe2aaf1a9b5b43d"
     }
    },
    "20f50a3a5770492395f9e248241f61ae": {
     "model_module": "@jupyter-widgets/base",
     "model_module_version": "1.2.0",
     "model_name": "LayoutModel",
     "state": {
      "_model_module": "@jupyter-widgets/base",
      "_model_module_version": "1.2.0",
      "_model_name": "LayoutModel",
      "_view_count": null,
      "_view_module": "@jupyter-widgets/base",
      "_view_module_version": "1.2.0",
      "_view_name": "LayoutView",
      "align_content": null,
      "align_items": null,
      "align_self": null,
      "border": null,
      "bottom": null,
      "display": null,
      "flex": null,
      "flex_flow": null,
      "grid_area": null,
      "grid_auto_columns": null,
      "grid_auto_flow": null,
      "grid_auto_rows": null,
      "grid_column": null,
      "grid_gap": null,
      "grid_row": null,
      "grid_template_areas": null,
      "grid_template_columns": null,
      "grid_template_rows": null,
      "height": null,
      "justify_content": null,
      "justify_items": null,
      "left": null,
      "margin": null,
      "max_height": null,
      "max_width": null,
      "min_height": null,
      "min_width": null,
      "object_fit": null,
      "object_position": null,
      "order": null,
      "overflow": null,
      "overflow_x": null,
      "overflow_y": null,
      "padding": null,
      "right": null,
      "top": null,
      "visibility": null,
      "width": null
     }
    },
    "251153a24bbe4c7faf878c93336d22db": {
     "model_module": "@jupyter-widgets/base",
     "model_module_version": "1.2.0",
     "model_name": "LayoutModel",
     "state": {
      "_model_module": "@jupyter-widgets/base",
      "_model_module_version": "1.2.0",
      "_model_name": "LayoutModel",
      "_view_count": null,
      "_view_module": "@jupyter-widgets/base",
      "_view_module_version": "1.2.0",
      "_view_name": "LayoutView",
      "align_content": null,
      "align_items": null,
      "align_self": null,
      "border": null,
      "bottom": null,
      "display": null,
      "flex": null,
      "flex_flow": null,
      "grid_area": null,
      "grid_auto_columns": null,
      "grid_auto_flow": null,
      "grid_auto_rows": null,
      "grid_column": null,
      "grid_gap": null,
      "grid_row": null,
      "grid_template_areas": null,
      "grid_template_columns": null,
      "grid_template_rows": null,
      "height": null,
      "justify_content": null,
      "justify_items": null,
      "left": null,
      "margin": null,
      "max_height": null,
      "max_width": null,
      "min_height": null,
      "min_width": null,
      "object_fit": null,
      "object_position": null,
      "order": null,
      "overflow": null,
      "overflow_x": null,
      "overflow_y": null,
      "padding": null,
      "right": null,
      "top": null,
      "visibility": null,
      "width": null
     }
    },
    "260cb94366b343e7bd38b6ef2b990d53": {
     "model_module": "@jupyter-widgets/base",
     "model_module_version": "1.2.0",
     "model_name": "LayoutModel",
     "state": {
      "_model_module": "@jupyter-widgets/base",
      "_model_module_version": "1.2.0",
      "_model_name": "LayoutModel",
      "_view_count": null,
      "_view_module": "@jupyter-widgets/base",
      "_view_module_version": "1.2.0",
      "_view_name": "LayoutView",
      "align_content": null,
      "align_items": null,
      "align_self": null,
      "border": null,
      "bottom": null,
      "display": null,
      "flex": null,
      "flex_flow": null,
      "grid_area": null,
      "grid_auto_columns": null,
      "grid_auto_flow": null,
      "grid_auto_rows": null,
      "grid_column": null,
      "grid_gap": null,
      "grid_row": null,
      "grid_template_areas": null,
      "grid_template_columns": null,
      "grid_template_rows": null,
      "height": null,
      "justify_content": null,
      "justify_items": null,
      "left": null,
      "margin": null,
      "max_height": null,
      "max_width": null,
      "min_height": null,
      "min_width": null,
      "object_fit": null,
      "object_position": null,
      "order": null,
      "overflow": null,
      "overflow_x": null,
      "overflow_y": null,
      "padding": null,
      "right": null,
      "top": null,
      "visibility": null,
      "width": null
     }
    },
    "2c450b81e52a457a938b9e725b47741e": {
     "model_module": "@jupyter-widgets/controls",
     "model_module_version": "1.5.0",
     "model_name": "DescriptionStyleModel",
     "state": {
      "_model_module": "@jupyter-widgets/controls",
      "_model_module_version": "1.5.0",
      "_model_name": "DescriptionStyleModel",
      "_view_count": null,
      "_view_module": "@jupyter-widgets/base",
      "_view_module_version": "1.2.0",
      "_view_name": "StyleView",
      "description_width": ""
     }
    },
    "2d2f199f01bd40149508516757523b57": {
     "model_module": "@jupyter-widgets/base",
     "model_module_version": "1.2.0",
     "model_name": "LayoutModel",
     "state": {
      "_model_module": "@jupyter-widgets/base",
      "_model_module_version": "1.2.0",
      "_model_name": "LayoutModel",
      "_view_count": null,
      "_view_module": "@jupyter-widgets/base",
      "_view_module_version": "1.2.0",
      "_view_name": "LayoutView",
      "align_content": null,
      "align_items": null,
      "align_self": null,
      "border": null,
      "bottom": null,
      "display": null,
      "flex": null,
      "flex_flow": null,
      "grid_area": null,
      "grid_auto_columns": null,
      "grid_auto_flow": null,
      "grid_auto_rows": null,
      "grid_column": null,
      "grid_gap": null,
      "grid_row": null,
      "grid_template_areas": null,
      "grid_template_columns": null,
      "grid_template_rows": null,
      "height": null,
      "justify_content": null,
      "justify_items": null,
      "left": null,
      "margin": null,
      "max_height": null,
      "max_width": null,
      "min_height": null,
      "min_width": null,
      "object_fit": null,
      "object_position": null,
      "order": null,
      "overflow": null,
      "overflow_x": null,
      "overflow_y": null,
      "padding": null,
      "right": null,
      "top": null,
      "visibility": null,
      "width": null
     }
    },
    "34b95ef21c834d979341b1bf07b74441": {
     "model_module": "@jupyter-widgets/controls",
     "model_module_version": "1.5.0",
     "model_name": "HBoxModel",
     "state": {
      "_dom_classes": [],
      "_model_module": "@jupyter-widgets/controls",
      "_model_module_version": "1.5.0",
      "_model_name": "HBoxModel",
      "_view_count": null,
      "_view_module": "@jupyter-widgets/controls",
      "_view_module_version": "1.5.0",
      "_view_name": "HBoxView",
      "box_style": "",
      "children": [
       "IPY_MODEL_cb5cc073d6154858ad195328784d62ac",
       "IPY_MODEL_5ee0e4b681eb457c86fc61b4383f4329",
       "IPY_MODEL_0403923aca734a0e9f56b8ef70cc2cb6"
      ],
      "layout": "IPY_MODEL_eb54c0af77ca4045a701381272359adc"
     }
    },
    "390f51da712c410992809f79906898c0": {
     "model_module": "@jupyter-widgets/base",
     "model_module_version": "1.2.0",
     "model_name": "LayoutModel",
     "state": {
      "_model_module": "@jupyter-widgets/base",
      "_model_module_version": "1.2.0",
      "_model_name": "LayoutModel",
      "_view_count": null,
      "_view_module": "@jupyter-widgets/base",
      "_view_module_version": "1.2.0",
      "_view_name": "LayoutView",
      "align_content": null,
      "align_items": null,
      "align_self": null,
      "border": null,
      "bottom": null,
      "display": null,
      "flex": null,
      "flex_flow": null,
      "grid_area": null,
      "grid_auto_columns": null,
      "grid_auto_flow": null,
      "grid_auto_rows": null,
      "grid_column": null,
      "grid_gap": null,
      "grid_row": null,
      "grid_template_areas": null,
      "grid_template_columns": null,
      "grid_template_rows": null,
      "height": null,
      "justify_content": null,
      "justify_items": null,
      "left": null,
      "margin": null,
      "max_height": null,
      "max_width": null,
      "min_height": null,
      "min_width": null,
      "object_fit": null,
      "object_position": null,
      "order": null,
      "overflow": null,
      "overflow_x": null,
      "overflow_y": null,
      "padding": null,
      "right": null,
      "top": null,
      "visibility": null,
      "width": null
     }
    },
    "3a9a5cc856e742979ccafec61197dfd7": {
     "model_module": "@jupyter-widgets/controls",
     "model_module_version": "1.5.0",
     "model_name": "FloatProgressModel",
     "state": {
      "_dom_classes": [],
      "_model_module": "@jupyter-widgets/controls",
      "_model_module_version": "1.5.0",
      "_model_name": "FloatProgressModel",
      "_view_count": null,
      "_view_module": "@jupyter-widgets/controls",
      "_view_module_version": "1.5.0",
      "_view_name": "ProgressView",
      "bar_style": "success",
      "description": "",
      "description_tooltip": null,
      "layout": "IPY_MODEL_8eb130a3a17f4a6abf258f87f3b85f15",
      "max": 1,
      "min": 0,
      "orientation": "horizontal",
      "style": "IPY_MODEL_73e0390e150c4dfdb4c2fbdd313c7c87",
      "value": 1
     }
    },
    "3cc7ad297f2b45d89be218f6c59a099d": {
     "model_module": "@jupyter-widgets/controls",
     "model_module_version": "1.5.0",
     "model_name": "FloatProgressModel",
     "state": {
      "_dom_classes": [],
      "_model_module": "@jupyter-widgets/controls",
      "_model_module_version": "1.5.0",
      "_model_name": "FloatProgressModel",
      "_view_count": null,
      "_view_module": "@jupyter-widgets/controls",
      "_view_module_version": "1.5.0",
      "_view_name": "ProgressView",
      "bar_style": "success",
      "description": "",
      "description_tooltip": null,
      "layout": "IPY_MODEL_bde0c5481a794167bfb9edda6beb4835",
      "max": 350,
      "min": 0,
      "orientation": "horizontal",
      "style": "IPY_MODEL_c6052a30f02e4ed5a551e510fd1967f0",
      "value": 350
     }
    },
    "3ecd3d30427949d8b059435f8adf59f5": {
     "model_module": "@jupyter-widgets/base",
     "model_module_version": "1.2.0",
     "model_name": "LayoutModel",
     "state": {
      "_model_module": "@jupyter-widgets/base",
      "_model_module_version": "1.2.0",
      "_model_name": "LayoutModel",
      "_view_count": null,
      "_view_module": "@jupyter-widgets/base",
      "_view_module_version": "1.2.0",
      "_view_name": "LayoutView",
      "align_content": null,
      "align_items": null,
      "align_self": null,
      "border": null,
      "bottom": null,
      "display": null,
      "flex": null,
      "flex_flow": null,
      "grid_area": null,
      "grid_auto_columns": null,
      "grid_auto_flow": null,
      "grid_auto_rows": null,
      "grid_column": null,
      "grid_gap": null,
      "grid_row": null,
      "grid_template_areas": null,
      "grid_template_columns": null,
      "grid_template_rows": null,
      "height": null,
      "justify_content": null,
      "justify_items": null,
      "left": null,
      "margin": null,
      "max_height": null,
      "max_width": null,
      "min_height": null,
      "min_width": null,
      "object_fit": null,
      "object_position": null,
      "order": null,
      "overflow": null,
      "overflow_x": null,
      "overflow_y": null,
      "padding": null,
      "right": null,
      "top": null,
      "visibility": null,
      "width": null
     }
    },
    "3f9420145b0146b78508e2ca4a795cfe": {
     "model_module": "@jupyter-widgets/base",
     "model_module_version": "1.2.0",
     "model_name": "LayoutModel",
     "state": {
      "_model_module": "@jupyter-widgets/base",
      "_model_module_version": "1.2.0",
      "_model_name": "LayoutModel",
      "_view_count": null,
      "_view_module": "@jupyter-widgets/base",
      "_view_module_version": "1.2.0",
      "_view_name": "LayoutView",
      "align_content": null,
      "align_items": null,
      "align_self": null,
      "border": null,
      "bottom": null,
      "display": null,
      "flex": null,
      "flex_flow": null,
      "grid_area": null,
      "grid_auto_columns": null,
      "grid_auto_flow": null,
      "grid_auto_rows": null,
      "grid_column": null,
      "grid_gap": null,
      "grid_row": null,
      "grid_template_areas": null,
      "grid_template_columns": null,
      "grid_template_rows": null,
      "height": null,
      "justify_content": null,
      "justify_items": null,
      "left": null,
      "margin": null,
      "max_height": null,
      "max_width": null,
      "min_height": null,
      "min_width": null,
      "object_fit": null,
      "object_position": null,
      "order": null,
      "overflow": null,
      "overflow_x": null,
      "overflow_y": null,
      "padding": null,
      "right": null,
      "top": null,
      "visibility": null,
      "width": null
     }
    },
    "45cdb7ea45504b079502ad1bf56f2c34": {
     "model_module": "@jupyter-widgets/controls",
     "model_module_version": "1.5.0",
     "model_name": "HTMLModel",
     "state": {
      "_dom_classes": [],
      "_model_module": "@jupyter-widgets/controls",
      "_model_module_version": "1.5.0",
      "_model_name": "HTMLModel",
      "_view_count": null,
      "_view_module": "@jupyter-widgets/controls",
      "_view_module_version": "1.5.0",
      "_view_name": "HTMLView",
      "description": "",
      "description_tooltip": null,
      "layout": "IPY_MODEL_768178015fb94f4eabaa62333e075dc1",
      "placeholder": "​",
      "style": "IPY_MODEL_e2f84a9049c940de880e5407099a9ab8",
      "value": "tokenizer.json: "
     }
    },
    "472747eae6e144a8a002156079e47bff": {
     "model_module": "@jupyter-widgets/controls",
     "model_module_version": "1.5.0",
     "model_name": "ProgressStyleModel",
     "state": {
      "_model_module": "@jupyter-widgets/controls",
      "_model_module_version": "1.5.0",
      "_model_name": "ProgressStyleModel",
      "_view_count": null,
      "_view_module": "@jupyter-widgets/base",
      "_view_module_version": "1.2.0",
      "_view_name": "StyleView",
      "bar_color": null,
      "description_width": ""
     }
    },
    "4dccd330990f4064803e17d920f40ef8": {
     "model_module": "@jupyter-widgets/controls",
     "model_module_version": "1.5.0",
     "model_name": "FloatProgressModel",
     "state": {
      "_dom_classes": [],
      "_model_module": "@jupyter-widgets/controls",
      "_model_module_version": "1.5.0",
      "_model_name": "FloatProgressModel",
      "_view_count": null,
      "_view_module": "@jupyter-widgets/controls",
      "_view_module_version": "1.5.0",
      "_view_name": "ProgressView",
      "bar_style": "success",
      "description": "",
      "description_tooltip": null,
      "layout": "IPY_MODEL_64b9d46c9cb74284a4445ca5617cecae",
      "max": 1,
      "min": 0,
      "orientation": "horizontal",
      "style": "IPY_MODEL_472747eae6e144a8a002156079e47bff",
      "value": 1
     }
    },
    "51899b34d7df41e59b38b26ed562c2b5": {
     "model_module": "@jupyter-widgets/controls",
     "model_module_version": "1.5.0",
     "model_name": "ProgressStyleModel",
     "state": {
      "_model_module": "@jupyter-widgets/controls",
      "_model_module_version": "1.5.0",
      "_model_name": "ProgressStyleModel",
      "_view_count": null,
      "_view_module": "@jupyter-widgets/base",
      "_view_module_version": "1.2.0",
      "_view_name": "StyleView",
      "bar_color": null,
      "description_width": ""
     }
    },
    "537b6e9736894950a1a8c8dbeaa6c571": {
     "model_module": "@jupyter-widgets/controls",
     "model_module_version": "1.5.0",
     "model_name": "HTMLModel",
     "state": {
      "_dom_classes": [],
      "_model_module": "@jupyter-widgets/controls",
      "_model_module_version": "1.5.0",
      "_model_name": "HTMLModel",
      "_view_count": null,
      "_view_module": "@jupyter-widgets/controls",
      "_view_module_version": "1.5.0",
      "_view_name": "HTMLView",
      "description": "",
      "description_tooltip": null,
      "layout": "IPY_MODEL_7b3a8fe9ad9343fab52356c170f66aa9",
      "placeholder": "​",
      "style": "IPY_MODEL_5eca66959dde4db487b78b29de60a224",
      "value": " 90.9M/90.9M [00:01&lt;00:00, 120MB/s]"
     }
    },
    "590abaeb465645be8a33b0eaf1880c4b": {
     "model_module": "@jupyter-widgets/base",
     "model_module_version": "1.2.0",
     "model_name": "LayoutModel",
     "state": {
      "_model_module": "@jupyter-widgets/base",
      "_model_module_version": "1.2.0",
      "_model_name": "LayoutModel",
      "_view_count": null,
      "_view_module": "@jupyter-widgets/base",
      "_view_module_version": "1.2.0",
      "_view_name": "LayoutView",
      "align_content": null,
      "align_items": null,
      "align_self": null,
      "border": null,
      "bottom": null,
      "display": null,
      "flex": null,
      "flex_flow": null,
      "grid_area": null,
      "grid_auto_columns": null,
      "grid_auto_flow": null,
      "grid_auto_rows": null,
      "grid_column": null,
      "grid_gap": null,
      "grid_row": null,
      "grid_template_areas": null,
      "grid_template_columns": null,
      "grid_template_rows": null,
      "height": null,
      "justify_content": null,
      "justify_items": null,
      "left": null,
      "margin": null,
      "max_height": null,
      "max_width": null,
      "min_height": null,
      "min_width": null,
      "object_fit": null,
      "object_position": null,
      "order": null,
      "overflow": null,
      "overflow_x": null,
      "overflow_y": null,
      "padding": null,
      "right": null,
      "top": null,
      "visibility": null,
      "width": null
     }
    },
    "5a74b5e9851b49d0821bbb4b06cefe1c": {
     "model_module": "@jupyter-widgets/controls",
     "model_module_version": "1.5.0",
     "model_name": "DescriptionStyleModel",
     "state": {
      "_model_module": "@jupyter-widgets/controls",
      "_model_module_version": "1.5.0",
      "_model_name": "DescriptionStyleModel",
      "_view_count": null,
      "_view_module": "@jupyter-widgets/base",
      "_view_module_version": "1.2.0",
      "_view_name": "StyleView",
      "description_width": ""
     }
    },
    "5eca66959dde4db487b78b29de60a224": {
     "model_module": "@jupyter-widgets/controls",
     "model_module_version": "1.5.0",
     "model_name": "DescriptionStyleModel",
     "state": {
      "_model_module": "@jupyter-widgets/controls",
      "_model_module_version": "1.5.0",
      "_model_name": "DescriptionStyleModel",
      "_view_count": null,
      "_view_module": "@jupyter-widgets/base",
      "_view_module_version": "1.2.0",
      "_view_name": "StyleView",
      "description_width": ""
     }
    },
    "5ee0e4b681eb457c86fc61b4383f4329": {
     "model_module": "@jupyter-widgets/controls",
     "model_module_version": "1.5.0",
     "model_name": "FloatProgressModel",
     "state": {
      "_dom_classes": [],
      "_model_module": "@jupyter-widgets/controls",
      "_model_module_version": "1.5.0",
      "_model_name": "FloatProgressModel",
      "_view_count": null,
      "_view_module": "@jupyter-widgets/controls",
      "_view_module_version": "1.5.0",
      "_view_name": "ProgressView",
      "bar_style": "success",
      "description": "",
      "description_tooltip": null,
      "layout": "IPY_MODEL_cc3d9a0610394dd5a7fd217d62244bf5",
      "max": 612,
      "min": 0,
      "orientation": "horizontal",
      "style": "IPY_MODEL_d876b0c1796e4991be69a81cb5d53ebc",
      "value": 612
     }
    },
    "64b9d46c9cb74284a4445ca5617cecae": {
     "model_module": "@jupyter-widgets/base",
     "model_module_version": "1.2.0",
     "model_name": "LayoutModel",
     "state": {
      "_model_module": "@jupyter-widgets/base",
      "_model_module_version": "1.2.0",
      "_model_name": "LayoutModel",
      "_view_count": null,
      "_view_module": "@jupyter-widgets/base",
      "_view_module_version": "1.2.0",
      "_view_name": "LayoutView",
      "align_content": null,
      "align_items": null,
      "align_self": null,
      "border": null,
      "bottom": null,
      "display": null,
      "flex": null,
      "flex_flow": null,
      "grid_area": null,
      "grid_auto_columns": null,
      "grid_auto_flow": null,
      "grid_auto_rows": null,
      "grid_column": null,
      "grid_gap": null,
      "grid_row": null,
      "grid_template_areas": null,
      "grid_template_columns": null,
      "grid_template_rows": null,
      "height": null,
      "justify_content": null,
      "justify_items": null,
      "left": null,
      "margin": null,
      "max_height": null,
      "max_width": null,
      "min_height": null,
      "min_width": null,
      "object_fit": null,
      "object_position": null,
      "order": null,
      "overflow": null,
      "overflow_x": null,
      "overflow_y": null,
      "padding": null,
      "right": null,
      "top": null,
      "visibility": null,
      "width": "20px"
     }
    },
    "73e0390e150c4dfdb4c2fbdd313c7c87": {
     "model_module": "@jupyter-widgets/controls",
     "model_module_version": "1.5.0",
     "model_name": "ProgressStyleModel",
     "state": {
      "_model_module": "@jupyter-widgets/controls",
      "_model_module_version": "1.5.0",
      "_model_name": "ProgressStyleModel",
      "_view_count": null,
      "_view_module": "@jupyter-widgets/base",
      "_view_module_version": "1.2.0",
      "_view_name": "StyleView",
      "bar_color": null,
      "description_width": ""
     }
    },
    "768178015fb94f4eabaa62333e075dc1": {
     "model_module": "@jupyter-widgets/base",
     "model_module_version": "1.2.0",
     "model_name": "LayoutModel",
     "state": {
      "_model_module": "@jupyter-widgets/base",
      "_model_module_version": "1.2.0",
      "_model_name": "LayoutModel",
      "_view_count": null,
      "_view_module": "@jupyter-widgets/base",
      "_view_module_version": "1.2.0",
      "_view_name": "LayoutView",
      "align_content": null,
      "align_items": null,
      "align_self": null,
      "border": null,
      "bottom": null,
      "display": null,
      "flex": null,
      "flex_flow": null,
      "grid_area": null,
      "grid_auto_columns": null,
      "grid_auto_flow": null,
      "grid_auto_rows": null,
      "grid_column": null,
      "grid_gap": null,
      "grid_row": null,
      "grid_template_areas": null,
      "grid_template_columns": null,
      "grid_template_rows": null,
      "height": null,
      "justify_content": null,
      "justify_items": null,
      "left": null,
      "margin": null,
      "max_height": null,
      "max_width": null,
      "min_height": null,
      "min_width": null,
      "object_fit": null,
      "object_position": null,
      "order": null,
      "overflow": null,
      "overflow_x": null,
      "overflow_y": null,
      "padding": null,
      "right": null,
      "top": null,
      "visibility": null,
      "width": null
     }
    },
    "7b3a8fe9ad9343fab52356c170f66aa9": {
     "model_module": "@jupyter-widgets/base",
     "model_module_version": "1.2.0",
     "model_name": "LayoutModel",
     "state": {
      "_model_module": "@jupyter-widgets/base",
      "_model_module_version": "1.2.0",
      "_model_name": "LayoutModel",
      "_view_count": null,
      "_view_module": "@jupyter-widgets/base",
      "_view_module_version": "1.2.0",
      "_view_name": "LayoutView",
      "align_content": null,
      "align_items": null,
      "align_self": null,
      "border": null,
      "bottom": null,
      "display": null,
      "flex": null,
      "flex_flow": null,
      "grid_area": null,
      "grid_auto_columns": null,
      "grid_auto_flow": null,
      "grid_auto_rows": null,
      "grid_column": null,
      "grid_gap": null,
      "grid_row": null,
      "grid_template_areas": null,
      "grid_template_columns": null,
      "grid_template_rows": null,
      "height": null,
      "justify_content": null,
      "justify_items": null,
      "left": null,
      "margin": null,
      "max_height": null,
      "max_width": null,
      "min_height": null,
      "min_width": null,
      "object_fit": null,
      "object_position": null,
      "order": null,
      "overflow": null,
      "overflow_x": null,
      "overflow_y": null,
      "padding": null,
      "right": null,
      "top": null,
      "visibility": null,
      "width": null
     }
    },
    "7d4955dc784a4d4f9216543a92b39742": {
     "model_module": "@jupyter-widgets/base",
     "model_module_version": "1.2.0",
     "model_name": "LayoutModel",
     "state": {
      "_model_module": "@jupyter-widgets/base",
      "_model_module_version": "1.2.0",
      "_model_name": "LayoutModel",
      "_view_count": null,
      "_view_module": "@jupyter-widgets/base",
      "_view_module_version": "1.2.0",
      "_view_name": "LayoutView",
      "align_content": null,
      "align_items": null,
      "align_self": null,
      "border": null,
      "bottom": null,
      "display": null,
      "flex": null,
      "flex_flow": null,
      "grid_area": null,
      "grid_auto_columns": null,
      "grid_auto_flow": null,
      "grid_auto_rows": null,
      "grid_column": null,
      "grid_gap": null,
      "grid_row": null,
      "grid_template_areas": null,
      "grid_template_columns": null,
      "grid_template_rows": null,
      "height": null,
      "justify_content": null,
      "justify_items": null,
      "left": null,
      "margin": null,
      "max_height": null,
      "max_width": null,
      "min_height": null,
      "min_width": null,
      "object_fit": null,
      "object_position": null,
      "order": null,
      "overflow": null,
      "overflow_x": null,
      "overflow_y": null,
      "padding": null,
      "right": null,
      "top": null,
      "visibility": null,
      "width": null
     }
    },
    "806e2a41105a41be864e371e80cf96b8": {
     "model_module": "@jupyter-widgets/base",
     "model_module_version": "1.2.0",
     "model_name": "LayoutModel",
     "state": {
      "_model_module": "@jupyter-widgets/base",
      "_model_module_version": "1.2.0",
      "_model_name": "LayoutModel",
      "_view_count": null,
      "_view_module": "@jupyter-widgets/base",
      "_view_module_version": "1.2.0",
      "_view_name": "LayoutView",
      "align_content": null,
      "align_items": null,
      "align_self": null,
      "border": null,
      "bottom": null,
      "display": null,
      "flex": null,
      "flex_flow": null,
      "grid_area": null,
      "grid_auto_columns": null,
      "grid_auto_flow": null,
      "grid_auto_rows": null,
      "grid_column": null,
      "grid_gap": null,
      "grid_row": null,
      "grid_template_areas": null,
      "grid_template_columns": null,
      "grid_template_rows": null,
      "height": null,
      "justify_content": null,
      "justify_items": null,
      "left": null,
      "margin": null,
      "max_height": null,
      "max_width": null,
      "min_height": null,
      "min_width": null,
      "object_fit": null,
      "object_position": null,
      "order": null,
      "overflow": null,
      "overflow_x": null,
      "overflow_y": null,
      "padding": null,
      "right": null,
      "top": null,
      "visibility": null,
      "width": null
     }
    },
    "832eeed851484b80bd492a6df6566fe8": {
     "model_module": "@jupyter-widgets/controls",
     "model_module_version": "1.5.0",
     "model_name": "HTMLModel",
     "state": {
      "_dom_classes": [],
      "_model_module": "@jupyter-widgets/controls",
      "_model_module_version": "1.5.0",
      "_model_name": "HTMLModel",
      "_view_count": null,
      "_view_module": "@jupyter-widgets/controls",
      "_view_module_version": "1.5.0",
      "_view_name": "HTMLView",
      "description": "",
      "description_tooltip": null,
      "layout": "IPY_MODEL_390f51da712c410992809f79906898c0",
      "placeholder": "​",
      "style": "IPY_MODEL_063bdc6d249a4849b21b752381c9339f",
      "value": " 232k/? [00:00&lt;00:00, 9.79MB/s]"
     }
    },
    "83d123e8aa2947a0ab88d302dfd0650c": {
     "model_module": "@jupyter-widgets/controls",
     "model_module_version": "1.5.0",
     "model_name": "DescriptionStyleModel",
     "state": {
      "_model_module": "@jupyter-widgets/controls",
      "_model_module_version": "1.5.0",
      "_model_name": "DescriptionStyleModel",
      "_view_count": null,
      "_view_module": "@jupyter-widgets/base",
      "_view_module_version": "1.2.0",
      "_view_name": "StyleView",
      "description_width": ""
     }
    },
    "8a7c19c8fe3f479a84247473bf4bc756": {
     "model_module": "@jupyter-widgets/controls",
     "model_module_version": "1.5.0",
     "model_name": "HTMLModel",
     "state": {
      "_dom_classes": [],
      "_model_module": "@jupyter-widgets/controls",
      "_model_module_version": "1.5.0",
      "_model_name": "HTMLModel",
      "_view_count": null,
      "_view_module": "@jupyter-widgets/controls",
      "_view_module_version": "1.5.0",
      "_view_name": "HTMLView",
      "description": "",
      "description_tooltip": null,
      "layout": "IPY_MODEL_bc8aa9fc2d654b46a57ae0a7460a7bc3",
      "placeholder": "​",
      "style": "IPY_MODEL_2c450b81e52a457a938b9e725b47741e",
      "value": " 350/350 [00:00&lt;00:00, 21.0kB/s]"
     }
    },
    "8eb130a3a17f4a6abf258f87f3b85f15": {
     "model_module": "@jupyter-widgets/base",
     "model_module_version": "1.2.0",
     "model_name": "LayoutModel",
     "state": {
      "_model_module": "@jupyter-widgets/base",
      "_model_module_version": "1.2.0",
      "_model_name": "LayoutModel",
      "_view_count": null,
      "_view_module": "@jupyter-widgets/base",
      "_view_module_version": "1.2.0",
      "_view_name": "LayoutView",
      "align_content": null,
      "align_items": null,
      "align_self": null,
      "border": null,
      "bottom": null,
      "display": null,
      "flex": null,
      "flex_flow": null,
      "grid_area": null,
      "grid_auto_columns": null,
      "grid_auto_flow": null,
      "grid_auto_rows": null,
      "grid_column": null,
      "grid_gap": null,
      "grid_row": null,
      "grid_template_areas": null,
      "grid_template_columns": null,
      "grid_template_rows": null,
      "height": null,
      "justify_content": null,
      "justify_items": null,
      "left": null,
      "margin": null,
      "max_height": null,
      "max_width": null,
      "min_height": null,
      "min_width": null,
      "object_fit": null,
      "object_position": null,
      "order": null,
      "overflow": null,
      "overflow_x": null,
      "overflow_y": null,
      "padding": null,
      "right": null,
      "top": null,
      "visibility": null,
      "width": "20px"
     }
    },
    "9d290774c1e44686a4bfd449a5526140": {
     "model_module": "@jupyter-widgets/controls",
     "model_module_version": "1.5.0",
     "model_name": "DescriptionStyleModel",
     "state": {
      "_model_module": "@jupyter-widgets/controls",
      "_model_module_version": "1.5.0",
      "_model_name": "DescriptionStyleModel",
      "_view_count": null,
      "_view_module": "@jupyter-widgets/base",
      "_view_module_version": "1.2.0",
      "_view_name": "StyleView",
      "description_width": ""
     }
    },
    "9eb8511e48dd4058824a2b0df4d0384a": {
     "model_module": "@jupyter-widgets/controls",
     "model_module_version": "1.5.0",
     "model_name": "HTMLModel",
     "state": {
      "_dom_classes": [],
      "_model_module": "@jupyter-widgets/controls",
      "_model_module_version": "1.5.0",
      "_model_name": "HTMLModel",
      "_view_count": null,
      "_view_module": "@jupyter-widgets/controls",
      "_view_module_version": "1.5.0",
      "_view_name": "HTMLView",
      "description": "",
      "description_tooltip": null,
      "layout": "IPY_MODEL_3ecd3d30427949d8b059435f8adf59f5",
      "placeholder": "​",
      "style": "IPY_MODEL_a852f740a9cd436a83474fd54b1276bc",
      "value": " 112/112 [00:00&lt;00:00, 8.98kB/s]"
     }
    },
    "a0a2a8b1969d4309b0fb0bf995d4a3aa": {
     "model_module": "@jupyter-widgets/base",
     "model_module_version": "1.2.0",
     "model_name": "LayoutModel",
     "state": {
      "_model_module": "@jupyter-widgets/base",
      "_model_module_version": "1.2.0",
      "_model_name": "LayoutModel",
      "_view_count": null,
      "_view_module": "@jupyter-widgets/base",
      "_view_module_version": "1.2.0",
      "_view_name": "LayoutView",
      "align_content": null,
      "align_items": null,
      "align_self": null,
      "border": null,
      "bottom": null,
      "display": null,
      "flex": null,
      "flex_flow": null,
      "grid_area": null,
      "grid_auto_columns": null,
      "grid_auto_flow": null,
      "grid_auto_rows": null,
      "grid_column": null,
      "grid_gap": null,
      "grid_row": null,
      "grid_template_areas": null,
      "grid_template_columns": null,
      "grid_template_rows": null,
      "height": null,
      "justify_content": null,
      "justify_items": null,
      "left": null,
      "margin": null,
      "max_height": null,
      "max_width": null,
      "min_height": null,
      "min_width": null,
      "object_fit": null,
      "object_position": null,
      "order": null,
      "overflow": null,
      "overflow_x": null,
      "overflow_y": null,
      "padding": null,
      "right": null,
      "top": null,
      "visibility": null,
      "width": null
     }
    },
    "a852f740a9cd436a83474fd54b1276bc": {
     "model_module": "@jupyter-widgets/controls",
     "model_module_version": "1.5.0",
     "model_name": "DescriptionStyleModel",
     "state": {
      "_model_module": "@jupyter-widgets/controls",
      "_model_module_version": "1.5.0",
      "_model_name": "DescriptionStyleModel",
      "_view_count": null,
      "_view_module": "@jupyter-widgets/base",
      "_view_module_version": "1.2.0",
      "_view_name": "StyleView",
      "description_width": ""
     }
    },
    "bc8aa9fc2d654b46a57ae0a7460a7bc3": {
     "model_module": "@jupyter-widgets/base",
     "model_module_version": "1.2.0",
     "model_name": "LayoutModel",
     "state": {
      "_model_module": "@jupyter-widgets/base",
      "_model_module_version": "1.2.0",
      "_model_name": "LayoutModel",
      "_view_count": null,
      "_view_module": "@jupyter-widgets/base",
      "_view_module_version": "1.2.0",
      "_view_name": "LayoutView",
      "align_content": null,
      "align_items": null,
      "align_self": null,
      "border": null,
      "bottom": null,
      "display": null,
      "flex": null,
      "flex_flow": null,
      "grid_area": null,
      "grid_auto_columns": null,
      "grid_auto_flow": null,
      "grid_auto_rows": null,
      "grid_column": null,
      "grid_gap": null,
      "grid_row": null,
      "grid_template_areas": null,
      "grid_template_columns": null,
      "grid_template_rows": null,
      "height": null,
      "justify_content": null,
      "justify_items": null,
      "left": null,
      "margin": null,
      "max_height": null,
      "max_width": null,
      "min_height": null,
      "min_width": null,
      "object_fit": null,
      "object_position": null,
      "order": null,
      "overflow": null,
      "overflow_x": null,
      "overflow_y": null,
      "padding": null,
      "right": null,
      "top": null,
      "visibility": null,
      "width": null
     }
    },
    "bd09cdc6980b4843bb5e5bf09584d3a2": {
     "model_module": "@jupyter-widgets/base",
     "model_module_version": "1.2.0",
     "model_name": "LayoutModel",
     "state": {
      "_model_module": "@jupyter-widgets/base",
      "_model_module_version": "1.2.0",
      "_model_name": "LayoutModel",
      "_view_count": null,
      "_view_module": "@jupyter-widgets/base",
      "_view_module_version": "1.2.0",
      "_view_name": "LayoutView",
      "align_content": null,
      "align_items": null,
      "align_self": null,
      "border": null,
      "bottom": null,
      "display": null,
      "flex": null,
      "flex_flow": null,
      "grid_area": null,
      "grid_auto_columns": null,
      "grid_auto_flow": null,
      "grid_auto_rows": null,
      "grid_column": null,
      "grid_gap": null,
      "grid_row": null,
      "grid_template_areas": null,
      "grid_template_columns": null,
      "grid_template_rows": null,
      "height": null,
      "justify_content": null,
      "justify_items": null,
      "left": null,
      "margin": null,
      "max_height": null,
      "max_width": null,
      "min_height": null,
      "min_width": null,
      "object_fit": null,
      "object_position": null,
      "order": null,
      "overflow": null,
      "overflow_x": null,
      "overflow_y": null,
      "padding": null,
      "right": null,
      "top": null,
      "visibility": null,
      "width": null
     }
    },
    "bde0c5481a794167bfb9edda6beb4835": {
     "model_module": "@jupyter-widgets/base",
     "model_module_version": "1.2.0",
     "model_name": "LayoutModel",
     "state": {
      "_model_module": "@jupyter-widgets/base",
      "_model_module_version": "1.2.0",
      "_model_name": "LayoutModel",
      "_view_count": null,
      "_view_module": "@jupyter-widgets/base",
      "_view_module_version": "1.2.0",
      "_view_name": "LayoutView",
      "align_content": null,
      "align_items": null,
      "align_self": null,
      "border": null,
      "bottom": null,
      "display": null,
      "flex": null,
      "flex_flow": null,
      "grid_area": null,
      "grid_auto_columns": null,
      "grid_auto_flow": null,
      "grid_auto_rows": null,
      "grid_column": null,
      "grid_gap": null,
      "grid_row": null,
      "grid_template_areas": null,
      "grid_template_columns": null,
      "grid_template_rows": null,
      "height": null,
      "justify_content": null,
      "justify_items": null,
      "left": null,
      "margin": null,
      "max_height": null,
      "max_width": null,
      "min_height": null,
      "min_width": null,
      "object_fit": null,
      "object_position": null,
      "order": null,
      "overflow": null,
      "overflow_x": null,
      "overflow_y": null,
      "padding": null,
      "right": null,
      "top": null,
      "visibility": null,
      "width": null
     }
    },
    "c3d9efeea92243b2ae2b1d866b32ee9f": {
     "model_module": "@jupyter-widgets/controls",
     "model_module_version": "1.5.0",
     "model_name": "HTMLModel",
     "state": {
      "_dom_classes": [],
      "_model_module": "@jupyter-widgets/controls",
      "_model_module_version": "1.5.0",
      "_model_name": "HTMLModel",
      "_view_count": null,
      "_view_module": "@jupyter-widgets/controls",
      "_view_module_version": "1.5.0",
      "_view_name": "HTMLView",
      "description": "",
      "description_tooltip": null,
      "layout": "IPY_MODEL_260cb94366b343e7bd38b6ef2b990d53",
      "placeholder": "​",
      "style": "IPY_MODEL_0b25a001834345ff87f0da0149a31e4b",
      "value": "tokenizer_config.json: 100%"
     }
    },
    "c474c3230579424cb3799433cafa8bad": {
     "model_module": "@jupyter-widgets/controls",
     "model_module_version": "1.5.0",
     "model_name": "DescriptionStyleModel",
     "state": {
      "_model_module": "@jupyter-widgets/controls",
      "_model_module_version": "1.5.0",
      "_model_name": "DescriptionStyleModel",
      "_view_count": null,
      "_view_module": "@jupyter-widgets/base",
      "_view_module_version": "1.2.0",
      "_view_name": "StyleView",
      "description_width": ""
     }
    },
    "c6052a30f02e4ed5a551e510fd1967f0": {
     "model_module": "@jupyter-widgets/controls",
     "model_module_version": "1.5.0",
     "model_name": "ProgressStyleModel",
     "state": {
      "_model_module": "@jupyter-widgets/controls",
      "_model_module_version": "1.5.0",
      "_model_name": "ProgressStyleModel",
      "_view_count": null,
      "_view_module": "@jupyter-widgets/base",
      "_view_module_version": "1.2.0",
      "_view_name": "StyleView",
      "bar_color": null,
      "description_width": ""
     }
    },
    "c706c12671024f32be4c02bb0998cdd0": {
     "model_module": "@jupyter-widgets/controls",
     "model_module_version": "1.5.0",
     "model_name": "DescriptionStyleModel",
     "state": {
      "_model_module": "@jupyter-widgets/controls",
      "_model_module_version": "1.5.0",
      "_model_name": "DescriptionStyleModel",
      "_view_count": null,
      "_view_module": "@jupyter-widgets/base",
      "_view_module_version": "1.2.0",
      "_view_name": "StyleView",
      "description_width": ""
     }
    },
    "cb5cc073d6154858ad195328784d62ac": {
     "model_module": "@jupyter-widgets/controls",
     "model_module_version": "1.5.0",
     "model_name": "HTMLModel",
     "state": {
      "_dom_classes": [],
      "_model_module": "@jupyter-widgets/controls",
      "_model_module_version": "1.5.0",
      "_model_name": "HTMLModel",
      "_view_count": null,
      "_view_module": "@jupyter-widgets/controls",
      "_view_module_version": "1.5.0",
      "_view_name": "HTMLView",
      "description": "",
      "description_tooltip": null,
      "layout": "IPY_MODEL_a0a2a8b1969d4309b0fb0bf995d4a3aa",
      "placeholder": "​",
      "style": "IPY_MODEL_9d290774c1e44686a4bfd449a5526140",
      "value": "config.json: 100%"
     }
    },
    "cc3d9a0610394dd5a7fd217d62244bf5": {
     "model_module": "@jupyter-widgets/base",
     "model_module_version": "1.2.0",
     "model_name": "LayoutModel",
     "state": {
      "_model_module": "@jupyter-widgets/base",
      "_model_module_version": "1.2.0",
      "_model_name": "LayoutModel",
      "_view_count": null,
      "_view_module": "@jupyter-widgets/base",
      "_view_module_version": "1.2.0",
      "_view_name": "LayoutView",
      "align_content": null,
      "align_items": null,
      "align_self": null,
      "border": null,
      "bottom": null,
      "display": null,
      "flex": null,
      "flex_flow": null,
      "grid_area": null,
      "grid_auto_columns": null,
      "grid_auto_flow": null,
      "grid_auto_rows": null,
      "grid_column": null,
      "grid_gap": null,
      "grid_row": null,
      "grid_template_areas": null,
      "grid_template_columns": null,
      "grid_template_rows": null,
      "height": null,
      "justify_content": null,
      "justify_items": null,
      "left": null,
      "margin": null,
      "max_height": null,
      "max_width": null,
      "min_height": null,
      "min_width": null,
      "object_fit": null,
      "object_position": null,
      "order": null,
      "overflow": null,
      "overflow_x": null,
      "overflow_y": null,
      "padding": null,
      "right": null,
      "top": null,
      "visibility": null,
      "width": null
     }
    },
    "ce4596325a60435d8a6c0c76ce2dad3d": {
     "model_module": "@jupyter-widgets/controls",
     "model_module_version": "1.5.0",
     "model_name": "HTMLModel",
     "state": {
      "_dom_classes": [],
      "_model_module": "@jupyter-widgets/controls",
      "_model_module_version": "1.5.0",
      "_model_name": "HTMLModel",
      "_view_count": null,
      "_view_module": "@jupyter-widgets/controls",
      "_view_module_version": "1.5.0",
      "_view_name": "HTMLView",
      "description": "",
      "description_tooltip": null,
      "layout": "IPY_MODEL_2d2f199f01bd40149508516757523b57",
      "placeholder": "​",
      "style": "IPY_MODEL_83d123e8aa2947a0ab88d302dfd0650c",
      "value": "vocab.txt: "
     }
    },
    "d09f8b9f56624a7492dd55353b0f55fb": {
     "model_module": "@jupyter-widgets/controls",
     "model_module_version": "1.5.0",
     "model_name": "HBoxModel",
     "state": {
      "_dom_classes": [],
      "_model_module": "@jupyter-widgets/controls",
      "_model_module_version": "1.5.0",
      "_model_name": "HBoxModel",
      "_view_count": null,
      "_view_module": "@jupyter-widgets/controls",
      "_view_module_version": "1.5.0",
      "_view_name": "HBoxView",
      "box_style": "",
      "children": [
       "IPY_MODEL_45cdb7ea45504b079502ad1bf56f2c34",
       "IPY_MODEL_4dccd330990f4064803e17d920f40ef8",
       "IPY_MODEL_e21e8520b9bc48778207dc127e50ef9b"
      ],
      "layout": "IPY_MODEL_590abaeb465645be8a33b0eaf1880c4b"
     }
    },
    "d51493bfd4c84083a809a4ceaa550d76": {
     "model_module": "@jupyter-widgets/controls",
     "model_module_version": "1.5.0",
     "model_name": "HBoxModel",
     "state": {
      "_dom_classes": [],
      "_model_module": "@jupyter-widgets/controls",
      "_model_module_version": "1.5.0",
      "_model_name": "HBoxModel",
      "_view_count": null,
      "_view_module": "@jupyter-widgets/controls",
      "_view_module_version": "1.5.0",
      "_view_name": "HBoxView",
      "box_style": "",
      "children": [
       "IPY_MODEL_00aadd4a54d34f63aeee5c51f911fd48",
       "IPY_MODEL_dbd19aa348f0419cb0904281b613e43c",
       "IPY_MODEL_9eb8511e48dd4058824a2b0df4d0384a"
      ],
      "layout": "IPY_MODEL_088e44c2af084ba18010d5b4f8cad4d2"
     }
    },
    "d876b0c1796e4991be69a81cb5d53ebc": {
     "model_module": "@jupyter-widgets/controls",
     "model_module_version": "1.5.0",
     "model_name": "ProgressStyleModel",
     "state": {
      "_model_module": "@jupyter-widgets/controls",
      "_model_module_version": "1.5.0",
      "_model_name": "ProgressStyleModel",
      "_view_count": null,
      "_view_module": "@jupyter-widgets/base",
      "_view_module_version": "1.2.0",
      "_view_name": "StyleView",
      "bar_color": null,
      "description_width": ""
     }
    },
    "db3b977609494b788709a7e75efa9f38": {
     "model_module": "@jupyter-widgets/base",
     "model_module_version": "1.2.0",
     "model_name": "LayoutModel",
     "state": {
      "_model_module": "@jupyter-widgets/base",
      "_model_module_version": "1.2.0",
      "_model_name": "LayoutModel",
      "_view_count": null,
      "_view_module": "@jupyter-widgets/base",
      "_view_module_version": "1.2.0",
      "_view_name": "LayoutView",
      "align_content": null,
      "align_items": null,
      "align_self": null,
      "border": null,
      "bottom": null,
      "display": null,
      "flex": null,
      "flex_flow": null,
      "grid_area": null,
      "grid_auto_columns": null,
      "grid_auto_flow": null,
      "grid_auto_rows": null,
      "grid_column": null,
      "grid_gap": null,
      "grid_row": null,
      "grid_template_areas": null,
      "grid_template_columns": null,
      "grid_template_rows": null,
      "height": null,
      "justify_content": null,
      "justify_items": null,
      "left": null,
      "margin": null,
      "max_height": null,
      "max_width": null,
      "min_height": null,
      "min_width": null,
      "object_fit": null,
      "object_position": null,
      "order": null,
      "overflow": null,
      "overflow_x": null,
      "overflow_y": null,
      "padding": null,
      "right": null,
      "top": null,
      "visibility": null,
      "width": null
     }
    },
    "db7fcc9144c04d7da56e8ffd11cd9a4f": {
     "model_module": "@jupyter-widgets/controls",
     "model_module_version": "1.5.0",
     "model_name": "FloatProgressModel",
     "state": {
      "_dom_classes": [],
      "_model_module": "@jupyter-widgets/controls",
      "_model_module_version": "1.5.0",
      "_model_name": "FloatProgressModel",
      "_view_count": null,
      "_view_module": "@jupyter-widgets/controls",
      "_view_module_version": "1.5.0",
      "_view_name": "ProgressView",
      "bar_style": "success",
      "description": "",
      "description_tooltip": null,
      "layout": "IPY_MODEL_bd09cdc6980b4843bb5e5bf09584d3a2",
      "max": 90868376,
      "min": 0,
      "orientation": "horizontal",
      "style": "IPY_MODEL_0b3d65b4329a4d17b0d24f54b86410d8",
      "value": 90868376
     }
    },
    "dbd19aa348f0419cb0904281b613e43c": {
     "model_module": "@jupyter-widgets/controls",
     "model_module_version": "1.5.0",
     "model_name": "FloatProgressModel",
     "state": {
      "_dom_classes": [],
      "_model_module": "@jupyter-widgets/controls",
      "_model_module_version": "1.5.0",
      "_model_name": "FloatProgressModel",
      "_view_count": null,
      "_view_module": "@jupyter-widgets/controls",
      "_view_module_version": "1.5.0",
      "_view_name": "ProgressView",
      "bar_style": "success",
      "description": "",
      "description_tooltip": null,
      "layout": "IPY_MODEL_806e2a41105a41be864e371e80cf96b8",
      "max": 112,
      "min": 0,
      "orientation": "horizontal",
      "style": "IPY_MODEL_51899b34d7df41e59b38b26ed562c2b5",
      "value": 112
     }
    },
    "e216cc88317c4201a2493923925750b6": {
     "model_module": "@jupyter-widgets/controls",
     "model_module_version": "1.5.0",
     "model_name": "HBoxModel",
     "state": {
      "_dom_classes": [],
      "_model_module": "@jupyter-widgets/controls",
      "_model_module_version": "1.5.0",
      "_model_name": "HBoxModel",
      "_view_count": null,
      "_view_module": "@jupyter-widgets/controls",
      "_view_module_version": "1.5.0",
      "_view_name": "HBoxView",
      "box_style": "",
      "children": [
       "IPY_MODEL_c3d9efeea92243b2ae2b1d866b32ee9f",
       "IPY_MODEL_3cc7ad297f2b45d89be218f6c59a099d",
       "IPY_MODEL_8a7c19c8fe3f479a84247473bf4bc756"
      ],
      "layout": "IPY_MODEL_3f9420145b0146b78508e2ca4a795cfe"
     }
    },
    "e21e8520b9bc48778207dc127e50ef9b": {
     "model_module": "@jupyter-widgets/controls",
     "model_module_version": "1.5.0",
     "model_name": "HTMLModel",
     "state": {
      "_dom_classes": [],
      "_model_module": "@jupyter-widgets/controls",
      "_model_module_version": "1.5.0",
      "_model_name": "HTMLModel",
      "_view_count": null,
      "_view_module": "@jupyter-widgets/controls",
      "_view_module_version": "1.5.0",
      "_view_name": "HTMLView",
      "description": "",
      "description_tooltip": null,
      "layout": "IPY_MODEL_20f50a3a5770492395f9e248241f61ae",
      "placeholder": "​",
      "style": "IPY_MODEL_0c45ead81161419b9b4fea01746f880e",
      "value": " 466k/? [00:00&lt;00:00, 19.3MB/s]"
     }
    },
    "e2f84a9049c940de880e5407099a9ab8": {
     "model_module": "@jupyter-widgets/controls",
     "model_module_version": "1.5.0",
     "model_name": "DescriptionStyleModel",
     "state": {
      "_model_module": "@jupyter-widgets/controls",
      "_model_module_version": "1.5.0",
      "_model_name": "DescriptionStyleModel",
      "_view_count": null,
      "_view_module": "@jupyter-widgets/base",
      "_view_module_version": "1.2.0",
      "_view_name": "StyleView",
      "description_width": ""
     }
    },
    "eb54c0af77ca4045a701381272359adc": {
     "model_module": "@jupyter-widgets/base",
     "model_module_version": "1.2.0",
     "model_name": "LayoutModel",
     "state": {
      "_model_module": "@jupyter-widgets/base",
      "_model_module_version": "1.2.0",
      "_model_name": "LayoutModel",
      "_view_count": null,
      "_view_module": "@jupyter-widgets/base",
      "_view_module_version": "1.2.0",
      "_view_name": "LayoutView",
      "align_content": null,
      "align_items": null,
      "align_self": null,
      "border": null,
      "bottom": null,
      "display": null,
      "flex": null,
      "flex_flow": null,
      "grid_area": null,
      "grid_auto_columns": null,
      "grid_auto_flow": null,
      "grid_auto_rows": null,
      "grid_column": null,
      "grid_gap": null,
      "grid_row": null,
      "grid_template_areas": null,
      "grid_template_columns": null,
      "grid_template_rows": null,
      "height": null,
      "justify_content": null,
      "justify_items": null,
      "left": null,
      "margin": null,
      "max_height": null,
      "max_width": null,
      "min_height": null,
      "min_width": null,
      "object_fit": null,
      "object_position": null,
      "order": null,
      "overflow": null,
      "overflow_x": null,
      "overflow_y": null,
      "padding": null,
      "right": null,
      "top": null,
      "visibility": null,
      "width": null
     }
    },
    "fa6b89b754004f59bbe2aaf1a9b5b43d": {
     "model_module": "@jupyter-widgets/base",
     "model_module_version": "1.2.0",
     "model_name": "LayoutModel",
     "state": {
      "_model_module": "@jupyter-widgets/base",
      "_model_module_version": "1.2.0",
      "_model_name": "LayoutModel",
      "_view_count": null,
      "_view_module": "@jupyter-widgets/base",
      "_view_module_version": "1.2.0",
      "_view_name": "LayoutView",
      "align_content": null,
      "align_items": null,
      "align_self": null,
      "border": null,
      "bottom": null,
      "display": null,
      "flex": null,
      "flex_flow": null,
      "grid_area": null,
      "grid_auto_columns": null,
      "grid_auto_flow": null,
      "grid_auto_rows": null,
      "grid_column": null,
      "grid_gap": null,
      "grid_row": null,
      "grid_template_areas": null,
      "grid_template_columns": null,
      "grid_template_rows": null,
      "height": null,
      "justify_content": null,
      "justify_items": null,
      "left": null,
      "margin": null,
      "max_height": null,
      "max_width": null,
      "min_height": null,
      "min_width": null,
      "object_fit": null,
      "object_position": null,
      "order": null,
      "overflow": null,
      "overflow_x": null,
      "overflow_y": null,
      "padding": null,
      "right": null,
      "top": null,
      "visibility": null,
      "width": null
     }
    },
    "fb0d0416695d491ea92cf8bf8c70f167": {
     "model_module": "@jupyter-widgets/base",
     "model_module_version": "1.2.0",
     "model_name": "LayoutModel",
     "state": {
      "_model_module": "@jupyter-widgets/base",
      "_model_module_version": "1.2.0",
      "_model_name": "LayoutModel",
      "_view_count": null,
      "_view_module": "@jupyter-widgets/base",
      "_view_module_version": "1.2.0",
      "_view_name": "LayoutView",
      "align_content": null,
      "align_items": null,
      "align_self": null,
      "border": null,
      "bottom": null,
      "display": null,
      "flex": null,
      "flex_flow": null,
      "grid_area": null,
      "grid_auto_columns": null,
      "grid_auto_flow": null,
      "grid_auto_rows": null,
      "grid_column": null,
      "grid_gap": null,
      "grid_row": null,
      "grid_template_areas": null,
      "grid_template_columns": null,
      "grid_template_rows": null,
      "height": null,
      "justify_content": null,
      "justify_items": null,
      "left": null,
      "margin": null,
      "max_height": null,
      "max_width": null,
      "min_height": null,
      "min_width": null,
      "object_fit": null,
      "object_position": null,
      "order": null,
      "overflow": null,
      "overflow_x": null,
      "overflow_y": null,
      "padding": null,
      "right": null,
      "top": null,
      "visibility": null,
      "width": null
     }
    }
   }
  }
 },
 "nbformat": 4,
 "nbformat_minor": 0
}
